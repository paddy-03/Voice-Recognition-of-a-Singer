{
  "nbformat": 4,
  "nbformat_minor": 0,
  "metadata": {
    "colab": {
      "name": "Voice_Recognition (Resnet50V2)  .ipynb",
      "provenance": [],
      "collapsed_sections": [],
      "include_colab_link": true
    },
    "kernelspec": {
      "name": "python3",
      "display_name": "Python 3"
    },
    "accelerator": "GPU"
  },
  "cells": [
    {
      "cell_type": "markdown",
      "metadata": {
        "id": "view-in-github",
        "colab_type": "text"
      },
      "source": [
        "<a href=\"https://colab.research.google.com/github/paddy-03/Voice-Recognition-of-a-Singer/blob/master/Voice_Recognition_(Resnet50V2)_.ipynb\" target=\"_parent\"><img src=\"https://colab.research.google.com/assets/colab-badge.svg\" alt=\"Open In Colab\"/></a>"
      ]
    },
    {
      "cell_type": "markdown",
      "metadata": {
        "id": "rpJSwRzAYe-y",
        "colab_type": "text"
      },
      "source": [
        "# **Voice Recognition of a Singer using CNN**"
      ]
    },
    {
      "cell_type": "code",
      "metadata": {
        "id": "46mF-k_rTJg_",
        "colab_type": "code",
        "colab": {}
      },
      "source": [
        "import numpy as np\n",
        "import matplotlib.pyplot as plt"
      ],
      "execution_count": 0,
      "outputs": []
    },
    {
      "cell_type": "code",
      "metadata": {
        "id": "oubQXxepg9S-",
        "colab_type": "code",
        "outputId": "ed0519b0-25ce-45f2-81ff-8e5ea216d18b",
        "colab": {
          "base_uri": "https://localhost:8080/",
          "height": 122
        }
      },
      "source": [
        "from google.colab import drive\n",
        "drive.mount('/content/drive') "
      ],
      "execution_count": 2,
      "outputs": [
        {
          "output_type": "stream",
          "text": [
            "Go to this URL in a browser: https://accounts.google.com/o/oauth2/auth?client_id=947318989803-6bn6qk8qdgf4n4g3pfee6491hc0brc4i.apps.googleusercontent.com&redirect_uri=urn%3aietf%3awg%3aoauth%3a2.0%3aoob&response_type=code&scope=email%20https%3a%2f%2fwww.googleapis.com%2fauth%2fdocs.test%20https%3a%2f%2fwww.googleapis.com%2fauth%2fdrive%20https%3a%2f%2fwww.googleapis.com%2fauth%2fdrive.photos.readonly%20https%3a%2f%2fwww.googleapis.com%2fauth%2fpeopleapi.readonly\n",
            "\n",
            "Enter your authorization code:\n",
            "··········\n",
            "Mounted at /content/drive\n"
          ],
          "name": "stdout"
        }
      ]
    },
    {
      "cell_type": "code",
      "metadata": {
        "id": "yp9lSqyLhklr",
        "colab_type": "code",
        "colab": {}
      },
      "source": [
        "import os\n",
        "os.chdir('./drive/My Drive')"
      ],
      "execution_count": 0,
      "outputs": []
    },
    {
      "cell_type": "code",
      "metadata": {
        "id": "YRZejHfLhz3h",
        "colab_type": "code",
        "colab": {}
      },
      "source": [
        "baseDir = '/content/drive/My Drive/Specs/'\n",
        "trainDir = baseDir + 'train'\n",
        "testDir = baseDir + 'test'\n",
        "valDir = baseDir + 'validation'"
      ],
      "execution_count": 0,
      "outputs": []
    },
    {
      "cell_type": "code",
      "metadata": {
        "id": "BLnOLxfWtR8V",
        "colab_type": "code",
        "colab": {}
      },
      "source": [
        "width = 225\n",
        "height = 150\n",
        "epochs = 20\n",
        "batch_size = 5\n",
        "num_classes = 8"
      ],
      "execution_count": 0,
      "outputs": []
    },
    {
      "cell_type": "code",
      "metadata": {
        "id": "BZ-CLB5biLsQ",
        "colab_type": "code",
        "colab": {}
      },
      "source": [
        "import keras\n",
        "from keras.applications import VGG16, ResNet50V2\n",
        "from keras.preprocessing.image import ImageDataGenerator\n",
        "from keras import layers\n",
        "from keras import models\n",
        "from keras.layers import Conv2D, MaxPool2D, Flatten,Dense, Dropout"
      ],
      "execution_count": 0,
      "outputs": []
    },
    {
      "cell_type": "markdown",
      "metadata": {
        "id": "ZRlSJhysngn_",
        "colab_type": "text"
      },
      "source": [
        "### Using Resnet50V2 model "
      ]
    },
    {
      "cell_type": "code",
      "metadata": {
        "id": "q3m4PM2VGwN3",
        "colab_type": "code",
        "outputId": "f8484a21-0ee3-497f-d565-a499c629be0b",
        "colab": {
          "base_uri": "https://localhost:8080/",
          "height": 479
        }
      },
      "source": [
        "conv_base = ResNet50V2(weights='imagenet',\n",
        "include_top=False,\n",
        "input_shape=(225, 150, 3))\n",
        "conv_base.trainable = False  #freezing all layers of the resnet50 model"
      ],
      "execution_count": 9,
      "outputs": [
        {
          "output_type": "stream",
          "text": [
            "WARNING:tensorflow:From /usr/local/lib/python3.6/dist-packages/keras/backend/tensorflow_backend.py:66: The name tf.get_default_graph is deprecated. Please use tf.compat.v1.get_default_graph instead.\n",
            "\n",
            "WARNING:tensorflow:From /usr/local/lib/python3.6/dist-packages/keras/backend/tensorflow_backend.py:541: The name tf.placeholder is deprecated. Please use tf.compat.v1.placeholder instead.\n",
            "\n",
            "WARNING:tensorflow:From /usr/local/lib/python3.6/dist-packages/keras/backend/tensorflow_backend.py:4432: The name tf.random_uniform is deprecated. Please use tf.random.uniform instead.\n",
            "\n",
            "WARNING:tensorflow:From /usr/local/lib/python3.6/dist-packages/keras/backend/tensorflow_backend.py:4267: The name tf.nn.max_pool is deprecated. Please use tf.nn.max_pool2d instead.\n",
            "\n",
            "WARNING:tensorflow:From /usr/local/lib/python3.6/dist-packages/keras/backend/tensorflow_backend.py:190: The name tf.get_default_session is deprecated. Please use tf.compat.v1.get_default_session instead.\n",
            "\n",
            "WARNING:tensorflow:From /usr/local/lib/python3.6/dist-packages/keras/backend/tensorflow_backend.py:197: The name tf.ConfigProto is deprecated. Please use tf.compat.v1.ConfigProto instead.\n",
            "\n",
            "WARNING:tensorflow:From /usr/local/lib/python3.6/dist-packages/keras/backend/tensorflow_backend.py:203: The name tf.Session is deprecated. Please use tf.compat.v1.Session instead.\n",
            "\n",
            "WARNING:tensorflow:From /usr/local/lib/python3.6/dist-packages/keras/backend/tensorflow_backend.py:207: The name tf.global_variables is deprecated. Please use tf.compat.v1.global_variables instead.\n",
            "\n",
            "WARNING:tensorflow:From /usr/local/lib/python3.6/dist-packages/keras/backend/tensorflow_backend.py:216: The name tf.is_variable_initialized is deprecated. Please use tf.compat.v1.is_variable_initialized instead.\n",
            "\n",
            "WARNING:tensorflow:From /usr/local/lib/python3.6/dist-packages/keras/backend/tensorflow_backend.py:223: The name tf.variables_initializer is deprecated. Please use tf.compat.v1.variables_initializer instead.\n",
            "\n",
            "WARNING:tensorflow:From /usr/local/lib/python3.6/dist-packages/keras/backend/tensorflow_backend.py:2041: The name tf.nn.fused_batch_norm is deprecated. Please use tf.compat.v1.nn.fused_batch_norm instead.\n",
            "\n",
            "WARNING:tensorflow:From /usr/local/lib/python3.6/dist-packages/keras/backend/tensorflow_backend.py:148: The name tf.placeholder_with_default is deprecated. Please use tf.compat.v1.placeholder_with_default instead.\n",
            "\n",
            "Downloading data from https://github.com/keras-team/keras-applications/releases/download/resnet/resnet50v2_weights_tf_dim_ordering_tf_kernels_notop.h5\n",
            "94674944/94668760 [==============================] - 3s 0us/step\n"
          ],
          "name": "stdout"
        }
      ]
    },
    {
      "cell_type": "code",
      "metadata": {
        "id": "1E1A_9lJwtqK",
        "colab_type": "code",
        "colab": {
          "base_uri": "https://localhost:8080/",
          "height": 1000
        },
        "outputId": "9be3e25c-640b-44c0-9855-cf1a15f39076"
      },
      "source": [
        "conv_base.summary()"
      ],
      "execution_count": 10,
      "outputs": [
        {
          "output_type": "stream",
          "text": [
            "Model: \"resnet50v2\"\n",
            "__________________________________________________________________________________________________\n",
            "Layer (type)                    Output Shape         Param #     Connected to                     \n",
            "==================================================================================================\n",
            "input_1 (InputLayer)            (None, 225, 150, 3)  0                                            \n",
            "__________________________________________________________________________________________________\n",
            "conv1_pad (ZeroPadding2D)       (None, 231, 156, 3)  0           input_1[0][0]                    \n",
            "__________________________________________________________________________________________________\n",
            "conv1_conv (Conv2D)             (None, 113, 75, 64)  9472        conv1_pad[0][0]                  \n",
            "__________________________________________________________________________________________________\n",
            "pool1_pad (ZeroPadding2D)       (None, 115, 77, 64)  0           conv1_conv[0][0]                 \n",
            "__________________________________________________________________________________________________\n",
            "pool1_pool (MaxPooling2D)       (None, 57, 38, 64)   0           pool1_pad[0][0]                  \n",
            "__________________________________________________________________________________________________\n",
            "conv2_block1_preact_bn (BatchNo (None, 57, 38, 64)   256         pool1_pool[0][0]                 \n",
            "__________________________________________________________________________________________________\n",
            "conv2_block1_preact_relu (Activ (None, 57, 38, 64)   0           conv2_block1_preact_bn[0][0]     \n",
            "__________________________________________________________________________________________________\n",
            "conv2_block1_1_conv (Conv2D)    (None, 57, 38, 64)   4096        conv2_block1_preact_relu[0][0]   \n",
            "__________________________________________________________________________________________________\n",
            "conv2_block1_1_bn (BatchNormali (None, 57, 38, 64)   256         conv2_block1_1_conv[0][0]        \n",
            "__________________________________________________________________________________________________\n",
            "conv2_block1_1_relu (Activation (None, 57, 38, 64)   0           conv2_block1_1_bn[0][0]          \n",
            "__________________________________________________________________________________________________\n",
            "conv2_block1_2_pad (ZeroPadding (None, 59, 40, 64)   0           conv2_block1_1_relu[0][0]        \n",
            "__________________________________________________________________________________________________\n",
            "conv2_block1_2_conv (Conv2D)    (None, 57, 38, 64)   36864       conv2_block1_2_pad[0][0]         \n",
            "__________________________________________________________________________________________________\n",
            "conv2_block1_2_bn (BatchNormali (None, 57, 38, 64)   256         conv2_block1_2_conv[0][0]        \n",
            "__________________________________________________________________________________________________\n",
            "conv2_block1_2_relu (Activation (None, 57, 38, 64)   0           conv2_block1_2_bn[0][0]          \n",
            "__________________________________________________________________________________________________\n",
            "conv2_block1_0_conv (Conv2D)    (None, 57, 38, 256)  16640       conv2_block1_preact_relu[0][0]   \n",
            "__________________________________________________________________________________________________\n",
            "conv2_block1_3_conv (Conv2D)    (None, 57, 38, 256)  16640       conv2_block1_2_relu[0][0]        \n",
            "__________________________________________________________________________________________________\n",
            "conv2_block1_out (Add)          (None, 57, 38, 256)  0           conv2_block1_0_conv[0][0]        \n",
            "                                                                 conv2_block1_3_conv[0][0]        \n",
            "__________________________________________________________________________________________________\n",
            "conv2_block2_preact_bn (BatchNo (None, 57, 38, 256)  1024        conv2_block1_out[0][0]           \n",
            "__________________________________________________________________________________________________\n",
            "conv2_block2_preact_relu (Activ (None, 57, 38, 256)  0           conv2_block2_preact_bn[0][0]     \n",
            "__________________________________________________________________________________________________\n",
            "conv2_block2_1_conv (Conv2D)    (None, 57, 38, 64)   16384       conv2_block2_preact_relu[0][0]   \n",
            "__________________________________________________________________________________________________\n",
            "conv2_block2_1_bn (BatchNormali (None, 57, 38, 64)   256         conv2_block2_1_conv[0][0]        \n",
            "__________________________________________________________________________________________________\n",
            "conv2_block2_1_relu (Activation (None, 57, 38, 64)   0           conv2_block2_1_bn[0][0]          \n",
            "__________________________________________________________________________________________________\n",
            "conv2_block2_2_pad (ZeroPadding (None, 59, 40, 64)   0           conv2_block2_1_relu[0][0]        \n",
            "__________________________________________________________________________________________________\n",
            "conv2_block2_2_conv (Conv2D)    (None, 57, 38, 64)   36864       conv2_block2_2_pad[0][0]         \n",
            "__________________________________________________________________________________________________\n",
            "conv2_block2_2_bn (BatchNormali (None, 57, 38, 64)   256         conv2_block2_2_conv[0][0]        \n",
            "__________________________________________________________________________________________________\n",
            "conv2_block2_2_relu (Activation (None, 57, 38, 64)   0           conv2_block2_2_bn[0][0]          \n",
            "__________________________________________________________________________________________________\n",
            "conv2_block2_3_conv (Conv2D)    (None, 57, 38, 256)  16640       conv2_block2_2_relu[0][0]        \n",
            "__________________________________________________________________________________________________\n",
            "conv2_block2_out (Add)          (None, 57, 38, 256)  0           conv2_block1_out[0][0]           \n",
            "                                                                 conv2_block2_3_conv[0][0]        \n",
            "__________________________________________________________________________________________________\n",
            "conv2_block3_preact_bn (BatchNo (None, 57, 38, 256)  1024        conv2_block2_out[0][0]           \n",
            "__________________________________________________________________________________________________\n",
            "conv2_block3_preact_relu (Activ (None, 57, 38, 256)  0           conv2_block3_preact_bn[0][0]     \n",
            "__________________________________________________________________________________________________\n",
            "conv2_block3_1_conv (Conv2D)    (None, 57, 38, 64)   16384       conv2_block3_preact_relu[0][0]   \n",
            "__________________________________________________________________________________________________\n",
            "conv2_block3_1_bn (BatchNormali (None, 57, 38, 64)   256         conv2_block3_1_conv[0][0]        \n",
            "__________________________________________________________________________________________________\n",
            "conv2_block3_1_relu (Activation (None, 57, 38, 64)   0           conv2_block3_1_bn[0][0]          \n",
            "__________________________________________________________________________________________________\n",
            "conv2_block3_2_pad (ZeroPadding (None, 59, 40, 64)   0           conv2_block3_1_relu[0][0]        \n",
            "__________________________________________________________________________________________________\n",
            "conv2_block3_2_conv (Conv2D)    (None, 29, 19, 64)   36864       conv2_block3_2_pad[0][0]         \n",
            "__________________________________________________________________________________________________\n",
            "conv2_block3_2_bn (BatchNormali (None, 29, 19, 64)   256         conv2_block3_2_conv[0][0]        \n",
            "__________________________________________________________________________________________________\n",
            "conv2_block3_2_relu (Activation (None, 29, 19, 64)   0           conv2_block3_2_bn[0][0]          \n",
            "__________________________________________________________________________________________________\n",
            "max_pooling2d_1 (MaxPooling2D)  (None, 29, 19, 256)  0           conv2_block2_out[0][0]           \n",
            "__________________________________________________________________________________________________\n",
            "conv2_block3_3_conv (Conv2D)    (None, 29, 19, 256)  16640       conv2_block3_2_relu[0][0]        \n",
            "__________________________________________________________________________________________________\n",
            "conv2_block3_out (Add)          (None, 29, 19, 256)  0           max_pooling2d_1[0][0]            \n",
            "                                                                 conv2_block3_3_conv[0][0]        \n",
            "__________________________________________________________________________________________________\n",
            "conv3_block1_preact_bn (BatchNo (None, 29, 19, 256)  1024        conv2_block3_out[0][0]           \n",
            "__________________________________________________________________________________________________\n",
            "conv3_block1_preact_relu (Activ (None, 29, 19, 256)  0           conv3_block1_preact_bn[0][0]     \n",
            "__________________________________________________________________________________________________\n",
            "conv3_block1_1_conv (Conv2D)    (None, 29, 19, 128)  32768       conv3_block1_preact_relu[0][0]   \n",
            "__________________________________________________________________________________________________\n",
            "conv3_block1_1_bn (BatchNormali (None, 29, 19, 128)  512         conv3_block1_1_conv[0][0]        \n",
            "__________________________________________________________________________________________________\n",
            "conv3_block1_1_relu (Activation (None, 29, 19, 128)  0           conv3_block1_1_bn[0][0]          \n",
            "__________________________________________________________________________________________________\n",
            "conv3_block1_2_pad (ZeroPadding (None, 31, 21, 128)  0           conv3_block1_1_relu[0][0]        \n",
            "__________________________________________________________________________________________________\n",
            "conv3_block1_2_conv (Conv2D)    (None, 29, 19, 128)  147456      conv3_block1_2_pad[0][0]         \n",
            "__________________________________________________________________________________________________\n",
            "conv3_block1_2_bn (BatchNormali (None, 29, 19, 128)  512         conv3_block1_2_conv[0][0]        \n",
            "__________________________________________________________________________________________________\n",
            "conv3_block1_2_relu (Activation (None, 29, 19, 128)  0           conv3_block1_2_bn[0][0]          \n",
            "__________________________________________________________________________________________________\n",
            "conv3_block1_0_conv (Conv2D)    (None, 29, 19, 512)  131584      conv3_block1_preact_relu[0][0]   \n",
            "__________________________________________________________________________________________________\n",
            "conv3_block1_3_conv (Conv2D)    (None, 29, 19, 512)  66048       conv3_block1_2_relu[0][0]        \n",
            "__________________________________________________________________________________________________\n",
            "conv3_block1_out (Add)          (None, 29, 19, 512)  0           conv3_block1_0_conv[0][0]        \n",
            "                                                                 conv3_block1_3_conv[0][0]        \n",
            "__________________________________________________________________________________________________\n",
            "conv3_block2_preact_bn (BatchNo (None, 29, 19, 512)  2048        conv3_block1_out[0][0]           \n",
            "__________________________________________________________________________________________________\n",
            "conv3_block2_preact_relu (Activ (None, 29, 19, 512)  0           conv3_block2_preact_bn[0][0]     \n",
            "__________________________________________________________________________________________________\n",
            "conv3_block2_1_conv (Conv2D)    (None, 29, 19, 128)  65536       conv3_block2_preact_relu[0][0]   \n",
            "__________________________________________________________________________________________________\n",
            "conv3_block2_1_bn (BatchNormali (None, 29, 19, 128)  512         conv3_block2_1_conv[0][0]        \n",
            "__________________________________________________________________________________________________\n",
            "conv3_block2_1_relu (Activation (None, 29, 19, 128)  0           conv3_block2_1_bn[0][0]          \n",
            "__________________________________________________________________________________________________\n",
            "conv3_block2_2_pad (ZeroPadding (None, 31, 21, 128)  0           conv3_block2_1_relu[0][0]        \n",
            "__________________________________________________________________________________________________\n",
            "conv3_block2_2_conv (Conv2D)    (None, 29, 19, 128)  147456      conv3_block2_2_pad[0][0]         \n",
            "__________________________________________________________________________________________________\n",
            "conv3_block2_2_bn (BatchNormali (None, 29, 19, 128)  512         conv3_block2_2_conv[0][0]        \n",
            "__________________________________________________________________________________________________\n",
            "conv3_block2_2_relu (Activation (None, 29, 19, 128)  0           conv3_block2_2_bn[0][0]          \n",
            "__________________________________________________________________________________________________\n",
            "conv3_block2_3_conv (Conv2D)    (None, 29, 19, 512)  66048       conv3_block2_2_relu[0][0]        \n",
            "__________________________________________________________________________________________________\n",
            "conv3_block2_out (Add)          (None, 29, 19, 512)  0           conv3_block1_out[0][0]           \n",
            "                                                                 conv3_block2_3_conv[0][0]        \n",
            "__________________________________________________________________________________________________\n",
            "conv3_block3_preact_bn (BatchNo (None, 29, 19, 512)  2048        conv3_block2_out[0][0]           \n",
            "__________________________________________________________________________________________________\n",
            "conv3_block3_preact_relu (Activ (None, 29, 19, 512)  0           conv3_block3_preact_bn[0][0]     \n",
            "__________________________________________________________________________________________________\n",
            "conv3_block3_1_conv (Conv2D)    (None, 29, 19, 128)  65536       conv3_block3_preact_relu[0][0]   \n",
            "__________________________________________________________________________________________________\n",
            "conv3_block3_1_bn (BatchNormali (None, 29, 19, 128)  512         conv3_block3_1_conv[0][0]        \n",
            "__________________________________________________________________________________________________\n",
            "conv3_block3_1_relu (Activation (None, 29, 19, 128)  0           conv3_block3_1_bn[0][0]          \n",
            "__________________________________________________________________________________________________\n",
            "conv3_block3_2_pad (ZeroPadding (None, 31, 21, 128)  0           conv3_block3_1_relu[0][0]        \n",
            "__________________________________________________________________________________________________\n",
            "conv3_block3_2_conv (Conv2D)    (None, 29, 19, 128)  147456      conv3_block3_2_pad[0][0]         \n",
            "__________________________________________________________________________________________________\n",
            "conv3_block3_2_bn (BatchNormali (None, 29, 19, 128)  512         conv3_block3_2_conv[0][0]        \n",
            "__________________________________________________________________________________________________\n",
            "conv3_block3_2_relu (Activation (None, 29, 19, 128)  0           conv3_block3_2_bn[0][0]          \n",
            "__________________________________________________________________________________________________\n",
            "conv3_block3_3_conv (Conv2D)    (None, 29, 19, 512)  66048       conv3_block3_2_relu[0][0]        \n",
            "__________________________________________________________________________________________________\n",
            "conv3_block3_out (Add)          (None, 29, 19, 512)  0           conv3_block2_out[0][0]           \n",
            "                                                                 conv3_block3_3_conv[0][0]        \n",
            "__________________________________________________________________________________________________\n",
            "conv3_block4_preact_bn (BatchNo (None, 29, 19, 512)  2048        conv3_block3_out[0][0]           \n",
            "__________________________________________________________________________________________________\n",
            "conv3_block4_preact_relu (Activ (None, 29, 19, 512)  0           conv3_block4_preact_bn[0][0]     \n",
            "__________________________________________________________________________________________________\n",
            "conv3_block4_1_conv (Conv2D)    (None, 29, 19, 128)  65536       conv3_block4_preact_relu[0][0]   \n",
            "__________________________________________________________________________________________________\n",
            "conv3_block4_1_bn (BatchNormali (None, 29, 19, 128)  512         conv3_block4_1_conv[0][0]        \n",
            "__________________________________________________________________________________________________\n",
            "conv3_block4_1_relu (Activation (None, 29, 19, 128)  0           conv3_block4_1_bn[0][0]          \n",
            "__________________________________________________________________________________________________\n",
            "conv3_block4_2_pad (ZeroPadding (None, 31, 21, 128)  0           conv3_block4_1_relu[0][0]        \n",
            "__________________________________________________________________________________________________\n",
            "conv3_block4_2_conv (Conv2D)    (None, 15, 10, 128)  147456      conv3_block4_2_pad[0][0]         \n",
            "__________________________________________________________________________________________________\n",
            "conv3_block4_2_bn (BatchNormali (None, 15, 10, 128)  512         conv3_block4_2_conv[0][0]        \n",
            "__________________________________________________________________________________________________\n",
            "conv3_block4_2_relu (Activation (None, 15, 10, 128)  0           conv3_block4_2_bn[0][0]          \n",
            "__________________________________________________________________________________________________\n",
            "max_pooling2d_2 (MaxPooling2D)  (None, 15, 10, 512)  0           conv3_block3_out[0][0]           \n",
            "__________________________________________________________________________________________________\n",
            "conv3_block4_3_conv (Conv2D)    (None, 15, 10, 512)  66048       conv3_block4_2_relu[0][0]        \n",
            "__________________________________________________________________________________________________\n",
            "conv3_block4_out (Add)          (None, 15, 10, 512)  0           max_pooling2d_2[0][0]            \n",
            "                                                                 conv3_block4_3_conv[0][0]        \n",
            "__________________________________________________________________________________________________\n",
            "conv4_block1_preact_bn (BatchNo (None, 15, 10, 512)  2048        conv3_block4_out[0][0]           \n",
            "__________________________________________________________________________________________________\n",
            "conv4_block1_preact_relu (Activ (None, 15, 10, 512)  0           conv4_block1_preact_bn[0][0]     \n",
            "__________________________________________________________________________________________________\n",
            "conv4_block1_1_conv (Conv2D)    (None, 15, 10, 256)  131072      conv4_block1_preact_relu[0][0]   \n",
            "__________________________________________________________________________________________________\n",
            "conv4_block1_1_bn (BatchNormali (None, 15, 10, 256)  1024        conv4_block1_1_conv[0][0]        \n",
            "__________________________________________________________________________________________________\n",
            "conv4_block1_1_relu (Activation (None, 15, 10, 256)  0           conv4_block1_1_bn[0][0]          \n",
            "__________________________________________________________________________________________________\n",
            "conv4_block1_2_pad (ZeroPadding (None, 17, 12, 256)  0           conv4_block1_1_relu[0][0]        \n",
            "__________________________________________________________________________________________________\n",
            "conv4_block1_2_conv (Conv2D)    (None, 15, 10, 256)  589824      conv4_block1_2_pad[0][0]         \n",
            "__________________________________________________________________________________________________\n",
            "conv4_block1_2_bn (BatchNormali (None, 15, 10, 256)  1024        conv4_block1_2_conv[0][0]        \n",
            "__________________________________________________________________________________________________\n",
            "conv4_block1_2_relu (Activation (None, 15, 10, 256)  0           conv4_block1_2_bn[0][0]          \n",
            "__________________________________________________________________________________________________\n",
            "conv4_block1_0_conv (Conv2D)    (None, 15, 10, 1024) 525312      conv4_block1_preact_relu[0][0]   \n",
            "__________________________________________________________________________________________________\n",
            "conv4_block1_3_conv (Conv2D)    (None, 15, 10, 1024) 263168      conv4_block1_2_relu[0][0]        \n",
            "__________________________________________________________________________________________________\n",
            "conv4_block1_out (Add)          (None, 15, 10, 1024) 0           conv4_block1_0_conv[0][0]        \n",
            "                                                                 conv4_block1_3_conv[0][0]        \n",
            "__________________________________________________________________________________________________\n",
            "conv4_block2_preact_bn (BatchNo (None, 15, 10, 1024) 4096        conv4_block1_out[0][0]           \n",
            "__________________________________________________________________________________________________\n",
            "conv4_block2_preact_relu (Activ (None, 15, 10, 1024) 0           conv4_block2_preact_bn[0][0]     \n",
            "__________________________________________________________________________________________________\n",
            "conv4_block2_1_conv (Conv2D)    (None, 15, 10, 256)  262144      conv4_block2_preact_relu[0][0]   \n",
            "__________________________________________________________________________________________________\n",
            "conv4_block2_1_bn (BatchNormali (None, 15, 10, 256)  1024        conv4_block2_1_conv[0][0]        \n",
            "__________________________________________________________________________________________________\n",
            "conv4_block2_1_relu (Activation (None, 15, 10, 256)  0           conv4_block2_1_bn[0][0]          \n",
            "__________________________________________________________________________________________________\n",
            "conv4_block2_2_pad (ZeroPadding (None, 17, 12, 256)  0           conv4_block2_1_relu[0][0]        \n",
            "__________________________________________________________________________________________________\n",
            "conv4_block2_2_conv (Conv2D)    (None, 15, 10, 256)  589824      conv4_block2_2_pad[0][0]         \n",
            "__________________________________________________________________________________________________\n",
            "conv4_block2_2_bn (BatchNormali (None, 15, 10, 256)  1024        conv4_block2_2_conv[0][0]        \n",
            "__________________________________________________________________________________________________\n",
            "conv4_block2_2_relu (Activation (None, 15, 10, 256)  0           conv4_block2_2_bn[0][0]          \n",
            "__________________________________________________________________________________________________\n",
            "conv4_block2_3_conv (Conv2D)    (None, 15, 10, 1024) 263168      conv4_block2_2_relu[0][0]        \n",
            "__________________________________________________________________________________________________\n",
            "conv4_block2_out (Add)          (None, 15, 10, 1024) 0           conv4_block1_out[0][0]           \n",
            "                                                                 conv4_block2_3_conv[0][0]        \n",
            "__________________________________________________________________________________________________\n",
            "conv4_block3_preact_bn (BatchNo (None, 15, 10, 1024) 4096        conv4_block2_out[0][0]           \n",
            "__________________________________________________________________________________________________\n",
            "conv4_block3_preact_relu (Activ (None, 15, 10, 1024) 0           conv4_block3_preact_bn[0][0]     \n",
            "__________________________________________________________________________________________________\n",
            "conv4_block3_1_conv (Conv2D)    (None, 15, 10, 256)  262144      conv4_block3_preact_relu[0][0]   \n",
            "__________________________________________________________________________________________________\n",
            "conv4_block3_1_bn (BatchNormali (None, 15, 10, 256)  1024        conv4_block3_1_conv[0][0]        \n",
            "__________________________________________________________________________________________________\n",
            "conv4_block3_1_relu (Activation (None, 15, 10, 256)  0           conv4_block3_1_bn[0][0]          \n",
            "__________________________________________________________________________________________________\n",
            "conv4_block3_2_pad (ZeroPadding (None, 17, 12, 256)  0           conv4_block3_1_relu[0][0]        \n",
            "__________________________________________________________________________________________________\n",
            "conv4_block3_2_conv (Conv2D)    (None, 15, 10, 256)  589824      conv4_block3_2_pad[0][0]         \n",
            "__________________________________________________________________________________________________\n",
            "conv4_block3_2_bn (BatchNormali (None, 15, 10, 256)  1024        conv4_block3_2_conv[0][0]        \n",
            "__________________________________________________________________________________________________\n",
            "conv4_block3_2_relu (Activation (None, 15, 10, 256)  0           conv4_block3_2_bn[0][0]          \n",
            "__________________________________________________________________________________________________\n",
            "conv4_block3_3_conv (Conv2D)    (None, 15, 10, 1024) 263168      conv4_block3_2_relu[0][0]        \n",
            "__________________________________________________________________________________________________\n",
            "conv4_block3_out (Add)          (None, 15, 10, 1024) 0           conv4_block2_out[0][0]           \n",
            "                                                                 conv4_block3_3_conv[0][0]        \n",
            "__________________________________________________________________________________________________\n",
            "conv4_block4_preact_bn (BatchNo (None, 15, 10, 1024) 4096        conv4_block3_out[0][0]           \n",
            "__________________________________________________________________________________________________\n",
            "conv4_block4_preact_relu (Activ (None, 15, 10, 1024) 0           conv4_block4_preact_bn[0][0]     \n",
            "__________________________________________________________________________________________________\n",
            "conv4_block4_1_conv (Conv2D)    (None, 15, 10, 256)  262144      conv4_block4_preact_relu[0][0]   \n",
            "__________________________________________________________________________________________________\n",
            "conv4_block4_1_bn (BatchNormali (None, 15, 10, 256)  1024        conv4_block4_1_conv[0][0]        \n",
            "__________________________________________________________________________________________________\n",
            "conv4_block4_1_relu (Activation (None, 15, 10, 256)  0           conv4_block4_1_bn[0][0]          \n",
            "__________________________________________________________________________________________________\n",
            "conv4_block4_2_pad (ZeroPadding (None, 17, 12, 256)  0           conv4_block4_1_relu[0][0]        \n",
            "__________________________________________________________________________________________________\n",
            "conv4_block4_2_conv (Conv2D)    (None, 15, 10, 256)  589824      conv4_block4_2_pad[0][0]         \n",
            "__________________________________________________________________________________________________\n",
            "conv4_block4_2_bn (BatchNormali (None, 15, 10, 256)  1024        conv4_block4_2_conv[0][0]        \n",
            "__________________________________________________________________________________________________\n",
            "conv4_block4_2_relu (Activation (None, 15, 10, 256)  0           conv4_block4_2_bn[0][0]          \n",
            "__________________________________________________________________________________________________\n",
            "conv4_block4_3_conv (Conv2D)    (None, 15, 10, 1024) 263168      conv4_block4_2_relu[0][0]        \n",
            "__________________________________________________________________________________________________\n",
            "conv4_block4_out (Add)          (None, 15, 10, 1024) 0           conv4_block3_out[0][0]           \n",
            "                                                                 conv4_block4_3_conv[0][0]        \n",
            "__________________________________________________________________________________________________\n",
            "conv4_block5_preact_bn (BatchNo (None, 15, 10, 1024) 4096        conv4_block4_out[0][0]           \n",
            "__________________________________________________________________________________________________\n",
            "conv4_block5_preact_relu (Activ (None, 15, 10, 1024) 0           conv4_block5_preact_bn[0][0]     \n",
            "__________________________________________________________________________________________________\n",
            "conv4_block5_1_conv (Conv2D)    (None, 15, 10, 256)  262144      conv4_block5_preact_relu[0][0]   \n",
            "__________________________________________________________________________________________________\n",
            "conv4_block5_1_bn (BatchNormali (None, 15, 10, 256)  1024        conv4_block5_1_conv[0][0]        \n",
            "__________________________________________________________________________________________________\n",
            "conv4_block5_1_relu (Activation (None, 15, 10, 256)  0           conv4_block5_1_bn[0][0]          \n",
            "__________________________________________________________________________________________________\n",
            "conv4_block5_2_pad (ZeroPadding (None, 17, 12, 256)  0           conv4_block5_1_relu[0][0]        \n",
            "__________________________________________________________________________________________________\n",
            "conv4_block5_2_conv (Conv2D)    (None, 15, 10, 256)  589824      conv4_block5_2_pad[0][0]         \n",
            "__________________________________________________________________________________________________\n",
            "conv4_block5_2_bn (BatchNormali (None, 15, 10, 256)  1024        conv4_block5_2_conv[0][0]        \n",
            "__________________________________________________________________________________________________\n",
            "conv4_block5_2_relu (Activation (None, 15, 10, 256)  0           conv4_block5_2_bn[0][0]          \n",
            "__________________________________________________________________________________________________\n",
            "conv4_block5_3_conv (Conv2D)    (None, 15, 10, 1024) 263168      conv4_block5_2_relu[0][0]        \n",
            "__________________________________________________________________________________________________\n",
            "conv4_block5_out (Add)          (None, 15, 10, 1024) 0           conv4_block4_out[0][0]           \n",
            "                                                                 conv4_block5_3_conv[0][0]        \n",
            "__________________________________________________________________________________________________\n",
            "conv4_block6_preact_bn (BatchNo (None, 15, 10, 1024) 4096        conv4_block5_out[0][0]           \n",
            "__________________________________________________________________________________________________\n",
            "conv4_block6_preact_relu (Activ (None, 15, 10, 1024) 0           conv4_block6_preact_bn[0][0]     \n",
            "__________________________________________________________________________________________________\n",
            "conv4_block6_1_conv (Conv2D)    (None, 15, 10, 256)  262144      conv4_block6_preact_relu[0][0]   \n",
            "__________________________________________________________________________________________________\n",
            "conv4_block6_1_bn (BatchNormali (None, 15, 10, 256)  1024        conv4_block6_1_conv[0][0]        \n",
            "__________________________________________________________________________________________________\n",
            "conv4_block6_1_relu (Activation (None, 15, 10, 256)  0           conv4_block6_1_bn[0][0]          \n",
            "__________________________________________________________________________________________________\n",
            "conv4_block6_2_pad (ZeroPadding (None, 17, 12, 256)  0           conv4_block6_1_relu[0][0]        \n",
            "__________________________________________________________________________________________________\n",
            "conv4_block6_2_conv (Conv2D)    (None, 8, 5, 256)    589824      conv4_block6_2_pad[0][0]         \n",
            "__________________________________________________________________________________________________\n",
            "conv4_block6_2_bn (BatchNormali (None, 8, 5, 256)    1024        conv4_block6_2_conv[0][0]        \n",
            "__________________________________________________________________________________________________\n",
            "conv4_block6_2_relu (Activation (None, 8, 5, 256)    0           conv4_block6_2_bn[0][0]          \n",
            "__________________________________________________________________________________________________\n",
            "max_pooling2d_3 (MaxPooling2D)  (None, 8, 5, 1024)   0           conv4_block5_out[0][0]           \n",
            "__________________________________________________________________________________________________\n",
            "conv4_block6_3_conv (Conv2D)    (None, 8, 5, 1024)   263168      conv4_block6_2_relu[0][0]        \n",
            "__________________________________________________________________________________________________\n",
            "conv4_block6_out (Add)          (None, 8, 5, 1024)   0           max_pooling2d_3[0][0]            \n",
            "                                                                 conv4_block6_3_conv[0][0]        \n",
            "__________________________________________________________________________________________________\n",
            "conv5_block1_preact_bn (BatchNo (None, 8, 5, 1024)   4096        conv4_block6_out[0][0]           \n",
            "__________________________________________________________________________________________________\n",
            "conv5_block1_preact_relu (Activ (None, 8, 5, 1024)   0           conv5_block1_preact_bn[0][0]     \n",
            "__________________________________________________________________________________________________\n",
            "conv5_block1_1_conv (Conv2D)    (None, 8, 5, 512)    524288      conv5_block1_preact_relu[0][0]   \n",
            "__________________________________________________________________________________________________\n",
            "conv5_block1_1_bn (BatchNormali (None, 8, 5, 512)    2048        conv5_block1_1_conv[0][0]        \n",
            "__________________________________________________________________________________________________\n",
            "conv5_block1_1_relu (Activation (None, 8, 5, 512)    0           conv5_block1_1_bn[0][0]          \n",
            "__________________________________________________________________________________________________\n",
            "conv5_block1_2_pad (ZeroPadding (None, 10, 7, 512)   0           conv5_block1_1_relu[0][0]        \n",
            "__________________________________________________________________________________________________\n",
            "conv5_block1_2_conv (Conv2D)    (None, 8, 5, 512)    2359296     conv5_block1_2_pad[0][0]         \n",
            "__________________________________________________________________________________________________\n",
            "conv5_block1_2_bn (BatchNormali (None, 8, 5, 512)    2048        conv5_block1_2_conv[0][0]        \n",
            "__________________________________________________________________________________________________\n",
            "conv5_block1_2_relu (Activation (None, 8, 5, 512)    0           conv5_block1_2_bn[0][0]          \n",
            "__________________________________________________________________________________________________\n",
            "conv5_block1_0_conv (Conv2D)    (None, 8, 5, 2048)   2099200     conv5_block1_preact_relu[0][0]   \n",
            "__________________________________________________________________________________________________\n",
            "conv5_block1_3_conv (Conv2D)    (None, 8, 5, 2048)   1050624     conv5_block1_2_relu[0][0]        \n",
            "__________________________________________________________________________________________________\n",
            "conv5_block1_out (Add)          (None, 8, 5, 2048)   0           conv5_block1_0_conv[0][0]        \n",
            "                                                                 conv5_block1_3_conv[0][0]        \n",
            "__________________________________________________________________________________________________\n",
            "conv5_block2_preact_bn (BatchNo (None, 8, 5, 2048)   8192        conv5_block1_out[0][0]           \n",
            "__________________________________________________________________________________________________\n",
            "conv5_block2_preact_relu (Activ (None, 8, 5, 2048)   0           conv5_block2_preact_bn[0][0]     \n",
            "__________________________________________________________________________________________________\n",
            "conv5_block2_1_conv (Conv2D)    (None, 8, 5, 512)    1048576     conv5_block2_preact_relu[0][0]   \n",
            "__________________________________________________________________________________________________\n",
            "conv5_block2_1_bn (BatchNormali (None, 8, 5, 512)    2048        conv5_block2_1_conv[0][0]        \n",
            "__________________________________________________________________________________________________\n",
            "conv5_block2_1_relu (Activation (None, 8, 5, 512)    0           conv5_block2_1_bn[0][0]          \n",
            "__________________________________________________________________________________________________\n",
            "conv5_block2_2_pad (ZeroPadding (None, 10, 7, 512)   0           conv5_block2_1_relu[0][0]        \n",
            "__________________________________________________________________________________________________\n",
            "conv5_block2_2_conv (Conv2D)    (None, 8, 5, 512)    2359296     conv5_block2_2_pad[0][0]         \n",
            "__________________________________________________________________________________________________\n",
            "conv5_block2_2_bn (BatchNormali (None, 8, 5, 512)    2048        conv5_block2_2_conv[0][0]        \n",
            "__________________________________________________________________________________________________\n",
            "conv5_block2_2_relu (Activation (None, 8, 5, 512)    0           conv5_block2_2_bn[0][0]          \n",
            "__________________________________________________________________________________________________\n",
            "conv5_block2_3_conv (Conv2D)    (None, 8, 5, 2048)   1050624     conv5_block2_2_relu[0][0]        \n",
            "__________________________________________________________________________________________________\n",
            "conv5_block2_out (Add)          (None, 8, 5, 2048)   0           conv5_block1_out[0][0]           \n",
            "                                                                 conv5_block2_3_conv[0][0]        \n",
            "__________________________________________________________________________________________________\n",
            "conv5_block3_preact_bn (BatchNo (None, 8, 5, 2048)   8192        conv5_block2_out[0][0]           \n",
            "__________________________________________________________________________________________________\n",
            "conv5_block3_preact_relu (Activ (None, 8, 5, 2048)   0           conv5_block3_preact_bn[0][0]     \n",
            "__________________________________________________________________________________________________\n",
            "conv5_block3_1_conv (Conv2D)    (None, 8, 5, 512)    1048576     conv5_block3_preact_relu[0][0]   \n",
            "__________________________________________________________________________________________________\n",
            "conv5_block3_1_bn (BatchNormali (None, 8, 5, 512)    2048        conv5_block3_1_conv[0][0]        \n",
            "__________________________________________________________________________________________________\n",
            "conv5_block3_1_relu (Activation (None, 8, 5, 512)    0           conv5_block3_1_bn[0][0]          \n",
            "__________________________________________________________________________________________________\n",
            "conv5_block3_2_pad (ZeroPadding (None, 10, 7, 512)   0           conv5_block3_1_relu[0][0]        \n",
            "__________________________________________________________________________________________________\n",
            "conv5_block3_2_conv (Conv2D)    (None, 8, 5, 512)    2359296     conv5_block3_2_pad[0][0]         \n",
            "__________________________________________________________________________________________________\n",
            "conv5_block3_2_bn (BatchNormali (None, 8, 5, 512)    2048        conv5_block3_2_conv[0][0]        \n",
            "__________________________________________________________________________________________________\n",
            "conv5_block3_2_relu (Activation (None, 8, 5, 512)    0           conv5_block3_2_bn[0][0]          \n",
            "__________________________________________________________________________________________________\n",
            "conv5_block3_3_conv (Conv2D)    (None, 8, 5, 2048)   1050624     conv5_block3_2_relu[0][0]        \n",
            "__________________________________________________________________________________________________\n",
            "conv5_block3_out (Add)          (None, 8, 5, 2048)   0           conv5_block2_out[0][0]           \n",
            "                                                                 conv5_block3_3_conv[0][0]        \n",
            "__________________________________________________________________________________________________\n",
            "post_bn (BatchNormalization)    (None, 8, 5, 2048)   8192        conv5_block3_out[0][0]           \n",
            "__________________________________________________________________________________________________\n",
            "post_relu (Activation)          (None, 8, 5, 2048)   0           post_bn[0][0]                    \n",
            "==================================================================================================\n",
            "Total params: 23,564,800\n",
            "Trainable params: 0\n",
            "Non-trainable params: 23,564,800\n",
            "__________________________________________________________________________________________________\n"
          ],
          "name": "stdout"
        }
      ]
    },
    {
      "cell_type": "code",
      "metadata": {
        "id": "GROZovGUxiZb",
        "colab_type": "code",
        "colab": {}
      },
      "source": [
        "#dense layers\n",
        "from keras import models\n",
        "from keras import layers\n",
        "from keras import optimizers\n",
        "\n",
        "model = models.Sequential()\n",
        "model.add(layers.Dense(512, activation='relu',input_dim=8*5*2048))\n",
        "model.add(Dropout(0.2))\n",
        "model.add(layers.Dense(8, activation='softmax'))"
      ],
      "execution_count": 0,
      "outputs": []
    },
    {
      "cell_type": "markdown",
      "metadata": {
        "id": "sR6wMsa2ydhb",
        "colab_type": "text"
      },
      "source": [
        ""
      ]
    },
    {
      "cell_type": "code",
      "metadata": {
        "id": "raQoaVnqyFZW",
        "colab_type": "code",
        "outputId": "d34dc657-8833-4d31-a44d-adb2ecde7937",
        "colab": {
          "base_uri": "https://localhost:8080/",
          "height": 289
        }
      },
      "source": [
        "model.summary()"
      ],
      "execution_count": 12,
      "outputs": [
        {
          "output_type": "stream",
          "text": [
            "Model: \"sequential_1\"\n",
            "_________________________________________________________________\n",
            "Layer (type)                 Output Shape              Param #   \n",
            "=================================================================\n",
            "dense_1 (Dense)              (None, 512)               50332160  \n",
            "_________________________________________________________________\n",
            "dense_2 (Dense)              (None, 512)               262656    \n",
            "_________________________________________________________________\n",
            "dropout_1 (Dropout)          (None, 512)               0         \n",
            "_________________________________________________________________\n",
            "dense_3 (Dense)              (None, 8)                 4104      \n",
            "=================================================================\n",
            "Total params: 50,598,920\n",
            "Trainable params: 50,598,920\n",
            "Non-trainable params: 0\n",
            "_________________________________________________________________\n"
          ],
          "name": "stdout"
        }
      ]
    },
    {
      "cell_type": "markdown",
      "metadata": {
        "id": "mtuVlMu07TU9",
        "colab_type": "text"
      },
      "source": [
        ""
      ]
    },
    {
      "cell_type": "markdown",
      "metadata": {
        "id": "hnxhHqnUnt8J",
        "colab_type": "text"
      },
      "source": [
        "### **Extracting features from the spectrograms**"
      ]
    },
    {
      "cell_type": "code",
      "metadata": {
        "id": "xIqNd-bm05QL",
        "colab_type": "code",
        "colab": {}
      },
      "source": [
        "#Extracting the features and labels as numpy arrays\n",
        "#predict function of conv_base is used to get the features of the image\n",
        "datagen = ImageDataGenerator(rescale=1./255)\n",
        "batch_size = 5\n",
        "def extract_features(directory, sample_count):\n",
        "  features = np.zeros(shape=(sample_count, 8, 5, 2048))\n",
        "  labels = np.zeros(shape=(sample_count,8))\n",
        "  generator = datagen.flow_from_directory( directory,\n",
        "  target_size=(225,150),\n",
        "  batch_size=batch_size,\n",
        "  shuffle = False,                               \n",
        "  class_mode='categorical')\n",
        "  print(generator.class_indices)\n",
        "  i = 0\n",
        "  for inputs_batch, labels_batch in generator:\n",
        "    features_batch = conv_base.predict(inputs_batch)\n",
        "    features[i * batch_size : (i + 1) * batch_size] = features_batch\n",
        "    labels[i * batch_size : (i + 1) * batch_size,:] = labels_batch\n",
        "    i += 1\n",
        "    if i * batch_size >= sample_count:\n",
        "        break\n",
        "  return features, labels"
      ],
      "execution_count": 0,
      "outputs": []
    },
    {
      "cell_type": "code",
      "metadata": {
        "id": "358XaMkr2DrZ",
        "colab_type": "code",
        "outputId": "0eedb2d2-634a-46b5-beeb-7a6b6be77c49",
        "colab": {
          "base_uri": "https://localhost:8080/",
          "height": 139
        }
      },
      "source": [
        "train_features, train_labels = extract_features(trainDir, 3303)\n",
        "validation_features, validation_labels = extract_features(valDir, 225)\n",
        "test_features, test_labels = extract_features(testDir, 245)"
      ],
      "execution_count": 16,
      "outputs": [
        {
          "output_type": "stream",
          "text": [
            "Found 3303 images belonging to 8 classes.\n",
            "{'Arijit Singh': 0, 'Armaan Malik': 1, 'Atif Aslam': 2, 'Honey Singh': 3, 'Raahat Fateh Ali Khan': 4, 'Shreya Ghoshal': 5, 'Sonu Nigam': 6, 'Sunidhi Chauhan': 7}\n",
            "Found 225 images belonging to 8 classes.\n",
            "{'Arijit Singh': 0, 'Armaan Malik': 1, 'Atif Aslam': 2, 'Honey Singh': 3, 'Raahat Fateh Ali Khan': 4, 'Shreya Ghoshal': 5, 'Sonu Nigam': 6, 'Sunidhi Chauhan': 7}\n",
            "Found 245 images belonging to 8 classes.\n",
            "{'Arijit Singh': 0, 'Armaan Malik': 1, 'Atif Aslam': 2, 'Honey Singh': 3, 'Raahat Fateh Ali Khan': 4, 'Shreya Ghoshal': 5, 'Sonu Nigam': 6, 'Sunidhi Chauhan': 7}\n"
          ],
          "name": "stdout"
        }
      ]
    },
    {
      "cell_type": "code",
      "metadata": {
        "id": "MGpuzZVA7HEs",
        "colab_type": "code",
        "colab": {}
      },
      "source": [
        "train_features = np.reshape(train_features, (3303, 8*5*2048))\n",
        "validation_features = np.reshape(validation_features, (225,8*5*2048))\n",
        "test_features = np.reshape(test_features, (245,8*5*2048))"
      ],
      "execution_count": 0,
      "outputs": []
    },
    {
      "cell_type": "code",
      "metadata": {
        "id": "i7SjU5UV8Uyb",
        "colab_type": "code",
        "colab": {}
      },
      "source": [
        "#os.getcwd()"
      ],
      "execution_count": 0,
      "outputs": []
    },
    {
      "cell_type": "code",
      "metadata": {
        "id": "BkdcDnRD6oGA",
        "colab_type": "code",
        "colab": {}
      },
      "source": [
        "#np.savetxt('train_features.csv', train_features, fmt='1.8%f', delimiter = ',')"
      ],
      "execution_count": 0,
      "outputs": []
    },
    {
      "cell_type": "markdown",
      "metadata": {
        "id": "3xr2rFcdn3Ex",
        "colab_type": "text"
      },
      "source": [
        "### **Using callbacks**"
      ]
    },
    {
      "cell_type": "code",
      "metadata": {
        "id": "zZLaA8hVrhQt",
        "colab_type": "code",
        "colab": {}
      },
      "source": [
        "stop_early = keras.callbacks.EarlyStopping(monitor='val_acc', patience=20, verbose=1)"
      ],
      "execution_count": 0,
      "outputs": []
    },
    {
      "cell_type": "code",
      "metadata": {
        "id": "a-VwpjnB2mZ5",
        "colab_type": "code",
        "colab": {}
      },
      "source": [
        "reduce_lr = keras.callbacks.ReduceLROnPlateau( monitor='val_loss', factor=0.1, patience=10)"
      ],
      "execution_count": 0,
      "outputs": []
    },
    {
      "cell_type": "markdown",
      "metadata": {
        "id": "sk79esF_n8ke",
        "colab_type": "text"
      },
      "source": [
        "### **Complilation of the model and fit**"
      ]
    },
    {
      "cell_type": "code",
      "metadata": {
        "id": "z6J7aM254iY6",
        "colab_type": "code",
        "colab": {}
      },
      "source": [
        "from keras import optimizers\n",
        "model.compile(loss='categorical_crossentropy',optimizer=optimizers.Adam(lr = .00003),metrics=['acc'])"
      ],
      "execution_count": 0,
      "outputs": []
    },
    {
      "cell_type": "code",
      "metadata": {
        "id": "9Y8UW-tayxcS",
        "colab_type": "code",
        "outputId": "7ef15f33-462c-4be5-f99d-b5d998a78ad1",
        "colab": {
          "base_uri": "https://localhost:8080/",
          "height": 595
        }
      },
      "source": [
        "history = model.fit(train_features, train_labels,\n",
        "epochs=20,\n",
        "batch_size=20,\n",
        "validation_data=(validation_features, validation_labels),\n",
        "                   callbacks=[stop_early,reduce_lr])"
      ],
      "execution_count": 56,
      "outputs": [
        {
          "output_type": "stream",
          "text": [
            "Train on 3303 samples, validate on 225 samples\n",
            "Epoch 1/20\n",
            "3303/3303 [==============================] - 15s 4ms/step - loss: 1.8267 - acc: 0.3597 - val_loss: 1.5615 - val_acc: 0.4400\n",
            "Epoch 2/20\n",
            "3303/3303 [==============================] - 13s 4ms/step - loss: 1.2094 - acc: 0.5695 - val_loss: 1.5041 - val_acc: 0.4889\n",
            "Epoch 3/20\n",
            "3303/3303 [==============================] - 13s 4ms/step - loss: 0.8572 - acc: 0.7033 - val_loss: 1.4603 - val_acc: 0.4667\n",
            "Epoch 4/20\n",
            "3303/3303 [==============================] - 13s 4ms/step - loss: 0.6426 - acc: 0.7908 - val_loss: 1.3801 - val_acc: 0.5333\n",
            "Epoch 5/20\n",
            "3303/3303 [==============================] - 13s 4ms/step - loss: 0.4712 - acc: 0.8517 - val_loss: 1.7914 - val_acc: 0.5067\n",
            "Epoch 6/20\n",
            "3303/3303 [==============================] - 13s 4ms/step - loss: 0.3625 - acc: 0.8871 - val_loss: 1.4782 - val_acc: 0.5333\n",
            "Epoch 7/20\n",
            " 380/3303 [==>...........................] - ETA: 11s - loss: 0.2221 - acc: 0.9526"
          ],
          "name": "stdout"
        },
        {
          "output_type": "error",
          "ename": "KeyboardInterrupt",
          "evalue": "ignored",
          "traceback": [
            "\u001b[0;31m---------------------------------------------------------------------------\u001b[0m",
            "\u001b[0;31mKeyboardInterrupt\u001b[0m                         Traceback (most recent call last)",
            "\u001b[0;32m<ipython-input-56-3021f2149e4d>\u001b[0m in \u001b[0;36m<module>\u001b[0;34m()\u001b[0m\n\u001b[1;32m      3\u001b[0m \u001b[0mbatch_size\u001b[0m\u001b[0;34m=\u001b[0m\u001b[0;36m5\u001b[0m\u001b[0;34m,\u001b[0m\u001b[0;34m\u001b[0m\u001b[0;34m\u001b[0m\u001b[0m\n\u001b[1;32m      4\u001b[0m \u001b[0mvalidation_data\u001b[0m\u001b[0;34m=\u001b[0m\u001b[0;34m(\u001b[0m\u001b[0mvalidation_features\u001b[0m\u001b[0;34m,\u001b[0m \u001b[0mvalidation_labels\u001b[0m\u001b[0;34m)\u001b[0m\u001b[0;34m,\u001b[0m\u001b[0;34m\u001b[0m\u001b[0;34m\u001b[0m\u001b[0m\n\u001b[0;32m----> 5\u001b[0;31m                    callbacks=[stop_early,reduce_lr])\n\u001b[0m",
            "\u001b[0;32m/usr/local/lib/python3.6/dist-packages/keras/engine/training.py\u001b[0m in \u001b[0;36mfit\u001b[0;34m(self, x, y, batch_size, epochs, verbose, callbacks, validation_split, validation_data, shuffle, class_weight, sample_weight, initial_epoch, steps_per_epoch, validation_steps, validation_freq, max_queue_size, workers, use_multiprocessing, **kwargs)\u001b[0m\n\u001b[1;32m   1176\u001b[0m                                         \u001b[0msteps_per_epoch\u001b[0m\u001b[0;34m=\u001b[0m\u001b[0msteps_per_epoch\u001b[0m\u001b[0;34m,\u001b[0m\u001b[0;34m\u001b[0m\u001b[0;34m\u001b[0m\u001b[0m\n\u001b[1;32m   1177\u001b[0m                                         \u001b[0mvalidation_steps\u001b[0m\u001b[0;34m=\u001b[0m\u001b[0mvalidation_steps\u001b[0m\u001b[0;34m,\u001b[0m\u001b[0;34m\u001b[0m\u001b[0;34m\u001b[0m\u001b[0m\n\u001b[0;32m-> 1178\u001b[0;31m                                         validation_freq=validation_freq)\n\u001b[0m\u001b[1;32m   1179\u001b[0m \u001b[0;34m\u001b[0m\u001b[0m\n\u001b[1;32m   1180\u001b[0m     def evaluate(self,\n",
            "\u001b[0;32m/usr/local/lib/python3.6/dist-packages/keras/engine/training_arrays.py\u001b[0m in \u001b[0;36mfit_loop\u001b[0;34m(model, fit_function, fit_inputs, out_labels, batch_size, epochs, verbose, callbacks, val_function, val_inputs, shuffle, callback_metrics, initial_epoch, steps_per_epoch, validation_steps, validation_freq)\u001b[0m\n\u001b[1;32m    202\u001b[0m                     \u001b[0mins_batch\u001b[0m\u001b[0;34m[\u001b[0m\u001b[0mi\u001b[0m\u001b[0;34m]\u001b[0m \u001b[0;34m=\u001b[0m \u001b[0mins_batch\u001b[0m\u001b[0;34m[\u001b[0m\u001b[0mi\u001b[0m\u001b[0;34m]\u001b[0m\u001b[0;34m.\u001b[0m\u001b[0mtoarray\u001b[0m\u001b[0;34m(\u001b[0m\u001b[0;34m)\u001b[0m\u001b[0;34m\u001b[0m\u001b[0;34m\u001b[0m\u001b[0m\n\u001b[1;32m    203\u001b[0m \u001b[0;34m\u001b[0m\u001b[0m\n\u001b[0;32m--> 204\u001b[0;31m                 \u001b[0mouts\u001b[0m \u001b[0;34m=\u001b[0m \u001b[0mfit_function\u001b[0m\u001b[0;34m(\u001b[0m\u001b[0mins_batch\u001b[0m\u001b[0;34m)\u001b[0m\u001b[0;34m\u001b[0m\u001b[0;34m\u001b[0m\u001b[0m\n\u001b[0m\u001b[1;32m    205\u001b[0m                 \u001b[0mouts\u001b[0m \u001b[0;34m=\u001b[0m \u001b[0mto_list\u001b[0m\u001b[0;34m(\u001b[0m\u001b[0mouts\u001b[0m\u001b[0;34m)\u001b[0m\u001b[0;34m\u001b[0m\u001b[0;34m\u001b[0m\u001b[0m\n\u001b[1;32m    206\u001b[0m                 \u001b[0;32mfor\u001b[0m \u001b[0ml\u001b[0m\u001b[0;34m,\u001b[0m \u001b[0mo\u001b[0m \u001b[0;32min\u001b[0m \u001b[0mzip\u001b[0m\u001b[0;34m(\u001b[0m\u001b[0mout_labels\u001b[0m\u001b[0;34m,\u001b[0m \u001b[0mouts\u001b[0m\u001b[0;34m)\u001b[0m\u001b[0;34m:\u001b[0m\u001b[0;34m\u001b[0m\u001b[0;34m\u001b[0m\u001b[0m\n",
            "\u001b[0;32m/usr/local/lib/python3.6/dist-packages/keras/backend/tensorflow_backend.py\u001b[0m in \u001b[0;36m__call__\u001b[0;34m(self, inputs)\u001b[0m\n\u001b[1;32m   2977\u001b[0m                     \u001b[0;32mreturn\u001b[0m \u001b[0mself\u001b[0m\u001b[0;34m.\u001b[0m\u001b[0m_legacy_call\u001b[0m\u001b[0;34m(\u001b[0m\u001b[0minputs\u001b[0m\u001b[0;34m)\u001b[0m\u001b[0;34m\u001b[0m\u001b[0;34m\u001b[0m\u001b[0m\n\u001b[1;32m   2978\u001b[0m \u001b[0;34m\u001b[0m\u001b[0m\n\u001b[0;32m-> 2979\u001b[0;31m             \u001b[0;32mreturn\u001b[0m \u001b[0mself\u001b[0m\u001b[0;34m.\u001b[0m\u001b[0m_call\u001b[0m\u001b[0;34m(\u001b[0m\u001b[0minputs\u001b[0m\u001b[0;34m)\u001b[0m\u001b[0;34m\u001b[0m\u001b[0;34m\u001b[0m\u001b[0m\n\u001b[0m\u001b[1;32m   2980\u001b[0m         \u001b[0;32melse\u001b[0m\u001b[0;34m:\u001b[0m\u001b[0;34m\u001b[0m\u001b[0;34m\u001b[0m\u001b[0m\n\u001b[1;32m   2981\u001b[0m             \u001b[0;32mif\u001b[0m \u001b[0mpy_any\u001b[0m\u001b[0;34m(\u001b[0m\u001b[0mis_tensor\u001b[0m\u001b[0;34m(\u001b[0m\u001b[0mx\u001b[0m\u001b[0;34m)\u001b[0m \u001b[0;32mfor\u001b[0m \u001b[0mx\u001b[0m \u001b[0;32min\u001b[0m \u001b[0minputs\u001b[0m\u001b[0;34m)\u001b[0m\u001b[0;34m:\u001b[0m\u001b[0;34m\u001b[0m\u001b[0;34m\u001b[0m\u001b[0m\n",
            "\u001b[0;32m/usr/local/lib/python3.6/dist-packages/keras/backend/tensorflow_backend.py\u001b[0m in \u001b[0;36m_call\u001b[0;34m(self, inputs)\u001b[0m\n\u001b[1;32m   2935\u001b[0m             \u001b[0mfetched\u001b[0m \u001b[0;34m=\u001b[0m \u001b[0mself\u001b[0m\u001b[0;34m.\u001b[0m\u001b[0m_callable_fn\u001b[0m\u001b[0;34m(\u001b[0m\u001b[0;34m*\u001b[0m\u001b[0marray_vals\u001b[0m\u001b[0;34m,\u001b[0m \u001b[0mrun_metadata\u001b[0m\u001b[0;34m=\u001b[0m\u001b[0mself\u001b[0m\u001b[0;34m.\u001b[0m\u001b[0mrun_metadata\u001b[0m\u001b[0;34m)\u001b[0m\u001b[0;34m\u001b[0m\u001b[0;34m\u001b[0m\u001b[0m\n\u001b[1;32m   2936\u001b[0m         \u001b[0;32melse\u001b[0m\u001b[0;34m:\u001b[0m\u001b[0;34m\u001b[0m\u001b[0;34m\u001b[0m\u001b[0m\n\u001b[0;32m-> 2937\u001b[0;31m             \u001b[0mfetched\u001b[0m \u001b[0;34m=\u001b[0m \u001b[0mself\u001b[0m\u001b[0;34m.\u001b[0m\u001b[0m_callable_fn\u001b[0m\u001b[0;34m(\u001b[0m\u001b[0;34m*\u001b[0m\u001b[0marray_vals\u001b[0m\u001b[0;34m)\u001b[0m\u001b[0;34m\u001b[0m\u001b[0;34m\u001b[0m\u001b[0m\n\u001b[0m\u001b[1;32m   2938\u001b[0m         \u001b[0;32mreturn\u001b[0m \u001b[0mfetched\u001b[0m\u001b[0;34m[\u001b[0m\u001b[0;34m:\u001b[0m\u001b[0mlen\u001b[0m\u001b[0;34m(\u001b[0m\u001b[0mself\u001b[0m\u001b[0;34m.\u001b[0m\u001b[0moutputs\u001b[0m\u001b[0;34m)\u001b[0m\u001b[0;34m]\u001b[0m\u001b[0;34m\u001b[0m\u001b[0;34m\u001b[0m\u001b[0m\n\u001b[1;32m   2939\u001b[0m \u001b[0;34m\u001b[0m\u001b[0m\n",
            "\u001b[0;32m/usr/local/lib/python3.6/dist-packages/tensorflow_core/python/client/session.py\u001b[0m in \u001b[0;36m__call__\u001b[0;34m(self, *args, **kwargs)\u001b[0m\n\u001b[1;32m   1470\u001b[0m         ret = tf_session.TF_SessionRunCallable(self._session._session,\n\u001b[1;32m   1471\u001b[0m                                                \u001b[0mself\u001b[0m\u001b[0;34m.\u001b[0m\u001b[0m_handle\u001b[0m\u001b[0;34m,\u001b[0m \u001b[0margs\u001b[0m\u001b[0;34m,\u001b[0m\u001b[0;34m\u001b[0m\u001b[0;34m\u001b[0m\u001b[0m\n\u001b[0;32m-> 1472\u001b[0;31m                                                run_metadata_ptr)\n\u001b[0m\u001b[1;32m   1473\u001b[0m         \u001b[0;32mif\u001b[0m \u001b[0mrun_metadata\u001b[0m\u001b[0;34m:\u001b[0m\u001b[0;34m\u001b[0m\u001b[0;34m\u001b[0m\u001b[0m\n\u001b[1;32m   1474\u001b[0m           \u001b[0mproto_data\u001b[0m \u001b[0;34m=\u001b[0m \u001b[0mtf_session\u001b[0m\u001b[0;34m.\u001b[0m\u001b[0mTF_GetBuffer\u001b[0m\u001b[0;34m(\u001b[0m\u001b[0mrun_metadata_ptr\u001b[0m\u001b[0;34m)\u001b[0m\u001b[0;34m\u001b[0m\u001b[0;34m\u001b[0m\u001b[0m\n",
            "\u001b[0;31mKeyboardInterrupt\u001b[0m: "
          ]
        }
      ]
    },
    {
      "cell_type": "code",
      "metadata": {
        "id": "yk03CBUriqif",
        "colab_type": "code",
        "outputId": "247bc78d-455e-472f-f2c3-c31f155e0464",
        "colab": {
          "base_uri": "https://localhost:8080/",
          "height": 51
        }
      },
      "source": [
        "model.evaluate(test_features,test_labels, batch_size = 5)"
      ],
      "execution_count": 57,
      "outputs": [
        {
          "output_type": "stream",
          "text": [
            "245/245 [==============================] - 0s 1ms/step\n"
          ],
          "name": "stdout"
        },
        {
          "output_type": "execute_result",
          "data": {
            "text/plain": [
              "[1.686959433844503, 0.4938775620290211]"
            ]
          },
          "metadata": {
            "tags": []
          },
          "execution_count": 57
        }
      ]
    },
    {
      "cell_type": "code",
      "metadata": {
        "id": "Grl4uypx-zzu",
        "colab_type": "code",
        "colab": {}
      },
      "source": [
        "model.save('voice_rec.h5')"
      ],
      "execution_count": 0,
      "outputs": []
    },
    {
      "cell_type": "code",
      "metadata": {
        "id": "OuMDC4TNRxud",
        "colab_type": "code",
        "outputId": "53f9ff86-4ccc-423d-d21f-b8f388813002",
        "colab": {
          "base_uri": "https://localhost:8080/",
          "height": 88
        }
      },
      "source": [
        "from keras.models import load_model\n",
        "model = load_model('voice_rec.h5')"
      ],
      "execution_count": 0,
      "outputs": [
        {
          "output_type": "stream",
          "text": [
            "WARNING:tensorflow:From /usr/local/lib/python3.6/dist-packages/tensorflow/python/ops/math_ops.py:3066: to_int32 (from tensorflow.python.ops.math_ops) is deprecated and will be removed in a future version.\n",
            "Instructions for updating:\n",
            "Use tf.cast instead.\n"
          ],
          "name": "stdout"
        }
      ]
    },
    {
      "cell_type": "code",
      "metadata": {
        "id": "CxL_btlJisLp",
        "colab_type": "code",
        "colab": {}
      },
      "source": [
        "test_predictions = model.predict(test_features,batch_size=5)"
      ],
      "execution_count": 0,
      "outputs": []
    },
    {
      "cell_type": "code",
      "metadata": {
        "id": "mL4tLKfjixMz",
        "colab_type": "code",
        "outputId": "e0d187f3-b86e-43f4-9f16-56b2a2dfb015",
        "colab": {
          "base_uri": "https://localhost:8080/",
          "height": 34
        }
      },
      "source": [
        "\n",
        "test_predictions.shape"
      ],
      "execution_count": 59,
      "outputs": [
        {
          "output_type": "execute_result",
          "data": {
            "text/plain": [
              "(245, 8)"
            ]
          },
          "metadata": {
            "tags": []
          },
          "execution_count": 59
        }
      ]
    },
    {
      "cell_type": "markdown",
      "metadata": {
        "id": "u5ejiHIR6rc-",
        "colab_type": "text"
      },
      "source": [
        ""
      ]
    },
    {
      "cell_type": "code",
      "metadata": {
        "id": "CDLPQYYT0k08",
        "colab_type": "code",
        "colab": {}
      },
      "source": [
        "y_pred = []\n",
        "for i in test_predictions:\n",
        "  max = -1\n",
        "  pos=-1\n",
        "  for j in range(8):\n",
        "    if i[j] > max:\n",
        "      max=i[j]\n",
        "      pos = j\n",
        "  y_pred.append(pos)"
      ],
      "execution_count": 0,
      "outputs": []
    },
    {
      "cell_type": "code",
      "metadata": {
        "id": "i9Jg513yyf3p",
        "colab_type": "code",
        "colab": {}
      },
      "source": [
        "y_test = []\n",
        "for i in test_labels:\n",
        "  max = -1\n",
        "  pos=-1\n",
        "  for j in range(8):\n",
        "    if i[j] > max:\n",
        "      max=i[j]\n",
        "      pos = j\n",
        "  y_test.append(pos)"
      ],
      "execution_count": 0,
      "outputs": []
    },
    {
      "cell_type": "code",
      "metadata": {
        "id": "nS2SldKpMLKl",
        "colab_type": "code",
        "colab": {}
      },
      "source": [
        "y_train = []\n",
        "for i in train_labels:\n",
        "  max = -1\n",
        "  pos=-1\n",
        "  for j in range(8):\n",
        "    if i[j] > max:\n",
        "      max=i[j]\n",
        "      pos = j\n",
        "  y_train.append(pos)"
      ],
      "execution_count": 0,
      "outputs": []
    },
    {
      "cell_type": "code",
      "metadata": {
        "id": "inQheBD-lcye",
        "colab_type": "code",
        "colab": {}
      },
      "source": [
        "y_pred = np.array(y_pred)\n",
        "y_test = np.array(y_test)\n",
        "y_train = np.array(y_train)"
      ],
      "execution_count": 0,
      "outputs": []
    },
    {
      "cell_type": "code",
      "metadata": {
        "id": "Xrn_eNexxmTi",
        "colab_type": "code",
        "colab": {}
      },
      "source": [
        "from sklearn.metrics import confusion_matrix"
      ],
      "execution_count": 0,
      "outputs": []
    },
    {
      "cell_type": "markdown",
      "metadata": {
        "id": "q5d2wceBoGT1",
        "colab_type": "text"
      },
      "source": [
        "### **Confusion Matrix**"
      ]
    },
    {
      "cell_type": "code",
      "metadata": {
        "id": "jgvMUMJeyW3x",
        "colab_type": "code",
        "outputId": "75ac2933-c864-4c95-afd7-c02a7e667141",
        "colab": {
          "base_uri": "https://localhost:8080/",
          "height": 153
        }
      },
      "source": [
        "print(confusion_matrix(y_test,y_pred))"
      ],
      "execution_count": 65,
      "outputs": [
        {
          "output_type": "stream",
          "text": [
            "[[11  5  1  3  4  0  5  1]\n",
            " [ 1 18  5  0  4  0  1  1]\n",
            " [ 3  2 12  0  6  1  0  1]\n",
            " [ 0  1  0 20  5  1  1  2]\n",
            " [ 2  2  4  0 21  2  2  2]\n",
            " [ 1  2  2  0  2 15  6  2]\n",
            " [ 0  0  4  0 12  1 13  5]\n",
            " [ 2  2  1  1  8  2  3 11]]\n"
          ],
          "name": "stdout"
        }
      ]
    },
    {
      "cell_type": "code",
      "metadata": {
        "id": "wMcZnkt9yskD",
        "colab_type": "code",
        "colab": {}
      },
      "source": [
        "singer_labels = { 0:'Arijit Singh',  1:'Armaan Malik',  2:'Atif Aslam' , 3:'Honey Singh', 4:'Raahat Fateh Ali Khan', 5:'Shreya Ghoshal', 6:'Sonu Nigam', 7:'Sunidhi Chauhan'}"
      ],
      "execution_count": 0,
      "outputs": []
    },
    {
      "cell_type": "markdown",
      "metadata": {
        "id": "ouxkNQFRoOkV",
        "colab_type": "text"
      },
      "source": [
        "### **Trying XGBoost and LGBoost**"
      ]
    },
    {
      "cell_type": "code",
      "metadata": {
        "colab_type": "code",
        "id": "pCreFbLny4-X",
        "colab": {}
      },
      "source": [
        "from sklearn.model_selection import GridSearchCV\n",
        "from xgboost import XGBClassifier\n",
        "import lightgbm as lgb"
      ],
      "execution_count": 0,
      "outputs": []
    },
    {
      "cell_type": "code",
      "metadata": {
        "colab_type": "code",
        "id": "h15AmkA6y4mH",
        "colab": {}
      },
      "source": [
        "lg = lgb.LGBMClassifier(n_threads=-1,n_estimators=100)"
      ],
      "execution_count": 0,
      "outputs": []
    },
    {
      "cell_type": "code",
      "metadata": {
        "colab_type": "code",
        "outputId": "3fdfe21b-61d4-41d7-9f02-8d3c747114d3",
        "id": "2al5CdlQy4Ji",
        "colab": {
          "base_uri": "https://localhost:8080/",
          "height": 119
        }
      },
      "source": [
        "lg.fit(train_features,y_train)"
      ],
      "execution_count": 0,
      "outputs": [
        {
          "output_type": "execute_result",
          "data": {
            "text/plain": [
              "LGBMClassifier(boosting_type='gbdt', class_weight=None, colsample_bytree=1.0,\n",
              "        importance_type='split', learning_rate=0.1, max_depth=-1,\n",
              "        min_child_samples=20, min_child_weight=0.001, min_split_gain=0.0,\n",
              "        n_estimators=100, n_jobs=-1, num_leaves=31, objective=None,\n",
              "        random_state=None, reg_alpha=0.0, reg_lambda=0.0, silent=True,\n",
              "        subsample=1.0, subsample_for_bin=200000, subsample_freq=0)"
            ]
          },
          "metadata": {
            "tags": []
          },
          "execution_count": 44
        }
      ]
    },
    {
      "cell_type": "code",
      "metadata": {
        "id": "5SYPGJquYGp1",
        "colab_type": "code",
        "outputId": "62d3cfe8-3d1d-4c27-940b-0ce86b1a29bd",
        "colab": {
          "base_uri": "https://localhost:8080/",
          "height": 34
        }
      },
      "source": [
        "lg.score(test_features,y_test)"
      ],
      "execution_count": 0,
      "outputs": [
        {
          "output_type": "execute_result",
          "data": {
            "text/plain": [
              "0.3673469387755102"
            ]
          },
          "metadata": {
            "tags": []
          },
          "execution_count": 45
        }
      ]
    },
    {
      "cell_type": "code",
      "metadata": {
        "id": "q3ym9k8xLiqZ",
        "colab_type": "code",
        "outputId": "fe0b31a5-e4f6-46ed-ddce-ffafecc6d96f",
        "colab": {
          "base_uri": "https://localhost:8080/",
          "height": 119
        }
      },
      "source": [
        "clf = XGBClassifier(n_threads=-1,n_estimators=100)\n",
        "clf.fit(train_features,y_train)"
      ],
      "execution_count": 0,
      "outputs": [
        {
          "output_type": "execute_result",
          "data": {
            "text/plain": [
              "XGBClassifier(base_score=0.5, booster='gbtree', colsample_bylevel=1,\n",
              "       colsample_bytree=1, gamma=0, learning_rate=0.1, max_delta_step=0,\n",
              "       max_depth=3, min_child_weight=1, missing=None, n_estimators=100,\n",
              "       n_jobs=1, n_threads=-1, nthread=None, objective='multi:softprob',\n",
              "       random_state=0, reg_alpha=0, reg_lambda=1, scale_pos_weight=1,\n",
              "       seed=None, silent=True, subsample=1)"
            ]
          },
          "metadata": {
            "tags": []
          },
          "execution_count": 46
        }
      ]
    },
    {
      "cell_type": "code",
      "metadata": {
        "id": "dys5ESH7frqf",
        "colab_type": "code",
        "outputId": "12e7e4ad-0d4d-4d43-d86d-d3b17bafa305",
        "colab": {
          "base_uri": "https://localhost:8080/",
          "height": 34
        }
      },
      "source": [
        "clf.score(test_features,y_test)"
      ],
      "execution_count": 0,
      "outputs": [
        {
          "output_type": "execute_result",
          "data": {
            "text/plain": [
              "0.3795918367346939"
            ]
          },
          "metadata": {
            "tags": []
          },
          "execution_count": 47
        }
      ]
    },
    {
      "cell_type": "code",
      "metadata": {
        "id": "-LHmbW0dMaRB",
        "colab_type": "code",
        "colab": {}
      },
      "source": [
        "import joblib\n",
        "#save model\n",
        " \n",
        "\n"
      ],
      "execution_count": 0,
      "outputs": []
    },
    {
      "cell_type": "code",
      "metadata": {
        "id": "qSQ4oEf3yXPq",
        "colab_type": "code",
        "outputId": "b2587aa2-ca2e-4f66-a748-9f0ad9c21dc2",
        "colab": {
          "base_uri": "https://localhost:8080/",
          "height": 34
        }
      },
      "source": [
        "joblib.dump(clf, 'XGB model2')"
      ],
      "execution_count": 0,
      "outputs": [
        {
          "output_type": "execute_result",
          "data": {
            "text/plain": [
              "['XGB model2']"
            ]
          },
          "metadata": {
            "tags": []
          },
          "execution_count": 50
        }
      ]
    },
    {
      "cell_type": "code",
      "metadata": {
        "id": "Q1I70bkYMmc5",
        "colab_type": "code",
        "colab": {}
      },
      "source": [
        "#load model\n",
        "clf = joblib.load('XGB model2')"
      ],
      "execution_count": 0,
      "outputs": []
    },
    {
      "cell_type": "code",
      "metadata": {
        "id": "koLB42s1Ls2h",
        "colab_type": "code",
        "outputId": "d26e18d4-7ca1-4778-9599-eca71fd21152",
        "colab": {
          "base_uri": "https://localhost:8080/",
          "height": 221
        }
      },
      "source": [
        "y_pred_xg = clf.predict(test_features)\n",
        "y_pred_xg"
      ],
      "execution_count": 0,
      "outputs": [
        {
          "output_type": "execute_result",
          "data": {
            "text/plain": [
              "array([4, 4, 3, 1, 2, 0, 2, 0, 5, 0, 0, 6, 1, 5, 0, 0, 4, 2, 1, 0, 0, 1,\n",
              "       6, 1, 7, 7, 1, 4, 4, 4, 1, 0, 6, 6, 1, 2, 1, 1, 1, 1, 1, 0, 1, 0,\n",
              "       6, 5, 2, 1, 1, 1, 0, 1, 4, 0, 7, 1, 1, 1, 1, 0, 2, 5, 2, 2, 4, 5,\n",
              "       0, 1, 1, 0, 0, 6, 0, 2, 2, 4, 7, 2, 6, 0, 2, 2, 2, 0, 2, 3, 6, 5,\n",
              "       5, 7, 5, 3, 3, 7, 7, 7, 7, 7, 3, 3, 3, 3, 3, 3, 3, 3, 3, 3, 3, 3,\n",
              "       3, 4, 4, 4, 3, 5, 6, 4, 1, 1, 5, 0, 1, 2, 0, 4, 2, 0, 4, 1, 6, 4,\n",
              "       1, 5, 4, 2, 5, 4, 4, 6, 4, 6, 4, 6, 7, 7, 2, 6, 4, 5, 5, 5, 5, 5,\n",
              "       6, 7, 7, 1, 5, 5, 5, 5, 2, 5, 1, 0, 2, 4, 5, 5, 5, 5, 5, 4, 5, 7,\n",
              "       6, 5, 5, 5, 7, 0, 4, 4, 4, 4, 1, 4, 4, 4, 2, 7, 7, 1, 7, 4, 0, 6,\n",
              "       1, 1, 1, 1, 0, 1, 6, 6, 6, 6, 6, 1, 0, 0, 1, 0, 0, 0, 1, 2, 1, 1,\n",
              "       7, 2, 6, 1, 7, 5, 0, 0, 5, 4, 4, 0, 7, 7, 6, 7, 4, 4, 5, 2, 7, 3,\n",
              "       7, 7, 5])"
            ]
          },
          "metadata": {
            "tags": []
          },
          "execution_count": 51
        }
      ]
    },
    {
      "cell_type": "code",
      "metadata": {
        "id": "1Mr_iMDTCdXC",
        "colab_type": "code",
        "outputId": "b6db9993-a81b-40bb-acd4-6039529a9f80",
        "colab": {
          "base_uri": "https://localhost:8080/",
          "height": 221
        }
      },
      "source": [
        "y_pred"
      ],
      "execution_count": 0,
      "outputs": [
        {
          "output_type": "execute_result",
          "data": {
            "text/plain": [
              "array([0, 7, 1, 1, 1, 0, 2, 0, 6, 0, 0, 6, 6, 5, 0, 0, 4, 0, 1, 0, 2, 1,\n",
              "       6, 0, 1, 7, 3, 3, 3, 1, 1, 1, 1, 0, 0, 2, 0, 1, 1, 1, 1, 1, 0, 5,\n",
              "       6, 5, 2, 1, 1, 1, 1, 1, 6, 5, 2, 1, 1, 1, 1, 0, 2, 0, 2, 2, 2, 5,\n",
              "       1, 2, 1, 0, 2, 2, 0, 2, 2, 5, 7, 2, 2, 2, 2, 2, 0, 2, 4, 3, 0, 4,\n",
              "       6, 4, 6, 5, 7, 7, 7, 7, 3, 7, 3, 3, 3, 3, 3, 3, 3, 4, 3, 3, 3, 3,\n",
              "       3, 0, 0, 0, 0, 7, 4, 4, 0, 0, 5, 4, 1, 0, 0, 4, 2, 2, 4, 4, 4, 4,\n",
              "       2, 2, 4, 4, 4, 7, 4, 4, 4, 6, 4, 6, 4, 2, 2, 6, 4, 5, 5, 5, 6, 7,\n",
              "       6, 7, 7, 5, 5, 5, 7, 5, 1, 5, 1, 5, 1, 4, 5, 5, 5, 5, 5, 5, 5, 5,\n",
              "       5, 5, 5, 5, 7, 4, 4, 4, 4, 4, 1, 7, 6, 3, 7, 0, 7, 4, 7, 4, 6, 6,\n",
              "       4, 1, 1, 1, 6, 1, 6, 6, 6, 6, 6, 7, 0, 0, 4, 1, 0, 6, 4, 7, 1, 1,\n",
              "       5, 5, 5, 0, 7, 1, 6, 7, 0, 7, 4, 0, 0, 7, 7, 7, 3, 7, 5, 7, 7, 4,\n",
              "       7, 7, 7])"
            ]
          },
          "metadata": {
            "tags": []
          },
          "execution_count": 105
        }
      ]
    },
    {
      "cell_type": "code",
      "metadata": {
        "id": "O4__vhehgE9z",
        "colab_type": "code",
        "outputId": "cbeb71ec-8e5c-469d-8d30-71d242e39d27",
        "colab": {
          "base_uri": "https://localhost:8080/",
          "height": 221
        }
      },
      "source": [
        "y_test"
      ],
      "execution_count": 0,
      "outputs": [
        {
          "output_type": "execute_result",
          "data": {
            "text/plain": [
              "array([0, 0, 0, 0, 0, 0, 0, 0, 0, 0, 0, 0, 0, 0, 0, 0, 0, 0, 0, 0, 0, 0,\n",
              "       0, 0, 0, 0, 0, 0, 0, 0, 1, 1, 1, 1, 1, 1, 1, 1, 1, 1, 1, 1, 1, 1,\n",
              "       1, 1, 1, 1, 1, 1, 1, 1, 1, 1, 1, 1, 1, 1, 1, 1, 2, 2, 2, 2, 2, 2,\n",
              "       2, 2, 2, 2, 2, 2, 2, 2, 2, 2, 2, 2, 2, 2, 2, 2, 2, 2, 2, 3, 3, 3,\n",
              "       3, 3, 3, 3, 3, 3, 3, 3, 3, 3, 3, 3, 3, 3, 3, 3, 3, 3, 3, 3, 3, 3,\n",
              "       3, 3, 3, 3, 3, 4, 4, 4, 4, 4, 4, 4, 4, 4, 4, 4, 4, 4, 4, 4, 4, 4,\n",
              "       4, 4, 4, 4, 4, 4, 4, 4, 4, 4, 4, 4, 4, 4, 4, 4, 4, 4, 5, 5, 5, 5,\n",
              "       5, 5, 5, 5, 5, 5, 5, 5, 5, 5, 5, 5, 5, 5, 5, 5, 5, 5, 5, 5, 5, 5,\n",
              "       5, 5, 5, 5, 6, 6, 6, 6, 6, 6, 6, 6, 6, 6, 6, 6, 6, 6, 6, 6, 6, 6,\n",
              "       6, 6, 6, 6, 6, 6, 6, 6, 6, 6, 6, 6, 6, 6, 6, 6, 6, 7, 7, 7, 7, 7,\n",
              "       7, 7, 7, 7, 7, 7, 7, 7, 7, 7, 7, 7, 7, 7, 7, 7, 7, 7, 7, 7, 7, 7,\n",
              "       7, 7, 7])"
            ]
          },
          "metadata": {
            "tags": []
          },
          "execution_count": 82
        }
      ]
    },
    {
      "cell_type": "code",
      "metadata": {
        "id": "x_frldbj2qQG",
        "colab_type": "code",
        "colab": {}
      },
      "source": [
        "from collections import Counter"
      ],
      "execution_count": 0,
      "outputs": []
    },
    {
      "cell_type": "code",
      "metadata": {
        "id": "LGv4djUdMHM-",
        "colab_type": "code",
        "outputId": "e16f2e05-d137-4de0-cb2e-f9cf258a26b8",
        "colab": {
          "base_uri": "https://localhost:8080/",
          "height": 34
        }
      },
      "source": [
        "dirr = os.getcwd() + '/Songs_Dataset/test/'\n",
        "dirr"
      ],
      "execution_count": 68,
      "outputs": [
        {
          "output_type": "execute_result",
          "data": {
            "text/plain": [
              "'/content/drive/My Drive/Songs_Dataset/test/'"
            ]
          },
          "metadata": {
            "tags": []
          },
          "execution_count": 68
        }
      ]
    },
    {
      "cell_type": "code",
      "metadata": {
        "id": "VJn6rPcre6zA",
        "colab_type": "code",
        "colab": {}
      },
      "source": [
        "folders = os.listdir(dirr)"
      ],
      "execution_count": 0,
      "outputs": []
    },
    {
      "cell_type": "code",
      "metadata": {
        "id": "_lQhYPRse_ry",
        "colab_type": "code",
        "outputId": "a75be642-deec-4382-806e-f593e927f5d9",
        "colab": {
          "base_uri": "https://localhost:8080/",
          "height": 901
        }
      },
      "source": [
        "test_songs = {}\n",
        "for folder in folders:\n",
        "  songs = os.listdir(dirr+folder)\n",
        "  #print(folder)\n",
        "  for i in range(len(songs)):\n",
        "    songs[i] = songs[i].split('-')[0]\n",
        "  test_songs[folder] = songs\n",
        "  #print(songs)\n",
        "test_songs"
      ],
      "execution_count": 70,
      "outputs": [
        {
          "output_type": "execute_result",
          "data": {
            "text/plain": [
              "{'Arijit Singh': ['Lambiyaan Si Judaiyaan Song ',\n",
              "  'Nashe Si Chadh Gayi Song ',\n",
              "  'Enna Sona Song ',\n",
              "  'Phir Le Aya Dil (Reprise) Song ',\n",
              "  'Baaton Ko Teri Song ',\n",
              "  'Yeh Fitoor Mera Song '],\n",
              " 'Armaan Malik': ['Kaun Tujhe & Kuch Toh Hai Mashup Song ',\n",
              "  'Jaadugari Song ',\n",
              "  'Khwaishein (Film Version) Song ',\n",
              "  'Main Hoon Hero Tera (Sad Version) Song ',\n",
              "  'Tum Jo Mile Song ',\n",
              "  'Rendu Kallu Song ',\n",
              "  'Sariyaagi (From '],\n",
              " 'Atif Aslam': ['Mori Araj Suno (From ',\n",
              "  'Jal Pari Song ',\n",
              "  'Khair Mangda Song ',\n",
              "  'Dil Kare Song ',\n",
              "  'Darasal Song '],\n",
              " 'Honey Singh': ['One Bottle Down Song ',\n",
              "  'Khalaara Song ',\n",
              "  'Superman Song ',\n",
              "  'Rani Song ',\n",
              "  'Love Dose Song ',\n",
              "  'Urvashi Song '],\n",
              " 'Raahat Fateh Ali Khan': ['Naino Nay Tere Song ',\n",
              "  'Tum Kon Piya Song ',\n",
              "  'Tinka Tinka Dil Mera Song ',\n",
              "  'Saiyaan Radio ',\n",
              "  'Fakeera Song ',\n",
              "  'Lag Ja Gale Song ',\n",
              "  'Tera Mera Sath Ho Song '],\n",
              " 'Shreya Ghoshal': ['Sunn Raha Hai (Female) Song ',\n",
              "  'Yeh Kya Hua Song ',\n",
              "  'Agar Tum Mil Jao',\n",
              "  'Sunn Raha Hai',\n",
              "  'Daata Tu Song ',\n",
              "  'Saans (Reprise) Song ',\n",
              "  'Tum Bin Song '],\n",
              " 'Sonu Nigam': ['Jaane Nahin Denge Tujhe Song ',\n",
              "  'Aye Zindagi Song ',\n",
              "  'Anisuthide Song ',\n",
              "  'Bijuria Song ',\n",
              "  'Zindagi Is Tarah Song ',\n",
              "  'Gamanisu Song ',\n",
              "  'Deewane Hoke Hum Song '],\n",
              " 'Sunidhi Chauhan': ['Ganaraj Tu Song ',\n",
              "  'Dil Mein Jaagi Dhadkan Aise (Sur (The Melody Of Life) _ Soundtrack Version) Song ',\n",
              "  'Aaja Nachle Song ',\n",
              "  'Piku Song ',\n",
              "  'Jind Mahi Song ',\n",
              "  'Aye Dil Song ',\n",
              "  'Aisa Jadoo (Remix) Song ']}"
            ]
          },
          "metadata": {
            "tags": []
          },
          "execution_count": 70
        }
      ]
    },
    {
      "cell_type": "code",
      "metadata": {
        "id": "3385kMJLORqy",
        "colab_type": "code",
        "outputId": "c11d3650-b041-4372-911b-fca3fa249dbc",
        "colab": {
          "base_uri": "https://localhost:8080/",
          "height": 54
        }
      },
      "source": [
        "all_singers={}\n",
        "for singers in singer_labels.values():\n",
        "    all_singers[singers] = {}\n",
        "    for singers2 in singer_labels.values():\n",
        "      all_singers[singers][singers2] = 0\n",
        "print(all_singers)"
      ],
      "execution_count": 71,
      "outputs": [
        {
          "output_type": "stream",
          "text": [
            "{'Arijit Singh': {'Arijit Singh': 0, 'Armaan Malik': 0, 'Atif Aslam': 0, 'Honey Singh': 0, 'Raahat Fateh Ali Khan': 0, 'Shreya Ghoshal': 0, 'Sonu Nigam': 0, 'Sunidhi Chauhan': 0}, 'Armaan Malik': {'Arijit Singh': 0, 'Armaan Malik': 0, 'Atif Aslam': 0, 'Honey Singh': 0, 'Raahat Fateh Ali Khan': 0, 'Shreya Ghoshal': 0, 'Sonu Nigam': 0, 'Sunidhi Chauhan': 0}, 'Atif Aslam': {'Arijit Singh': 0, 'Armaan Malik': 0, 'Atif Aslam': 0, 'Honey Singh': 0, 'Raahat Fateh Ali Khan': 0, 'Shreya Ghoshal': 0, 'Sonu Nigam': 0, 'Sunidhi Chauhan': 0}, 'Honey Singh': {'Arijit Singh': 0, 'Armaan Malik': 0, 'Atif Aslam': 0, 'Honey Singh': 0, 'Raahat Fateh Ali Khan': 0, 'Shreya Ghoshal': 0, 'Sonu Nigam': 0, 'Sunidhi Chauhan': 0}, 'Raahat Fateh Ali Khan': {'Arijit Singh': 0, 'Armaan Malik': 0, 'Atif Aslam': 0, 'Honey Singh': 0, 'Raahat Fateh Ali Khan': 0, 'Shreya Ghoshal': 0, 'Sonu Nigam': 0, 'Sunidhi Chauhan': 0}, 'Shreya Ghoshal': {'Arijit Singh': 0, 'Armaan Malik': 0, 'Atif Aslam': 0, 'Honey Singh': 0, 'Raahat Fateh Ali Khan': 0, 'Shreya Ghoshal': 0, 'Sonu Nigam': 0, 'Sunidhi Chauhan': 0}, 'Sonu Nigam': {'Arijit Singh': 0, 'Armaan Malik': 0, 'Atif Aslam': 0, 'Honey Singh': 0, 'Raahat Fateh Ali Khan': 0, 'Shreya Ghoshal': 0, 'Sonu Nigam': 0, 'Sunidhi Chauhan': 0}, 'Sunidhi Chauhan': {'Arijit Singh': 0, 'Armaan Malik': 0, 'Atif Aslam': 0, 'Honey Singh': 0, 'Raahat Fateh Ali Khan': 0, 'Shreya Ghoshal': 0, 'Sonu Nigam': 0, 'Sunidhi Chauhan': 0}}\n"
          ],
          "name": "stdout"
        }
      ]
    },
    {
      "cell_type": "code",
      "metadata": {
        "id": "gmhkuly8pDQ7",
        "colab_type": "code",
        "colab": {}
      },
      "source": [
        ""
      ],
      "execution_count": 0,
      "outputs": []
    },
    {
      "cell_type": "markdown",
      "metadata": {
        "id": "FQDOjRUXofFl",
        "colab_type": "text"
      },
      "source": [
        "## **Results**"
      ]
    },
    {
      "cell_type": "code",
      "metadata": {
        "id": "k29-Nu0e3T_9",
        "colab_type": "code",
        "outputId": "9e87193f-8c22-4d61-a95e-0aa87cc7ba67",
        "colab": {
          "base_uri": "https://localhost:8080/",
          "height": 1000
        }
      },
      "source": [
        "ctr=0\n",
        "unsure = 0\n",
        "correct = 0\n",
        "count = 0\n",
        "prev_singer = 0\n",
        "for i in range(49):\n",
        "  count_pred = Counter(y_pred[ctr:ctr+5]).most_common(5)\n",
        "\n",
        "  actual_singer,num = Counter(y_test[ctr:ctr+5]).most_common(1)[0]\n",
        "  if(actual_singer!=prev_singer):\n",
        "    prev_singer = actual_singer\n",
        "    count = 0\n",
        "  \n",
        "  #print(count_pred)\n",
        "  pred_singers = []\n",
        "  for pred in count_pred:\n",
        "    pred_singers.append([singer_labels[pred[0]],pred[1]/5])\n",
        "  #print(pred_singers)\n",
        "  print('Song:',test_songs[singer_labels[actual_singer]][count])\n",
        "  count+=1\n",
        "  print('Actual Singer:', singer_labels[actual_singer])\n",
        "  print('Predictions:-')\n",
        "  max_conf_singers = []\n",
        "  tie = 0\n",
        "  maxi = 0\n",
        "  cnt=0\n",
        "  for singer in pred_singers:\n",
        "      if(cnt==0):\n",
        "        predicted = singer[0]\n",
        "      cnt+=1\n",
        "      print('Singer:', singer[0])\n",
        "      print('Confidence:', singer[1])\n",
        "      if(singer[1]>=maxi):\n",
        "        if singer[1]>0.2:\n",
        "          maxi = singer[1]\n",
        "          max_conf_singers.append(singer[0])\n",
        "      if(singer[1]==0.4):\n",
        "        tie+=1\n",
        "      \n",
        "  #print(max_conf_singer)\n",
        "  if(len(max_conf_singers)!=0):\n",
        "    for  max_conf_singer in  max_conf_singers:\n",
        "        if max_conf_singer == singer_labels[actual_singer] :\n",
        "          correct+=1\n",
        " # print(pred_singers,actual_singer)\n",
        "  for singer in pred_singers:\n",
        "    #print(singer[0])\n",
        "    if singer[0] == singer_labels[actual_singer]:\n",
        "      unsure+=1\n",
        "      break\n",
        "      \n",
        "  print('Predicted Singer:\\033[0m', predicted)\n",
        "  ctr+=5\n",
        "  all_singers[singer_labels[actual_singer]][predicted]+=1\n",
        "  \n",
        "  print()\n",
        "print('Correct majority vote songs:', correct)\n",
        "print('Accuracy: %0.3f' % (100*correct/49))\n",
        "print('Correct + Unsure count:', unsure)\n",
        "print('Correct + Unsure accuracy: %0.3f' % (100*unsure/49))"
      ],
      "execution_count": 72,
      "outputs": [
        {
          "output_type": "stream",
          "text": [
            "Song: Lambiyaan Si Judaiyaan Song \n",
            "Actual Singer: Arijit Singh\n",
            "Predictions:-\n",
            "Singer: Armaan Malik\n",
            "Confidence: 0.4\n",
            "Singer: Sonu Nigam\n",
            "Confidence: 0.2\n",
            "Singer: Raahat Fateh Ali Khan\n",
            "Confidence: 0.2\n",
            "Singer: Atif Aslam\n",
            "Confidence: 0.2\n",
            "Predicted Singer:\u001b[0m Armaan Malik\n",
            "\n",
            "Song: Nashe Si Chadh Gayi Song \n",
            "Actual Singer: Arijit Singh\n",
            "Predictions:-\n",
            "Singer: Arijit Singh\n",
            "Confidence: 0.4\n",
            "Singer: Armaan Malik\n",
            "Confidence: 0.2\n",
            "Singer: Honey Singh\n",
            "Confidence: 0.2\n",
            "Singer: Sonu Nigam\n",
            "Confidence: 0.2\n",
            "Predicted Singer:\u001b[0m Arijit Singh\n",
            "\n",
            "Song: Enna Sona Song \n",
            "Actual Singer: Arijit Singh\n",
            "Predictions:-\n",
            "Singer: Arijit Singh\n",
            "Confidence: 0.8\n",
            "Singer: Sonu Nigam\n",
            "Confidence: 0.2\n",
            "Predicted Singer:\u001b[0m Arijit Singh\n",
            "\n",
            "Song: Phir Le Aya Dil (Reprise) Song \n",
            "Actual Singer: Arijit Singh\n",
            "Predictions:-\n",
            "Singer: Raahat Fateh Ali Khan\n",
            "Confidence: 0.4\n",
            "Singer: Arijit Singh\n",
            "Confidence: 0.4\n",
            "Singer: Sonu Nigam\n",
            "Confidence: 0.2\n",
            "Predicted Singer:\u001b[0m Raahat Fateh Ali Khan\n",
            "\n",
            "Song: Baaton Ko Teri Song \n",
            "Actual Singer: Arijit Singh\n",
            "Predictions:-\n",
            "Singer: Arijit Singh\n",
            "Confidence: 0.4\n",
            "Singer: Armaan Malik\n",
            "Confidence: 0.4\n",
            "Singer: Sonu Nigam\n",
            "Confidence: 0.2\n",
            "Predicted Singer:\u001b[0m Arijit Singh\n",
            "\n",
            "Song: Yeh Fitoor Mera Song \n",
            "Actual Singer: Arijit Singh\n",
            "Predictions:-\n",
            "Singer: Honey Singh\n",
            "Confidence: 0.4\n",
            "Singer: Arijit Singh\n",
            "Confidence: 0.2\n",
            "Singer: Sunidhi Chauhan\n",
            "Confidence: 0.2\n",
            "Singer: Raahat Fateh Ali Khan\n",
            "Confidence: 0.2\n",
            "Predicted Singer:\u001b[0m Honey Singh\n",
            "\n",
            "Song: Kaun Tujhe & Kuch Toh Hai Mashup Song \n",
            "Actual Singer: Armaan Malik\n",
            "Predictions:-\n",
            "Singer: Armaan Malik\n",
            "Confidence: 0.6\n",
            "Singer: Raahat Fateh Ali Khan\n",
            "Confidence: 0.2\n",
            "Singer: Atif Aslam\n",
            "Confidence: 0.2\n",
            "Predicted Singer:\u001b[0m Armaan Malik\n",
            "\n",
            "Song: Jaadugari Song \n",
            "Actual Singer: Armaan Malik\n",
            "Predictions:-\n",
            "Singer: Raahat Fateh Ali Khan\n",
            "Confidence: 0.4\n",
            "Singer: Armaan Malik\n",
            "Confidence: 0.4\n",
            "Singer: Atif Aslam\n",
            "Confidence: 0.2\n",
            "Predicted Singer:\u001b[0m Raahat Fateh Ali Khan\n",
            "\n",
            "Song: Khwaishein (Film Version) Song \n",
            "Actual Singer: Armaan Malik\n",
            "Predictions:-\n",
            "Singer: Armaan Malik\n",
            "Confidence: 0.8\n",
            "Singer: Atif Aslam\n",
            "Confidence: 0.2\n",
            "Predicted Singer:\u001b[0m Armaan Malik\n",
            "\n",
            "Song: Main Hoon Hero Tera (Sad Version) Song \n",
            "Actual Singer: Armaan Malik\n",
            "Predictions:-\n",
            "Singer: Armaan Malik\n",
            "Confidence: 0.6\n",
            "Singer: Arijit Singh\n",
            "Confidence: 0.2\n",
            "Singer: Atif Aslam\n",
            "Confidence: 0.2\n",
            "Predicted Singer:\u001b[0m Armaan Malik\n",
            "\n",
            "Song: Tum Jo Mile Song \n",
            "Actual Singer: Armaan Malik\n",
            "Predictions:-\n",
            "Singer: Armaan Malik\n",
            "Confidence: 0.4\n",
            "Singer: Sunidhi Chauhan\n",
            "Confidence: 0.2\n",
            "Singer: Atif Aslam\n",
            "Confidence: 0.2\n",
            "Singer: Sonu Nigam\n",
            "Confidence: 0.2\n",
            "Predicted Singer:\u001b[0m Armaan Malik\n",
            "\n",
            "Song: Rendu Kallu Song \n",
            "Actual Singer: Armaan Malik\n",
            "Predictions:-\n",
            "Singer: Armaan Malik\n",
            "Confidence: 0.8\n",
            "Singer: Raahat Fateh Ali Khan\n",
            "Confidence: 0.2\n",
            "Predicted Singer:\u001b[0m Armaan Malik\n",
            "\n",
            "Song: Mori Araj Suno (From \n",
            "Actual Singer: Atif Aslam\n",
            "Predictions:-\n",
            "Singer: Atif Aslam\n",
            "Confidence: 0.4\n",
            "Singer: Raahat Fateh Ali Khan\n",
            "Confidence: 0.4\n",
            "Singer: Arijit Singh\n",
            "Confidence: 0.2\n",
            "Predicted Singer:\u001b[0m Atif Aslam\n",
            "\n",
            "Song: Jal Pari Song \n",
            "Actual Singer: Atif Aslam\n",
            "Predictions:-\n",
            "Singer: Atif Aslam\n",
            "Confidence: 0.4\n",
            "Singer: Shreya Ghoshal\n",
            "Confidence: 0.2\n",
            "Singer: Armaan Malik\n",
            "Confidence: 0.2\n",
            "Singer: Arijit Singh\n",
            "Confidence: 0.2\n",
            "Predicted Singer:\u001b[0m Atif Aslam\n",
            "\n",
            "Song: Khair Mangda Song \n",
            "Actual Singer: Atif Aslam\n",
            "Predictions:-\n",
            "Singer: Atif Aslam\n",
            "Confidence: 0.8\n",
            "Singer: Arijit Singh\n",
            "Confidence: 0.2\n",
            "Predicted Singer:\u001b[0m Atif Aslam\n",
            "\n",
            "Song: Dil Kare Song \n",
            "Actual Singer: Atif Aslam\n",
            "Predictions:-\n",
            "Singer: Raahat Fateh Ali Khan\n",
            "Confidence: 0.4\n",
            "Singer: Atif Aslam\n",
            "Confidence: 0.2\n",
            "Singer: Sunidhi Chauhan\n",
            "Confidence: 0.2\n",
            "Singer: Armaan Malik\n",
            "Confidence: 0.2\n",
            "Predicted Singer:\u001b[0m Raahat Fateh Ali Khan\n",
            "\n",
            "Song: Darasal Song \n",
            "Actual Singer: Atif Aslam\n",
            "Predictions:-\n",
            "Singer: Atif Aslam\n",
            "Confidence: 0.6\n",
            "Singer: Raahat Fateh Ali Khan\n",
            "Confidence: 0.4\n",
            "Predicted Singer:\u001b[0m Atif Aslam\n",
            "\n",
            "Song: One Bottle Down Song \n",
            "Actual Singer: Honey Singh\n",
            "Predictions:-\n",
            "Singer: Honey Singh\n",
            "Confidence: 0.6\n",
            "Singer: Raahat Fateh Ali Khan\n",
            "Confidence: 0.2\n",
            "Singer: Armaan Malik\n",
            "Confidence: 0.2\n",
            "Predicted Singer:\u001b[0m Honey Singh\n",
            "\n",
            "Song: Khalaara Song \n",
            "Actual Singer: Honey Singh\n",
            "Predictions:-\n",
            "Singer: Honey Singh\n",
            "Confidence: 0.4\n",
            "Singer: Shreya Ghoshal\n",
            "Confidence: 0.2\n",
            "Singer: Raahat Fateh Ali Khan\n",
            "Confidence: 0.2\n",
            "Singer: Sunidhi Chauhan\n",
            "Confidence: 0.2\n",
            "Predicted Singer:\u001b[0m Honey Singh\n",
            "\n",
            "Song: Superman Song \n",
            "Actual Singer: Honey Singh\n",
            "Predictions:-\n",
            "Singer: Honey Singh\n",
            "Confidence: 0.6\n",
            "Singer: Raahat Fateh Ali Khan\n",
            "Confidence: 0.2\n",
            "Singer: Sunidhi Chauhan\n",
            "Confidence: 0.2\n",
            "Predicted Singer:\u001b[0m Honey Singh\n",
            "\n",
            "Song: Rani Song \n",
            "Actual Singer: Honey Singh\n",
            "Predictions:-\n",
            "Singer: Honey Singh\n",
            "Confidence: 1.0\n",
            "Predicted Singer:\u001b[0m Honey Singh\n",
            "\n",
            "Song: Love Dose Song \n",
            "Actual Singer: Honey Singh\n",
            "Predictions:-\n",
            "Singer: Honey Singh\n",
            "Confidence: 1.0\n",
            "Predicted Singer:\u001b[0m Honey Singh\n",
            "\n",
            "Song: Urvashi Song \n",
            "Actual Singer: Honey Singh\n",
            "Predictions:-\n",
            "Singer: Honey Singh\n",
            "Confidence: 0.4\n",
            "Singer: Raahat Fateh Ali Khan\n",
            "Confidence: 0.4\n",
            "Singer: Sonu Nigam\n",
            "Confidence: 0.2\n",
            "Predicted Singer:\u001b[0m Honey Singh\n",
            "\n",
            "Song: Naino Nay Tere Song \n",
            "Actual Singer: Raahat Fateh Ali Khan\n",
            "Predictions:-\n",
            "Singer: Raahat Fateh Ali Khan\n",
            "Confidence: 0.6\n",
            "Singer: Atif Aslam\n",
            "Confidence: 0.2\n",
            "Singer: Armaan Malik\n",
            "Confidence: 0.2\n",
            "Predicted Singer:\u001b[0m Raahat Fateh Ali Khan\n",
            "\n",
            "Song: Tum Kon Piya Song \n",
            "Actual Singer: Raahat Fateh Ali Khan\n",
            "Predictions:-\n",
            "Singer: Raahat Fateh Ali Khan\n",
            "Confidence: 0.6\n",
            "Singer: Shreya Ghoshal\n",
            "Confidence: 0.2\n",
            "Singer: Arijit Singh\n",
            "Confidence: 0.2\n",
            "Predicted Singer:\u001b[0m Raahat Fateh Ali Khan\n",
            "\n",
            "Song: Tinka Tinka Dil Mera Song \n",
            "Actual Singer: Raahat Fateh Ali Khan\n",
            "Predictions:-\n",
            "Singer: Raahat Fateh Ali Khan\n",
            "Confidence: 0.6\n",
            "Singer: Sonu Nigam\n",
            "Confidence: 0.2\n",
            "Singer: Sunidhi Chauhan\n",
            "Confidence: 0.2\n",
            "Predicted Singer:\u001b[0m Raahat Fateh Ali Khan\n",
            "\n",
            "Song: Saiyaan Radio \n",
            "Actual Singer: Raahat Fateh Ali Khan\n",
            "Predictions:-\n",
            "Singer: Raahat Fateh Ali Khan\n",
            "Confidence: 0.4\n",
            "Singer: Atif Aslam\n",
            "Confidence: 0.4\n",
            "Singer: Sunidhi Chauhan\n",
            "Confidence: 0.2\n",
            "Predicted Singer:\u001b[0m Raahat Fateh Ali Khan\n",
            "\n",
            "Song: Fakeera Song \n",
            "Actual Singer: Raahat Fateh Ali Khan\n",
            "Predictions:-\n",
            "Singer: Raahat Fateh Ali Khan\n",
            "Confidence: 0.8\n",
            "Singer: Armaan Malik\n",
            "Confidence: 0.2\n",
            "Predicted Singer:\u001b[0m Raahat Fateh Ali Khan\n",
            "\n",
            "Song: Lag Ja Gale Song \n",
            "Actual Singer: Raahat Fateh Ali Khan\n",
            "Predictions:-\n",
            "Singer: Raahat Fateh Ali Khan\n",
            "Confidence: 0.8\n",
            "Singer: Sonu Nigam\n",
            "Confidence: 0.2\n",
            "Predicted Singer:\u001b[0m Raahat Fateh Ali Khan\n",
            "\n",
            "Song: Tera Mera Sath Ho Song \n",
            "Actual Singer: Raahat Fateh Ali Khan\n",
            "Predictions:-\n",
            "Singer: Raahat Fateh Ali Khan\n",
            "Confidence: 0.4\n",
            "Singer: Arijit Singh\n",
            "Confidence: 0.2\n",
            "Singer: Atif Aslam\n",
            "Confidence: 0.2\n",
            "Singer: Shreya Ghoshal\n",
            "Confidence: 0.2\n",
            "Predicted Singer:\u001b[0m Raahat Fateh Ali Khan\n",
            "\n",
            "Song: Sunn Raha Hai (Female) Song \n",
            "Actual Singer: Shreya Ghoshal\n",
            "Predictions:-\n",
            "Singer: Sonu Nigam\n",
            "Confidence: 0.8\n",
            "Singer: Shreya Ghoshal\n",
            "Confidence: 0.2\n",
            "Predicted Singer:\u001b[0m Sonu Nigam\n",
            "\n",
            "Song: Yeh Kya Hua Song \n",
            "Actual Singer: Shreya Ghoshal\n",
            "Predictions:-\n",
            "Singer: Shreya Ghoshal\n",
            "Confidence: 0.6\n",
            "Singer: Sonu Nigam\n",
            "Confidence: 0.2\n",
            "Singer: Sunidhi Chauhan\n",
            "Confidence: 0.2\n",
            "Predicted Singer:\u001b[0m Shreya Ghoshal\n",
            "\n",
            "Song: Agar Tum Mil Jao\n",
            "Actual Singer: Shreya Ghoshal\n",
            "Predictions:-\n",
            "Singer: Shreya Ghoshal\n",
            "Confidence: 0.8\n",
            "Singer: Raahat Fateh Ali Khan\n",
            "Confidence: 0.2\n",
            "Predicted Singer:\u001b[0m Shreya Ghoshal\n",
            "\n",
            "Song: Sunn Raha Hai\n",
            "Actual Singer: Shreya Ghoshal\n",
            "Predictions:-\n",
            "Singer: Shreya Ghoshal\n",
            "Confidence: 0.6\n",
            "Singer: Armaan Malik\n",
            "Confidence: 0.2\n",
            "Singer: Atif Aslam\n",
            "Confidence: 0.2\n",
            "Predicted Singer:\u001b[0m Shreya Ghoshal\n",
            "\n",
            "Song: Daata Tu Song \n",
            "Actual Singer: Shreya Ghoshal\n",
            "Predictions:-\n",
            "Singer: Shreya Ghoshal\n",
            "Confidence: 0.2\n",
            "Singer: Atif Aslam\n",
            "Confidence: 0.2\n",
            "Singer: Sunidhi Chauhan\n",
            "Confidence: 0.2\n",
            "Singer: Raahat Fateh Ali Khan\n",
            "Confidence: 0.2\n",
            "Singer: Arijit Singh\n",
            "Confidence: 0.2\n",
            "Predicted Singer:\u001b[0m Shreya Ghoshal\n",
            "\n",
            "Song: Saans (Reprise) Song \n",
            "Actual Singer: Shreya Ghoshal\n",
            "Predictions:-\n",
            "Singer: Shreya Ghoshal\n",
            "Confidence: 0.6\n",
            "Singer: Sonu Nigam\n",
            "Confidence: 0.2\n",
            "Singer: Armaan Malik\n",
            "Confidence: 0.2\n",
            "Predicted Singer:\u001b[0m Shreya Ghoshal\n",
            "\n",
            "Song: Jaane Nahin Denge Tujhe Song \n",
            "Actual Singer: Sonu Nigam\n",
            "Predictions:-\n",
            "Singer: Sonu Nigam\n",
            "Confidence: 0.6\n",
            "Singer: Atif Aslam\n",
            "Confidence: 0.2\n",
            "Singer: Raahat Fateh Ali Khan\n",
            "Confidence: 0.2\n",
            "Predicted Singer:\u001b[0m Sonu Nigam\n",
            "\n",
            "Song: Aye Zindagi Song \n",
            "Actual Singer: Sonu Nigam\n",
            "Predictions:-\n",
            "Singer: Sonu Nigam\n",
            "Confidence: 0.4\n",
            "Singer: Raahat Fateh Ali Khan\n",
            "Confidence: 0.4\n",
            "Singer: Sunidhi Chauhan\n",
            "Confidence: 0.2\n",
            "Predicted Singer:\u001b[0m Sonu Nigam\n",
            "\n",
            "Song: Anisuthide Song \n",
            "Actual Singer: Sonu Nigam\n",
            "Predictions:-\n",
            "Singer: Sunidhi Chauhan\n",
            "Confidence: 0.4\n",
            "Singer: Atif Aslam\n",
            "Confidence: 0.2\n",
            "Singer: Sonu Nigam\n",
            "Confidence: 0.2\n",
            "Singer: Raahat Fateh Ali Khan\n",
            "Confidence: 0.2\n",
            "Predicted Singer:\u001b[0m Sunidhi Chauhan\n",
            "\n",
            "Song: Bijuria Song \n",
            "Actual Singer: Sonu Nigam\n",
            "Predictions:-\n",
            "Singer: Raahat Fateh Ali Khan\n",
            "Confidence: 0.8\n",
            "Singer: Sonu Nigam\n",
            "Confidence: 0.2\n",
            "Predicted Singer:\u001b[0m Raahat Fateh Ali Khan\n",
            "\n",
            "Song: Zindagi Is Tarah Song \n",
            "Actual Singer: Sonu Nigam\n",
            "Predictions:-\n",
            "Singer: Sonu Nigam\n",
            "Confidence: 0.4\n",
            "Singer: Sunidhi Chauhan\n",
            "Confidence: 0.2\n",
            "Singer: Raahat Fateh Ali Khan\n",
            "Confidence: 0.2\n",
            "Singer: Atif Aslam\n",
            "Confidence: 0.2\n",
            "Predicted Singer:\u001b[0m Sonu Nigam\n",
            "\n",
            "Song: Gamanisu Song \n",
            "Actual Singer: Sonu Nigam\n",
            "Predictions:-\n",
            "Singer: Sonu Nigam\n",
            "Confidence: 0.6\n",
            "Singer: Raahat Fateh Ali Khan\n",
            "Confidence: 0.2\n",
            "Singer: Atif Aslam\n",
            "Confidence: 0.2\n",
            "Predicted Singer:\u001b[0m Sonu Nigam\n",
            "\n",
            "Song: Deewane Hoke Hum Song \n",
            "Actual Singer: Sonu Nigam\n",
            "Predictions:-\n",
            "Singer: Raahat Fateh Ali Khan\n",
            "Confidence: 0.4\n",
            "Singer: Sunidhi Chauhan\n",
            "Confidence: 0.2\n",
            "Singer: Sonu Nigam\n",
            "Confidence: 0.2\n",
            "Singer: Shreya Ghoshal\n",
            "Confidence: 0.2\n",
            "Predicted Singer:\u001b[0m Raahat Fateh Ali Khan\n",
            "\n",
            "Song: Ganaraj Tu Song \n",
            "Actual Singer: Sunidhi Chauhan\n",
            "Predictions:-\n",
            "Singer: Sunidhi Chauhan\n",
            "Confidence: 0.4\n",
            "Singer: Armaan Malik\n",
            "Confidence: 0.2\n",
            "Singer: Shreya Ghoshal\n",
            "Confidence: 0.2\n",
            "Singer: Raahat Fateh Ali Khan\n",
            "Confidence: 0.2\n",
            "Predicted Singer:\u001b[0m Sunidhi Chauhan\n",
            "\n",
            "Song: Dil Mein Jaagi Dhadkan Aise (Sur (The Melody Of Life) _ Soundtrack Version) Song \n",
            "Actual Singer: Sunidhi Chauhan\n",
            "Predictions:-\n",
            "Singer: Sunidhi Chauhan\n",
            "Confidence: 0.4\n",
            "Singer: Shreya Ghoshal\n",
            "Confidence: 0.2\n",
            "Singer: Arijit Singh\n",
            "Confidence: 0.2\n",
            "Singer: Armaan Malik\n",
            "Confidence: 0.2\n",
            "Predicted Singer:\u001b[0m Sunidhi Chauhan\n",
            "\n",
            "Song: Aaja Nachle Song \n",
            "Actual Singer: Sunidhi Chauhan\n",
            "Predictions:-\n",
            "Singer: Sunidhi Chauhan\n",
            "Confidence: 0.4\n",
            "Singer: Raahat Fateh Ali Khan\n",
            "Confidence: 0.4\n",
            "Singer: Sonu Nigam\n",
            "Confidence: 0.2\n",
            "Predicted Singer:\u001b[0m Sunidhi Chauhan\n",
            "\n",
            "Song: Piku Song \n",
            "Actual Singer: Sunidhi Chauhan\n",
            "Predictions:-\n",
            "Singer: Raahat Fateh Ali Khan\n",
            "Confidence: 0.4\n",
            "Singer: Sunidhi Chauhan\n",
            "Confidence: 0.4\n",
            "Singer: Arijit Singh\n",
            "Confidence: 0.2\n",
            "Predicted Singer:\u001b[0m Raahat Fateh Ali Khan\n",
            "\n",
            "Song: Jind Mahi Song \n",
            "Actual Singer: Sunidhi Chauhan\n",
            "Predictions:-\n",
            "Singer: Sunidhi Chauhan\n",
            "Confidence: 0.6\n",
            "Singer: Honey Singh\n",
            "Confidence: 0.2\n",
            "Singer: Sonu Nigam\n",
            "Confidence: 0.2\n",
            "Predicted Singer:\u001b[0m Sunidhi Chauhan\n",
            "\n",
            "Song: Aye Dil Song \n",
            "Actual Singer: Sunidhi Chauhan\n",
            "Predictions:-\n",
            "Singer: Raahat Fateh Ali Khan\n",
            "Confidence: 0.6\n",
            "Singer: Sonu Nigam\n",
            "Confidence: 0.2\n",
            "Singer: Atif Aslam\n",
            "Confidence: 0.2\n",
            "Predicted Singer:\u001b[0m Raahat Fateh Ali Khan\n",
            "\n",
            "Correct majority vote songs: 40\n",
            "Accuracy: 81.633\n",
            "Correct + Unsure count: 47\n",
            "Correct + Unsure accuracy: 95.918\n"
          ],
          "name": "stdout"
        }
      ]
    },
    {
      "cell_type": "code",
      "metadata": {
        "id": "baKa6eGSPiQC",
        "colab_type": "code",
        "outputId": "977108e3-a413-4375-c49d-2ef19c272db3",
        "colab": {
          "base_uri": "https://localhost:8080/",
          "height": 54
        }
      },
      "source": [
        "print(all_singers)"
      ],
      "execution_count": 73,
      "outputs": [
        {
          "output_type": "stream",
          "text": [
            "{'Arijit Singh': {'Arijit Singh': 3, 'Armaan Malik': 1, 'Atif Aslam': 0, 'Honey Singh': 1, 'Raahat Fateh Ali Khan': 1, 'Shreya Ghoshal': 0, 'Sonu Nigam': 0, 'Sunidhi Chauhan': 0}, 'Armaan Malik': {'Arijit Singh': 0, 'Armaan Malik': 5, 'Atif Aslam': 0, 'Honey Singh': 0, 'Raahat Fateh Ali Khan': 1, 'Shreya Ghoshal': 0, 'Sonu Nigam': 0, 'Sunidhi Chauhan': 0}, 'Atif Aslam': {'Arijit Singh': 0, 'Armaan Malik': 0, 'Atif Aslam': 4, 'Honey Singh': 0, 'Raahat Fateh Ali Khan': 1, 'Shreya Ghoshal': 0, 'Sonu Nigam': 0, 'Sunidhi Chauhan': 0}, 'Honey Singh': {'Arijit Singh': 0, 'Armaan Malik': 0, 'Atif Aslam': 0, 'Honey Singh': 6, 'Raahat Fateh Ali Khan': 0, 'Shreya Ghoshal': 0, 'Sonu Nigam': 0, 'Sunidhi Chauhan': 0}, 'Raahat Fateh Ali Khan': {'Arijit Singh': 0, 'Armaan Malik': 0, 'Atif Aslam': 0, 'Honey Singh': 0, 'Raahat Fateh Ali Khan': 7, 'Shreya Ghoshal': 0, 'Sonu Nigam': 0, 'Sunidhi Chauhan': 0}, 'Shreya Ghoshal': {'Arijit Singh': 0, 'Armaan Malik': 0, 'Atif Aslam': 0, 'Honey Singh': 0, 'Raahat Fateh Ali Khan': 0, 'Shreya Ghoshal': 5, 'Sonu Nigam': 1, 'Sunidhi Chauhan': 0}, 'Sonu Nigam': {'Arijit Singh': 0, 'Armaan Malik': 0, 'Atif Aslam': 0, 'Honey Singh': 0, 'Raahat Fateh Ali Khan': 2, 'Shreya Ghoshal': 0, 'Sonu Nigam': 4, 'Sunidhi Chauhan': 1}, 'Sunidhi Chauhan': {'Arijit Singh': 0, 'Armaan Malik': 0, 'Atif Aslam': 0, 'Honey Singh': 0, 'Raahat Fateh Ali Khan': 2, 'Shreya Ghoshal': 0, 'Sonu Nigam': 0, 'Sunidhi Chauhan': 4}}\n"
          ],
          "name": "stdout"
        }
      ]
    },
    {
      "cell_type": "code",
      "metadata": {
        "id": "hdrnyQxKWFIM",
        "colab_type": "code",
        "outputId": "52994cc7-6fb9-460f-b437-00a604f11783",
        "colab": {
          "base_uri": "https://localhost:8080/",
          "height": 1000
        }
      },
      "source": [
        "for singer in all_singers.keys():\n",
        "  fig, ax = plt.subplots()\n",
        "  fig.subplots_adjust(bottom=0.1)\n",
        "  ax.set_xticklabels([i.split()[0] for i in list(singer_labels.values())]) \n",
        "  plt.bar(all_singers[singer].keys(), all_singers[singer].values())\n",
        "  print('Actual Singer:', singer)\n",
        "  plt.ylabel('Number of songs predicted')\n",
        "  plt.show()\n"
      ],
      "execution_count": 74,
      "outputs": [
        {
          "output_type": "stream",
          "text": [
            "Actual Singer: Arijit Singh\n"
          ],
          "name": "stdout"
        },
        {
          "output_type": "display_data",
          "data": {
            "image/png": "[encoded data removed]",
            "text/plain": [
              "<Figure size 432x288 with 1 Axes>"
            ]
          },
          "metadata": {
            "tags": []
          }
        },
        {
          "output_type": "stream",
          "text": [
            "Actual Singer: Armaan Malik\n"
          ],
          "name": "stdout"
        },
        {
          "output_type": "display_data",
          "data": {
            "image/png": "[encoded data removed]",
            "text/plain": [
              "<Figure size 432x288 with 1 Axes>"
            ]
          },
          "metadata": {
            "tags": []
          }
        },
        {
          "output_type": "stream",
          "text": [
            "Actual Singer: Atif Aslam\n"
          ],
          "name": "stdout"
        },
        {
          "output_type": "display_data",
          "data": {
            "image/png": "[encoded data removed]",
            "text/plain": [
              "<Figure size 432x288 with 1 Axes>"
            ]
          },
          "metadata": {
            "tags": []
          }
        },
        {
          "output_type": "stream",
          "text": [
            "Actual Singer: Honey Singh\n"
          ],
          "name": "stdout"
        },
        {
          "output_type": "display_data",
          "data": {
            "image/png": "[encoded data removed]",
            "text/plain": [
              "<Figure size 432x288 with 1 Axes>"
            ]
          },
          "metadata": {
            "tags": []
          }
        },
        {
          "output_type": "stream",
          "text": [
            "Actual Singer: Raahat Fateh Ali Khan\n"
          ],
          "name": "stdout"
        },
        {
          "output_type": "display_data",
          "data": {
            "image/png": "[encoded data removed]",
            "text/plain": [
              "<Figure size 432x288 with 1 Axes>"
            ]
          },
          "metadata": {
            "tags": []
          }
        },
        {
          "output_type": "stream",
          "text": [
            "Actual Singer: Shreya Ghoshal\n"
          ],
          "name": "stdout"
        },
        {
          "output_type": "display_data",
          "data": {
            "image/png": "[encoded data removed]",
            "text/plain": [
              "<Figure size 432x288 with 1 Axes>"
            ]
          },
          "metadata": {
            "tags": []
          }
        },
        {
          "output_type": "stream",
          "text": [
            "Actual Singer: Sonu Nigam\n"
          ],
          "name": "stdout"
        },
        {
          "output_type": "display_data",
          "data": {
            "image/png": "[encoded data removed]",
            "text/plain": [
              "<Figure size 432x288 with 1 Axes>"
            ]
          },
          "metadata": {
            "tags": []
          }
        },
        {
          "output_type": "stream",
          "text": [
            "Actual Singer: Sunidhi Chauhan\n"
          ],
          "name": "stdout"
        },
        {
          "output_type": "display_data",
          "data": {
            "image/png": "[encoded data removed]",
            "text/plain": [
              "<Figure size 432x288 with 1 Axes>"
            ]
          },
          "metadata": {
            "tags": []
          }
        }
      ]
    },
    {
      "cell_type": "code",
      "metadata": {
        "id": "u60VgDiEfJ97",
        "colab_type": "code",
        "colab": {}
      },
      "source": [
        ""
      ],
      "execution_count": 0,
      "outputs": []
    }
  ]
}