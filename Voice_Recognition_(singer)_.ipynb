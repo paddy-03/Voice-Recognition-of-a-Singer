{
  "nbformat": 4,
  "nbformat_minor": 0,
  "metadata": {
    "colab": {
      "name": "Voice_Recognition (singer) .ipynb",
      "provenance": [],
      "include_colab_link": true
    },
    "kernelspec": {
      "name": "python3",
      "display_name": "Python 3"
    },
    "accelerator": "GPU"
  },
  "cells": [
    {
      "cell_type": "markdown",
      "metadata": {
        "id": "view-in-github",
        "colab_type": "text"
      },
      "source": [
        "<a href=\"https://colab.research.google.com/github/paddy-03/Voice-Recognition-of-a-Singer/blob/master/Voice_Recognition_(singer)_.ipynb\" target=\"_parent\"><img src=\"https://colab.research.google.com/assets/colab-badge.svg\" alt=\"Open In Colab\"/></a>"
      ]
    },
    {
      "cell_type": "markdown",
      "metadata": {
        "id": "rpJSwRzAYe-y",
        "colab_type": "text"
      },
      "source": [
        "# **Voice Recognition of a Singer using CNN**"
      ]
    },
    {
      "cell_type": "code",
      "metadata": {
        "id": "46mF-k_rTJg_",
        "colab_type": "code",
        "colab": {}
      },
      "source": [
        "import numpy as np\n",
        "import matplotlib.pyplot as plt"
      ],
      "execution_count": 0,
      "outputs": []
    },
    {
      "cell_type": "code",
      "metadata": {
        "id": "oubQXxepg9S-",
        "colab_type": "code",
        "outputId": "7809c78f-de09-4bd7-91cf-fbc51b727f79",
        "colab": {
          "base_uri": "https://localhost:8080/",
          "height": 122
        }
      },
      "source": [
        "from google.colab import drive\n",
        "drive.mount('/content/drive') "
      ],
      "execution_count": 0,
      "outputs": [
        {
          "output_type": "stream",
          "text": [
            "Go to this URL in a browser: https://accounts.google.com/o/oauth2/auth?client_id=947318989803-6bn6qk8qdgf4n4g3pfee6491hc0brc4i.apps.googleusercontent.com&redirect_uri=urn%3Aietf%3Awg%3Aoauth%3A2.0%3Aoob&scope=email%20https%3A%2F%2Fwww.googleapis.com%2Fauth%2Fdocs.test%20https%3A%2F%2Fwww.googleapis.com%2Fauth%2Fdrive%20https%3A%2F%2Fwww.googleapis.com%2Fauth%2Fdrive.photos.readonly%20https%3A%2F%2Fwww.googleapis.com%2Fauth%2Fpeopleapi.readonly&response_type=code\n",
            "\n",
            "Enter your authorization code:\n",
            "··········\n",
            "Mounted at /content/drive\n"
          ],
          "name": "stdout"
        }
      ]
    },
    {
      "cell_type": "code",
      "metadata": {
        "id": "yp9lSqyLhklr",
        "colab_type": "code",
        "colab": {}
      },
      "source": [
        "import os\n",
        "os.chdir('./drive/My Drive')"
      ],
      "execution_count": 0,
      "outputs": []
    },
    {
      "cell_type": "code",
      "metadata": {
        "id": "YRZejHfLhz3h",
        "colab_type": "code",
        "colab": {}
      },
      "source": [
        "baseDir = '/content/drive/My Drive/Specs/'\n",
        "trainDir = baseDir + 'train'\n",
        "testDir = baseDir + 'test'\n",
        "valDir = baseDir + 'validation'"
      ],
      "execution_count": 0,
      "outputs": []
    },
    {
      "cell_type": "code",
      "metadata": {
        "id": "BLnOLxfWtR8V",
        "colab_type": "code",
        "colab": {}
      },
      "source": [
        "width = 225\n",
        "height = 150\n",
        "epochs = 20\n",
        "batch_size = 5\n",
        "num_classes = 8"
      ],
      "execution_count": 0,
      "outputs": []
    },
    {
      "cell_type": "code",
      "metadata": {
        "id": "BZ-CLB5biLsQ",
        "colab_type": "code",
        "outputId": "480cd936-8202-4c26-dcb1-bbd999f73550",
        "colab": {
          "base_uri": "https://localhost:8080/",
          "height": 34
        }
      },
      "source": [
        "import keras\n",
        "from keras.applications import VGG16\n",
        "from keras.preprocessing.image import ImageDataGenerator\n",
        "from keras import layers\n",
        "from keras import models\n",
        "from keras.layers import Conv2D, MaxPool2D, Flatten,Dense, Dropout"
      ],
      "execution_count": 0,
      "outputs": [
        {
          "output_type": "stream",
          "text": [
            "Using TensorFlow backend.\n"
          ],
          "name": "stderr"
        }
      ]
    },
    {
      "cell_type": "markdown",
      "metadata": {
        "id": "ZRlSJhysngn_",
        "colab_type": "text"
      },
      "source": [
        "### Using VGG16 model "
      ]
    },
    {
      "cell_type": "code",
      "metadata": {
        "id": "q3m4PM2VGwN3",
        "colab_type": "code",
        "outputId": "35b73e85-a5a2-4ec1-bda6-acf9b16a59b1",
        "colab": {
          "base_uri": "https://localhost:8080/",
          "height": 122
        }
      },
      "source": [
        "conv_base = VGG16(weights='imagenet',\n",
        "include_top=False,\n",
        "input_shape=(225, 150, 3))\n",
        "conv_base.trainable = False  #freezing all layers of the vgg16 model"
      ],
      "execution_count": 0,
      "outputs": [
        {
          "output_type": "stream",
          "text": [
            "WARNING:tensorflow:From /usr/local/lib/python3.6/dist-packages/tensorflow/python/framework/op_def_library.py:263: colocate_with (from tensorflow.python.framework.ops) is deprecated and will be removed in a future version.\n",
            "Instructions for updating:\n",
            "Colocations handled automatically by placer.\n",
            "Downloading data from https://github.com/fchollet/deep-learning-models/releases/download/v0.1/vgg16_weights_tf_dim_ordering_tf_kernels_notop.h5\n",
            "58892288/58889256 [==============================] - 1s 0us/step\n"
          ],
          "name": "stdout"
        }
      ]
    },
    {
      "cell_type": "code",
      "metadata": {
        "id": "GROZovGUxiZb",
        "colab_type": "code",
        "outputId": "9d56f3f6-9f93-4991-c07b-7cdf53f619d9",
        "colab": {
          "base_uri": "https://localhost:8080/",
          "height": 88
        }
      },
      "source": [
        "#dense layers\n",
        "from keras import models\n",
        "from keras import layers\n",
        "from keras import optimizers\n",
        "\n",
        "model = models.Sequential()\n",
        "model.add(layers.Dense(512, activation='relu',input_dim=7*4*512))\n",
        "model.add(layers.Dense(512, activation='relu'))\n",
        "model.add(Dropout(0.2))\n",
        "model.add(layers.Dense(8, activation='softmax'))"
      ],
      "execution_count": 0,
      "outputs": [
        {
          "output_type": "stream",
          "text": [
            "WARNING:tensorflow:From /usr/local/lib/python3.6/dist-packages/keras/backend/tensorflow_backend.py:3445: calling dropout (from tensorflow.python.ops.nn_ops) with keep_prob is deprecated and will be removed in a future version.\n",
            "Instructions for updating:\n",
            "Please use `rate` instead of `keep_prob`. Rate should be set to `rate = 1 - keep_prob`.\n"
          ],
          "name": "stdout"
        }
      ]
    },
    {
      "cell_type": "markdown",
      "metadata": {
        "id": "sR6wMsa2ydhb",
        "colab_type": "text"
      },
      "source": [
        ""
      ]
    },
    {
      "cell_type": "code",
      "metadata": {
        "id": "raQoaVnqyFZW",
        "colab_type": "code",
        "outputId": "46c1b0bb-c708-4507-cacb-addfb0ea0dbe",
        "colab": {
          "base_uri": "https://localhost:8080/",
          "height": 272
        }
      },
      "source": [
        "model.summary()"
      ],
      "execution_count": 0,
      "outputs": [
        {
          "output_type": "stream",
          "text": [
            "_________________________________________________________________\n",
            "Layer (type)                 Output Shape              Param #   \n",
            "=================================================================\n",
            "dense_11 (Dense)             (None, 512)               7340544   \n",
            "_________________________________________________________________\n",
            "dense_12 (Dense)             (None, 512)               262656    \n",
            "_________________________________________________________________\n",
            "dropout_6 (Dropout)          (None, 512)               0         \n",
            "_________________________________________________________________\n",
            "dense_13 (Dense)             (None, 8)                 4104      \n",
            "=================================================================\n",
            "Total params: 7,607,304\n",
            "Trainable params: 7,607,304\n",
            "Non-trainable params: 0\n",
            "_________________________________________________________________\n"
          ],
          "name": "stdout"
        }
      ]
    },
    {
      "cell_type": "code",
      "metadata": {
        "id": "CsyaPihL3Jpd",
        "colab_type": "code",
        "outputId": "111427e6-642c-4d08-c22d-9632c699f9e7",
        "colab": {
          "base_uri": "https://localhost:8080/",
          "height": 782
        }
      },
      "source": [
        "conv_base.summary()"
      ],
      "execution_count": 0,
      "outputs": [
        {
          "output_type": "stream",
          "text": [
            "_________________________________________________________________\n",
            "Layer (type)                 Output Shape              Param #   \n",
            "=================================================================\n",
            "input_2 (InputLayer)         (None, 225, 150, 3)       0         \n",
            "_________________________________________________________________\n",
            "block1_conv1 (Conv2D)        (None, 225, 150, 64)      1792      \n",
            "_________________________________________________________________\n",
            "block1_conv2 (Conv2D)        (None, 225, 150, 64)      36928     \n",
            "_________________________________________________________________\n",
            "block1_pool (MaxPooling2D)   (None, 112, 75, 64)       0         \n",
            "_________________________________________________________________\n",
            "block2_conv1 (Conv2D)        (None, 112, 75, 128)      73856     \n",
            "_________________________________________________________________\n",
            "block2_conv2 (Conv2D)        (None, 112, 75, 128)      147584    \n",
            "_________________________________________________________________\n",
            "block2_pool (MaxPooling2D)   (None, 56, 37, 128)       0         \n",
            "_________________________________________________________________\n",
            "block3_conv1 (Conv2D)        (None, 56, 37, 256)       295168    \n",
            "_________________________________________________________________\n",
            "block3_conv2 (Conv2D)        (None, 56, 37, 256)       590080    \n",
            "_________________________________________________________________\n",
            "block3_conv3 (Conv2D)        (None, 56, 37, 256)       590080    \n",
            "_________________________________________________________________\n",
            "block3_pool (MaxPooling2D)   (None, 28, 18, 256)       0         \n",
            "_________________________________________________________________\n",
            "block4_conv1 (Conv2D)        (None, 28, 18, 512)       1180160   \n",
            "_________________________________________________________________\n",
            "block4_conv2 (Conv2D)        (None, 28, 18, 512)       2359808   \n",
            "_________________________________________________________________\n",
            "block4_conv3 (Conv2D)        (None, 28, 18, 512)       2359808   \n",
            "_________________________________________________________________\n",
            "block4_pool (MaxPooling2D)   (None, 14, 9, 512)        0         \n",
            "_________________________________________________________________\n",
            "block5_conv1 (Conv2D)        (None, 14, 9, 512)        2359808   \n",
            "_________________________________________________________________\n",
            "block5_conv2 (Conv2D)        (None, 14, 9, 512)        2359808   \n",
            "_________________________________________________________________\n",
            "block5_conv3 (Conv2D)        (None, 14, 9, 512)        2359808   \n",
            "_________________________________________________________________\n",
            "block5_pool (MaxPooling2D)   (None, 7, 4, 512)         0         \n",
            "=================================================================\n",
            "Total params: 14,714,688\n",
            "Trainable params: 0\n",
            "Non-trainable params: 14,714,688\n",
            "_________________________________________________________________\n"
          ],
          "name": "stdout"
        }
      ]
    },
    {
      "cell_type": "markdown",
      "metadata": {
        "id": "mtuVlMu07TU9",
        "colab_type": "text"
      },
      "source": [
        ""
      ]
    },
    {
      "cell_type": "markdown",
      "metadata": {
        "id": "hnxhHqnUnt8J",
        "colab_type": "text"
      },
      "source": [
        "### **Extracting features from the spectrograms**"
      ]
    },
    {
      "cell_type": "code",
      "metadata": {
        "id": "xIqNd-bm05QL",
        "colab_type": "code",
        "colab": {}
      },
      "source": [
        "#Extracting the features and labels as numpy arrays\n",
        "#predict function of conv_base is used to get the features of the image\n",
        "datagen = ImageDataGenerator(rescale=1./255)\n",
        "batch_size = 5\n",
        "def extract_features(directory, sample_count):\n",
        "  features = np.zeros(shape=(sample_count, 7, 4, 512))\n",
        "  labels = np.zeros(shape=(sample_count,8))\n",
        "  generator = datagen.flow_from_directory( directory,\n",
        "  target_size=(225,150),\n",
        "  batch_size=batch_size,\n",
        "  shuffle = False,                               \n",
        "  class_mode='categorical')\n",
        "  print(generator.class_indices)\n",
        "  i = 0\n",
        "  for inputs_batch, labels_batch in generator:\n",
        "    features_batch = conv_base.predict(inputs_batch)\n",
        "    features[i * batch_size : (i + 1) * batch_size] = features_batch\n",
        "    labels[i * batch_size : (i + 1) * batch_size,:] = labels_batch\n",
        "    i += 1\n",
        "    if i * batch_size >= sample_count:\n",
        "        break\n",
        "  return features, labels"
      ],
      "execution_count": 0,
      "outputs": []
    },
    {
      "cell_type": "code",
      "metadata": {
        "id": "358XaMkr2DrZ",
        "colab_type": "code",
        "outputId": "9ac04f5e-7648-4f26-adb0-85de115b9568",
        "colab": {
          "base_uri": "https://localhost:8080/",
          "height": 139
        }
      },
      "source": [
        "train_features, train_labels = extract_features(trainDir, 3303)\n",
        "validation_features, validation_labels = extract_features(valDir, 225)\n",
        "test_features, test_labels = extract_features(testDir, 245)"
      ],
      "execution_count": 0,
      "outputs": [
        {
          "output_type": "stream",
          "text": [
            "Found 3303 images belonging to 8 classes.\n",
            "{'Arijit Singh': 0, 'Armaan Malik': 1, 'Atif Aslam': 2, 'Honey Singh': 3, 'Raahat Fateh Ali Khan': 4, 'Shreya Ghoshal': 5, 'Sonu Nigam': 6, 'Sunidhi Chauhan': 7}\n",
            "Found 225 images belonging to 8 classes.\n",
            "{'Arijit Singh': 0, 'Armaan Malik': 1, 'Atif Aslam': 2, 'Honey Singh': 3, 'Raahat Fateh Ali Khan': 4, 'Shreya Ghoshal': 5, 'Sonu Nigam': 6, 'Sunidhi Chauhan': 7}\n",
            "Found 245 images belonging to 8 classes.\n",
            "{'Arijit Singh': 0, 'Armaan Malik': 1, 'Atif Aslam': 2, 'Honey Singh': 3, 'Raahat Fateh Ali Khan': 4, 'Shreya Ghoshal': 5, 'Sonu Nigam': 6, 'Sunidhi Chauhan': 7}\n"
          ],
          "name": "stdout"
        }
      ]
    },
    {
      "cell_type": "code",
      "metadata": {
        "id": "MGpuzZVA7HEs",
        "colab_type": "code",
        "colab": {}
      },
      "source": [
        "train_features = np.reshape(train_features, (3303, 7*4*512))\n",
        "validation_features = np.reshape(validation_features, (225,7*4*512))\n",
        "test_features = np.reshape(test_features, (245,7*4*512))"
      ],
      "execution_count": 0,
      "outputs": []
    },
    {
      "cell_type": "code",
      "metadata": {
        "id": "i7SjU5UV8Uyb",
        "colab_type": "code",
        "colab": {}
      },
      "source": [
        "#os.getcwd()"
      ],
      "execution_count": 0,
      "outputs": []
    },
    {
      "cell_type": "code",
      "metadata": {
        "id": "BkdcDnRD6oGA",
        "colab_type": "code",
        "colab": {}
      },
      "source": [
        "#np.savetxt('train_features.csv', train_features, fmt='1.8%f', delimiter = ',')"
      ],
      "execution_count": 0,
      "outputs": []
    },
    {
      "cell_type": "markdown",
      "metadata": {
        "id": "3xr2rFcdn3Ex",
        "colab_type": "text"
      },
      "source": [
        "### **Using callbacks**"
      ]
    },
    {
      "cell_type": "code",
      "metadata": {
        "id": "zZLaA8hVrhQt",
        "colab_type": "code",
        "colab": {}
      },
      "source": [
        "stop_early = keras.callbacks.EarlyStopping(monitor='val_acc', patience=20, verbose=1)"
      ],
      "execution_count": 0,
      "outputs": []
    },
    {
      "cell_type": "code",
      "metadata": {
        "id": "a-VwpjnB2mZ5",
        "colab_type": "code",
        "colab": {}
      },
      "source": [
        "reduce_lr = keras.callbacks.ReduceLROnPlateau( monitor='val_loss', factor=0.1, patience=10)"
      ],
      "execution_count": 0,
      "outputs": []
    },
    {
      "cell_type": "markdown",
      "metadata": {
        "id": "sk79esF_n8ke",
        "colab_type": "text"
      },
      "source": [
        "### **Complilation of the model and fit**"
      ]
    },
    {
      "cell_type": "code",
      "metadata": {
        "id": "z6J7aM254iY6",
        "colab_type": "code",
        "colab": {}
      },
      "source": [
        "from keras import optimizers\n",
        "model.compile(loss='categorical_crossentropy',optimizer=optimizers.RMSprop(lr = 1e-4),metrics=['acc'])"
      ],
      "execution_count": 0,
      "outputs": []
    },
    {
      "cell_type": "code",
      "metadata": {
        "id": "9Y8UW-tayxcS",
        "colab_type": "code",
        "outputId": "aacf5b70-cc54-47ff-9bc1-1c83b67d9c2d",
        "colab": {
          "base_uri": "https://localhost:8080/",
          "height": 2074
        }
      },
      "source": [
        "history = model.fit(train_features, train_labels,\n",
        "epochs=60,\n",
        "batch_size=5,\n",
        "validation_data=(validation_features, validation_labels),\n",
        "                   callbacks=[stop_early,reduce_lr])"
      ],
      "execution_count": 0,
      "outputs": [
        {
          "output_type": "stream",
          "text": [
            "Train on 3303 samples, validate on 225 samples\n",
            "Epoch 1/60\n",
            "3303/3303 [==============================] - 9s 3ms/step - loss: 2.0637 - acc: 0.1732 - val_loss: 2.0108 - val_acc: 0.2133\n",
            "Epoch 2/60\n",
            "3303/3303 [==============================] - 7s 2ms/step - loss: 1.9040 - acc: 0.2555 - val_loss: 2.0031 - val_acc: 0.2133\n",
            "Epoch 3/60\n",
            "3303/3303 [==============================] - 7s 2ms/step - loss: 1.7743 - acc: 0.3221 - val_loss: 1.9439 - val_acc: 0.2756\n",
            "Epoch 4/60\n",
            "3303/3303 [==============================] - 7s 2ms/step - loss: 1.6662 - acc: 0.3812 - val_loss: 1.9189 - val_acc: 0.2933\n",
            "Epoch 5/60\n",
            "3303/3303 [==============================] - 7s 2ms/step - loss: 1.5910 - acc: 0.4057 - val_loss: 1.7972 - val_acc: 0.3378\n",
            "Epoch 6/60\n",
            "3303/3303 [==============================] - 7s 2ms/step - loss: 1.5091 - acc: 0.4284 - val_loss: 1.7986 - val_acc: 0.3333\n",
            "Epoch 7/60\n",
            "3303/3303 [==============================] - 7s 2ms/step - loss: 1.4351 - acc: 0.4668 - val_loss: 2.0480 - val_acc: 0.2711\n",
            "Epoch 8/60\n",
            "3303/3303 [==============================] - 7s 2ms/step - loss: 1.3809 - acc: 0.4917 - val_loss: 1.8940 - val_acc: 0.3289\n",
            "Epoch 9/60\n",
            "3303/3303 [==============================] - 7s 2ms/step - loss: 1.3287 - acc: 0.5107 - val_loss: 1.6953 - val_acc: 0.3778\n",
            "Epoch 10/60\n",
            "3303/3303 [==============================] - 7s 2ms/step - loss: 1.2743 - acc: 0.5362 - val_loss: 1.6096 - val_acc: 0.4489\n",
            "Epoch 11/60\n",
            "3303/3303 [==============================] - 7s 2ms/step - loss: 1.2224 - acc: 0.5619 - val_loss: 1.7807 - val_acc: 0.3600\n",
            "Epoch 12/60\n",
            "3303/3303 [==============================] - 7s 2ms/step - loss: 1.1870 - acc: 0.5662 - val_loss: 1.5275 - val_acc: 0.4844\n",
            "Epoch 13/60\n",
            "3303/3303 [==============================] - 7s 2ms/step - loss: 1.1499 - acc: 0.5828 - val_loss: 1.6152 - val_acc: 0.4133\n",
            "Epoch 14/60\n",
            "3303/3303 [==============================] - 7s 2ms/step - loss: 1.1191 - acc: 0.5931 - val_loss: 1.6206 - val_acc: 0.4267\n",
            "Epoch 15/60\n",
            "3303/3303 [==============================] - 7s 2ms/step - loss: 1.0684 - acc: 0.6110 - val_loss: 1.8896 - val_acc: 0.3867\n",
            "Epoch 16/60\n",
            "3303/3303 [==============================] - 7s 2ms/step - loss: 1.0410 - acc: 0.6331 - val_loss: 1.6340 - val_acc: 0.4089\n",
            "Epoch 17/60\n",
            "3303/3303 [==============================] - 7s 2ms/step - loss: 1.0078 - acc: 0.6315 - val_loss: 1.7124 - val_acc: 0.4578\n",
            "Epoch 18/60\n",
            "3303/3303 [==============================] - 7s 2ms/step - loss: 0.9757 - acc: 0.6591 - val_loss: 1.7544 - val_acc: 0.4400\n",
            "Epoch 19/60\n",
            "3303/3303 [==============================] - 7s 2ms/step - loss: 0.9465 - acc: 0.6512 - val_loss: 1.8760 - val_acc: 0.4133\n",
            "Epoch 20/60\n",
            "3303/3303 [==============================] - 7s 2ms/step - loss: 0.9151 - acc: 0.6739 - val_loss: 1.8099 - val_acc: 0.4356\n",
            "Epoch 21/60\n",
            "3303/3303 [==============================] - 7s 2ms/step - loss: 0.8912 - acc: 0.6891 - val_loss: 1.9943 - val_acc: 0.4133\n",
            "Epoch 22/60\n",
            "3303/3303 [==============================] - 7s 2ms/step - loss: 0.8716 - acc: 0.6876 - val_loss: 1.6300 - val_acc: 0.4889\n",
            "Epoch 23/60\n",
            "3303/3303 [==============================] - 7s 2ms/step - loss: 0.6485 - acc: 0.7814 - val_loss: 1.5900 - val_acc: 0.5022\n",
            "Epoch 24/60\n",
            "3303/3303 [==============================] - 7s 2ms/step - loss: 0.6316 - acc: 0.7847 - val_loss: 1.5929 - val_acc: 0.5111\n",
            "Epoch 25/60\n",
            "3303/3303 [==============================] - 7s 2ms/step - loss: 0.6232 - acc: 0.7887 - val_loss: 1.6310 - val_acc: 0.5200\n",
            "Epoch 26/60\n",
            "3303/3303 [==============================] - 7s 2ms/step - loss: 0.6191 - acc: 0.7962 - val_loss: 1.5947 - val_acc: 0.5244\n",
            "Epoch 27/60\n",
            "3303/3303 [==============================] - 7s 2ms/step - loss: 0.6128 - acc: 0.7935 - val_loss: 1.6162 - val_acc: 0.5200\n",
            "Epoch 28/60\n",
            "3303/3303 [==============================] - 7s 2ms/step - loss: 0.6055 - acc: 0.7987 - val_loss: 1.6060 - val_acc: 0.5067\n",
            "Epoch 29/60\n",
            "3303/3303 [==============================] - 7s 2ms/step - loss: 0.5981 - acc: 0.7993 - val_loss: 1.6278 - val_acc: 0.5111\n",
            "Epoch 30/60\n",
            "3303/3303 [==============================] - 7s 2ms/step - loss: 0.5958 - acc: 0.8050 - val_loss: 1.6285 - val_acc: 0.5244\n",
            "Epoch 31/60\n",
            "3303/3303 [==============================] - 7s 2ms/step - loss: 0.5927 - acc: 0.7932 - val_loss: 1.5997 - val_acc: 0.5156\n",
            "Epoch 32/60\n",
            "3303/3303 [==============================] - 7s 2ms/step - loss: 0.5838 - acc: 0.8093 - val_loss: 1.6355 - val_acc: 0.5333\n",
            "Epoch 33/60\n",
            "3303/3303 [==============================] - 7s 2ms/step - loss: 0.5678 - acc: 0.8150 - val_loss: 1.6040 - val_acc: 0.5244\n",
            "Epoch 34/60\n",
            "3303/3303 [==============================] - 7s 2ms/step - loss: 0.5653 - acc: 0.8162 - val_loss: 1.6086 - val_acc: 0.5289\n",
            "Epoch 35/60\n",
            "3303/3303 [==============================] - 7s 2ms/step - loss: 0.5620 - acc: 0.8144 - val_loss: 1.6064 - val_acc: 0.5244\n",
            "Epoch 36/60\n",
            "3303/3303 [==============================] - 7s 2ms/step - loss: 0.5638 - acc: 0.8150 - val_loss: 1.6040 - val_acc: 0.5289\n",
            "Epoch 37/60\n",
            "3303/3303 [==============================] - 7s 2ms/step - loss: 0.5615 - acc: 0.8153 - val_loss: 1.6091 - val_acc: 0.5333\n",
            "Epoch 38/60\n",
            "3303/3303 [==============================] - 7s 2ms/step - loss: 0.5636 - acc: 0.8171 - val_loss: 1.6046 - val_acc: 0.5333\n",
            "Epoch 39/60\n",
            "3303/3303 [==============================] - 7s 2ms/step - loss: 0.5572 - acc: 0.8208 - val_loss: 1.6123 - val_acc: 0.5333\n",
            "Epoch 40/60\n",
            "3303/3303 [==============================] - 7s 2ms/step - loss: 0.5612 - acc: 0.8202 - val_loss: 1.6150 - val_acc: 0.5378\n",
            "Epoch 41/60\n",
            "3303/3303 [==============================] - 7s 2ms/step - loss: 0.5572 - acc: 0.8123 - val_loss: 1.6070 - val_acc: 0.5378\n",
            "Epoch 42/60\n",
            "3303/3303 [==============================] - 7s 2ms/step - loss: 0.5570 - acc: 0.8211 - val_loss: 1.6069 - val_acc: 0.5333\n",
            "Epoch 43/60\n",
            "3303/3303 [==============================] - 7s 2ms/step - loss: 0.5576 - acc: 0.8180 - val_loss: 1.6071 - val_acc: 0.5333\n",
            "Epoch 44/60\n",
            "3303/3303 [==============================] - 7s 2ms/step - loss: 0.5530 - acc: 0.8180 - val_loss: 1.6072 - val_acc: 0.5333\n",
            "Epoch 45/60\n",
            "3303/3303 [==============================] - 7s 2ms/step - loss: 0.5536 - acc: 0.8208 - val_loss: 1.6078 - val_acc: 0.5333\n",
            "Epoch 46/60\n",
            "3303/3303 [==============================] - 7s 2ms/step - loss: 0.5588 - acc: 0.8186 - val_loss: 1.6072 - val_acc: 0.5378\n",
            "Epoch 47/60\n",
            "3303/3303 [==============================] - 7s 2ms/step - loss: 0.5562 - acc: 0.8186 - val_loss: 1.6074 - val_acc: 0.5289\n",
            "Epoch 48/60\n",
            "3303/3303 [==============================] - 7s 2ms/step - loss: 0.5593 - acc: 0.8199 - val_loss: 1.6079 - val_acc: 0.5333\n",
            "Epoch 49/60\n",
            "3303/3303 [==============================] - 7s 2ms/step - loss: 0.5542 - acc: 0.8208 - val_loss: 1.6070 - val_acc: 0.5333\n",
            "Epoch 50/60\n",
            "3303/3303 [==============================] - 7s 2ms/step - loss: 0.5550 - acc: 0.8159 - val_loss: 1.6078 - val_acc: 0.5289\n",
            "Epoch 51/60\n",
            "3303/3303 [==============================] - 7s 2ms/step - loss: 0.5521 - acc: 0.8232 - val_loss: 1.6083 - val_acc: 0.5333\n",
            "Epoch 52/60\n",
            "3303/3303 [==============================] - 7s 2ms/step - loss: 0.5583 - acc: 0.8205 - val_loss: 1.6076 - val_acc: 0.5333\n",
            "Epoch 53/60\n",
            "3303/3303 [==============================] - 7s 2ms/step - loss: 0.5573 - acc: 0.8193 - val_loss: 1.6076 - val_acc: 0.5333\n",
            "Epoch 54/60\n",
            "3303/3303 [==============================] - 7s 2ms/step - loss: 0.5508 - acc: 0.8214 - val_loss: 1.6077 - val_acc: 0.5333\n",
            "Epoch 55/60\n",
            "3303/3303 [==============================] - 7s 2ms/step - loss: 0.5526 - acc: 0.8202 - val_loss: 1.6076 - val_acc: 0.5333\n",
            "Epoch 56/60\n",
            "3303/3303 [==============================] - 7s 2ms/step - loss: 0.5562 - acc: 0.8183 - val_loss: 1.6077 - val_acc: 0.5333\n",
            "Epoch 57/60\n",
            "3303/3303 [==============================] - 7s 2ms/step - loss: 0.5514 - acc: 0.8208 - val_loss: 1.6077 - val_acc: 0.5333\n",
            "Epoch 58/60\n",
            "3303/3303 [==============================] - 7s 2ms/step - loss: 0.5560 - acc: 0.8211 - val_loss: 1.6077 - val_acc: 0.5333\n",
            "Epoch 59/60\n",
            "3303/3303 [==============================] - 7s 2ms/step - loss: 0.5554 - acc: 0.8223 - val_loss: 1.6077 - val_acc: 0.5333\n",
            "Epoch 60/60\n",
            "3303/3303 [==============================] - 7s 2ms/step - loss: 0.5562 - acc: 0.8208 - val_loss: 1.6077 - val_acc: 0.5333\n"
          ],
          "name": "stdout"
        }
      ]
    },
    {
      "cell_type": "code",
      "metadata": {
        "id": "yk03CBUriqif",
        "colab_type": "code",
        "outputId": "958e10cb-b4e8-46eb-db01-172d6b423a9e",
        "colab": {
          "base_uri": "https://localhost:8080/",
          "height": 51
        }
      },
      "source": [
        "model.evaluate(test_features,test_labels, batch_size = 5)"
      ],
      "execution_count": 0,
      "outputs": [
        {
          "output_type": "stream",
          "text": [
            "245/245 [==============================] - 0s 535us/step\n"
          ],
          "name": "stdout"
        },
        {
          "output_type": "execute_result",
          "data": {
            "text/plain": [
              "[1.8265200265664228, 0.46938776544162203]"
            ]
          },
          "metadata": {
            "tags": []
          },
          "execution_count": 95
        }
      ]
    },
    {
      "cell_type": "code",
      "metadata": {
        "id": "Grl4uypx-zzu",
        "colab_type": "code",
        "colab": {}
      },
      "source": [
        "model.save('voice_rec.h5')"
      ],
      "execution_count": 0,
      "outputs": []
    },
    {
      "cell_type": "code",
      "metadata": {
        "id": "OuMDC4TNRxud",
        "colab_type": "code",
        "outputId": "53f9ff86-4ccc-423d-d21f-b8f388813002",
        "colab": {
          "base_uri": "https://localhost:8080/",
          "height": 88
        }
      },
      "source": [
        "from keras.models import load_model\n",
        "model = load_model('voice_rec.h5')"
      ],
      "execution_count": 0,
      "outputs": [
        {
          "output_type": "stream",
          "text": [
            "WARNING:tensorflow:From /usr/local/lib/python3.6/dist-packages/tensorflow/python/ops/math_ops.py:3066: to_int32 (from tensorflow.python.ops.math_ops) is deprecated and will be removed in a future version.\n",
            "Instructions for updating:\n",
            "Use tf.cast instead.\n"
          ],
          "name": "stdout"
        }
      ]
    },
    {
      "cell_type": "code",
      "metadata": {
        "id": "CxL_btlJisLp",
        "colab_type": "code",
        "colab": {}
      },
      "source": [
        "test_predictions = model.predict(test_features,batch_size=5)"
      ],
      "execution_count": 0,
      "outputs": []
    },
    {
      "cell_type": "code",
      "metadata": {
        "id": "mL4tLKfjixMz",
        "colab_type": "code",
        "outputId": "fbf13385-9a30-4570-86e5-38a059455ca5",
        "colab": {
          "base_uri": "https://localhost:8080/",
          "height": 34
        }
      },
      "source": [
        "\n",
        "test_predictions.shape"
      ],
      "execution_count": 0,
      "outputs": [
        {
          "output_type": "execute_result",
          "data": {
            "text/plain": [
              "(245, 8)"
            ]
          },
          "metadata": {
            "tags": []
          },
          "execution_count": 23
        }
      ]
    },
    {
      "cell_type": "markdown",
      "metadata": {
        "id": "u5ejiHIR6rc-",
        "colab_type": "text"
      },
      "source": [
        ""
      ]
    },
    {
      "cell_type": "code",
      "metadata": {
        "id": "CDLPQYYT0k08",
        "colab_type": "code",
        "colab": {}
      },
      "source": [
        "y_pred = []\n",
        "for i in test_predictions:\n",
        "  max = -1\n",
        "  pos=-1\n",
        "  for j in range(8):\n",
        "    if i[j] > max:\n",
        "      max=i[j]\n",
        "      pos = j\n",
        "  y_pred.append(pos)"
      ],
      "execution_count": 0,
      "outputs": []
    },
    {
      "cell_type": "code",
      "metadata": {
        "id": "i9Jg513yyf3p",
        "colab_type": "code",
        "colab": {}
      },
      "source": [
        "y_test = []\n",
        "for i in test_labels:\n",
        "  max = -1\n",
        "  pos=-1\n",
        "  for j in range(8):\n",
        "    if i[j] > max:\n",
        "      max=i[j]\n",
        "      pos = j\n",
        "  y_test.append(pos)"
      ],
      "execution_count": 0,
      "outputs": []
    },
    {
      "cell_type": "code",
      "metadata": {
        "id": "nS2SldKpMLKl",
        "colab_type": "code",
        "colab": {}
      },
      "source": [
        "y_train = []\n",
        "for i in train_labels:\n",
        "  max = -1\n",
        "  pos=-1\n",
        "  for j in range(8):\n",
        "    if i[j] > max:\n",
        "      max=i[j]\n",
        "      pos = j\n",
        "  y_train.append(pos)"
      ],
      "execution_count": 0,
      "outputs": []
    },
    {
      "cell_type": "code",
      "metadata": {
        "id": "inQheBD-lcye",
        "colab_type": "code",
        "colab": {}
      },
      "source": [
        "y_pred = np.array(y_pred)\n",
        "y_test = np.array(y_test)\n",
        "y_train = np.array(y_train)"
      ],
      "execution_count": 0,
      "outputs": []
    },
    {
      "cell_type": "code",
      "metadata": {
        "id": "Xrn_eNexxmTi",
        "colab_type": "code",
        "colab": {}
      },
      "source": [
        "from sklearn.metrics import confusion_matrix"
      ],
      "execution_count": 0,
      "outputs": []
    },
    {
      "cell_type": "markdown",
      "metadata": {
        "id": "q5d2wceBoGT1",
        "colab_type": "text"
      },
      "source": [
        "### **Confusion Matrix**"
      ]
    },
    {
      "cell_type": "code",
      "metadata": {
        "id": "jgvMUMJeyW3x",
        "colab_type": "code",
        "outputId": "f2a6dc51-31ec-4734-c34b-62f8966d7724",
        "colab": {
          "base_uri": "https://localhost:8080/",
          "height": 153
        }
      },
      "source": [
        "print(confusion_matrix(y_test,y_pred))"
      ],
      "execution_count": 0,
      "outputs": [
        {
          "output_type": "stream",
          "text": [
            "[[10  7  2  3  1  1  4  2]\n",
            " [ 5 17  3  0  0  3  2  0]\n",
            " [ 4  2 15  0  1  2  0  1]\n",
            " [ 5  0  0 14  3  1  2  5]\n",
            " [ 4  1  6  0 17  2  3  2]\n",
            " [ 0  3  0  0  1 20  2  4]\n",
            " [ 4  6  0  1  9  0  9  6]\n",
            " [ 4  3  0  1  3  4  2 13]]\n"
          ],
          "name": "stdout"
        }
      ]
    },
    {
      "cell_type": "code",
      "metadata": {
        "id": "wMcZnkt9yskD",
        "colab_type": "code",
        "colab": {}
      },
      "source": [
        "singer_labels = { 0:'Arijit Singh',  1:'Armaan Malik',  2:'Atif Aslam' , 3:'Honey Singh', 4:'Raahat Fateh Ali Khan', 5:'Shreya Ghoshal', 6:'Sonu Nigam', 7:'Sunidhi Chauhan'}"
      ],
      "execution_count": 0,
      "outputs": []
    },
    {
      "cell_type": "markdown",
      "metadata": {
        "id": "ouxkNQFRoOkV",
        "colab_type": "text"
      },
      "source": [
        "### **Trying XGBoost and LGBoost**"
      ]
    },
    {
      "cell_type": "code",
      "metadata": {
        "colab_type": "code",
        "id": "pCreFbLny4-X",
        "colab": {}
      },
      "source": [
        "from sklearn.model_selection import GridSearchCV\n",
        "from xgboost import XGBClassifier\n",
        "import lightgbm as lgb"
      ],
      "execution_count": 0,
      "outputs": []
    },
    {
      "cell_type": "code",
      "metadata": {
        "colab_type": "code",
        "id": "h15AmkA6y4mH",
        "colab": {}
      },
      "source": [
        "lg = lgb.LGBMClassifier(n_threads=-1,n_estimators=100)"
      ],
      "execution_count": 0,
      "outputs": []
    },
    {
      "cell_type": "code",
      "metadata": {
        "colab_type": "code",
        "outputId": "3fdfe21b-61d4-41d7-9f02-8d3c747114d3",
        "id": "2al5CdlQy4Ji",
        "colab": {
          "base_uri": "https://localhost:8080/",
          "height": 119
        }
      },
      "source": [
        "lg.fit(train_features,y_train)"
      ],
      "execution_count": 0,
      "outputs": [
        {
          "output_type": "execute_result",
          "data": {
            "text/plain": [
              "LGBMClassifier(boosting_type='gbdt', class_weight=None, colsample_bytree=1.0,\n",
              "        importance_type='split', learning_rate=0.1, max_depth=-1,\n",
              "        min_child_samples=20, min_child_weight=0.001, min_split_gain=0.0,\n",
              "        n_estimators=100, n_jobs=-1, num_leaves=31, objective=None,\n",
              "        random_state=None, reg_alpha=0.0, reg_lambda=0.0, silent=True,\n",
              "        subsample=1.0, subsample_for_bin=200000, subsample_freq=0)"
            ]
          },
          "metadata": {
            "tags": []
          },
          "execution_count": 44
        }
      ]
    },
    {
      "cell_type": "code",
      "metadata": {
        "id": "5SYPGJquYGp1",
        "colab_type": "code",
        "outputId": "62d3cfe8-3d1d-4c27-940b-0ce86b1a29bd",
        "colab": {
          "base_uri": "https://localhost:8080/",
          "height": 34
        }
      },
      "source": [
        "lg.score(test_features,y_test)"
      ],
      "execution_count": 0,
      "outputs": [
        {
          "output_type": "execute_result",
          "data": {
            "text/plain": [
              "0.3673469387755102"
            ]
          },
          "metadata": {
            "tags": []
          },
          "execution_count": 45
        }
      ]
    },
    {
      "cell_type": "code",
      "metadata": {
        "id": "q3ym9k8xLiqZ",
        "colab_type": "code",
        "outputId": "fe0b31a5-e4f6-46ed-ddce-ffafecc6d96f",
        "colab": {
          "base_uri": "https://localhost:8080/",
          "height": 119
        }
      },
      "source": [
        "clf = XGBClassifier(n_threads=-1,n_estimators=100)\n",
        "clf.fit(train_features,y_train)"
      ],
      "execution_count": 0,
      "outputs": [
        {
          "output_type": "execute_result",
          "data": {
            "text/plain": [
              "XGBClassifier(base_score=0.5, booster='gbtree', colsample_bylevel=1,\n",
              "       colsample_bytree=1, gamma=0, learning_rate=0.1, max_delta_step=0,\n",
              "       max_depth=3, min_child_weight=1, missing=None, n_estimators=100,\n",
              "       n_jobs=1, n_threads=-1, nthread=None, objective='multi:softprob',\n",
              "       random_state=0, reg_alpha=0, reg_lambda=1, scale_pos_weight=1,\n",
              "       seed=None, silent=True, subsample=1)"
            ]
          },
          "metadata": {
            "tags": []
          },
          "execution_count": 46
        }
      ]
    },
    {
      "cell_type": "code",
      "metadata": {
        "id": "dys5ESH7frqf",
        "colab_type": "code",
        "outputId": "12e7e4ad-0d4d-4d43-d86d-d3b17bafa305",
        "colab": {
          "base_uri": "https://localhost:8080/",
          "height": 34
        }
      },
      "source": [
        "clf.score(test_features,y_test)"
      ],
      "execution_count": 0,
      "outputs": [
        {
          "output_type": "execute_result",
          "data": {
            "text/plain": [
              "0.3795918367346939"
            ]
          },
          "metadata": {
            "tags": []
          },
          "execution_count": 47
        }
      ]
    },
    {
      "cell_type": "code",
      "metadata": {
        "id": "-LHmbW0dMaRB",
        "colab_type": "code",
        "colab": {}
      },
      "source": [
        "import joblib\n",
        "#save model\n",
        " \n",
        "\n"
      ],
      "execution_count": 0,
      "outputs": []
    },
    {
      "cell_type": "code",
      "metadata": {
        "id": "qSQ4oEf3yXPq",
        "colab_type": "code",
        "outputId": "b2587aa2-ca2e-4f66-a748-9f0ad9c21dc2",
        "colab": {
          "base_uri": "https://localhost:8080/",
          "height": 34
        }
      },
      "source": [
        "joblib.dump(clf, 'XGB model2')"
      ],
      "execution_count": 0,
      "outputs": [
        {
          "output_type": "execute_result",
          "data": {
            "text/plain": [
              "['XGB model2']"
            ]
          },
          "metadata": {
            "tags": []
          },
          "execution_count": 50
        }
      ]
    },
    {
      "cell_type": "code",
      "metadata": {
        "id": "Q1I70bkYMmc5",
        "colab_type": "code",
        "colab": {}
      },
      "source": [
        "#load model\n",
        "clf = joblib.load('XGB model2')"
      ],
      "execution_count": 0,
      "outputs": []
    },
    {
      "cell_type": "code",
      "metadata": {
        "id": "koLB42s1Ls2h",
        "colab_type": "code",
        "outputId": "d26e18d4-7ca1-4778-9599-eca71fd21152",
        "colab": {
          "base_uri": "https://localhost:8080/",
          "height": 221
        }
      },
      "source": [
        "y_pred_xg = clf.predict(test_features)\n",
        "y_pred_xg"
      ],
      "execution_count": 0,
      "outputs": [
        {
          "output_type": "execute_result",
          "data": {
            "text/plain": [
              "array([4, 4, 3, 1, 2, 0, 2, 0, 5, 0, 0, 6, 1, 5, 0, 0, 4, 2, 1, 0, 0, 1,\n",
              "       6, 1, 7, 7, 1, 4, 4, 4, 1, 0, 6, 6, 1, 2, 1, 1, 1, 1, 1, 0, 1, 0,\n",
              "       6, 5, 2, 1, 1, 1, 0, 1, 4, 0, 7, 1, 1, 1, 1, 0, 2, 5, 2, 2, 4, 5,\n",
              "       0, 1, 1, 0, 0, 6, 0, 2, 2, 4, 7, 2, 6, 0, 2, 2, 2, 0, 2, 3, 6, 5,\n",
              "       5, 7, 5, 3, 3, 7, 7, 7, 7, 7, 3, 3, 3, 3, 3, 3, 3, 3, 3, 3, 3, 3,\n",
              "       3, 4, 4, 4, 3, 5, 6, 4, 1, 1, 5, 0, 1, 2, 0, 4, 2, 0, 4, 1, 6, 4,\n",
              "       1, 5, 4, 2, 5, 4, 4, 6, 4, 6, 4, 6, 7, 7, 2, 6, 4, 5, 5, 5, 5, 5,\n",
              "       6, 7, 7, 1, 5, 5, 5, 5, 2, 5, 1, 0, 2, 4, 5, 5, 5, 5, 5, 4, 5, 7,\n",
              "       6, 5, 5, 5, 7, 0, 4, 4, 4, 4, 1, 4, 4, 4, 2, 7, 7, 1, 7, 4, 0, 6,\n",
              "       1, 1, 1, 1, 0, 1, 6, 6, 6, 6, 6, 1, 0, 0, 1, 0, 0, 0, 1, 2, 1, 1,\n",
              "       7, 2, 6, 1, 7, 5, 0, 0, 5, 4, 4, 0, 7, 7, 6, 7, 4, 4, 5, 2, 7, 3,\n",
              "       7, 7, 5])"
            ]
          },
          "metadata": {
            "tags": []
          },
          "execution_count": 51
        }
      ]
    },
    {
      "cell_type": "code",
      "metadata": {
        "id": "1Mr_iMDTCdXC",
        "colab_type": "code",
        "outputId": "b6db9993-a81b-40bb-acd4-6039529a9f80",
        "colab": {
          "base_uri": "https://localhost:8080/",
          "height": 221
        }
      },
      "source": [
        "y_pred"
      ],
      "execution_count": 0,
      "outputs": [
        {
          "output_type": "execute_result",
          "data": {
            "text/plain": [
              "array([0, 7, 1, 1, 1, 0, 2, 0, 6, 0, 0, 6, 6, 5, 0, 0, 4, 0, 1, 0, 2, 1,\n",
              "       6, 0, 1, 7, 3, 3, 3, 1, 1, 1, 1, 0, 0, 2, 0, 1, 1, 1, 1, 1, 0, 5,\n",
              "       6, 5, 2, 1, 1, 1, 1, 1, 6, 5, 2, 1, 1, 1, 1, 0, 2, 0, 2, 2, 2, 5,\n",
              "       1, 2, 1, 0, 2, 2, 0, 2, 2, 5, 7, 2, 2, 2, 2, 2, 0, 2, 4, 3, 0, 4,\n",
              "       6, 4, 6, 5, 7, 7, 7, 7, 3, 7, 3, 3, 3, 3, 3, 3, 3, 4, 3, 3, 3, 3,\n",
              "       3, 0, 0, 0, 0, 7, 4, 4, 0, 0, 5, 4, 1, 0, 0, 4, 2, 2, 4, 4, 4, 4,\n",
              "       2, 2, 4, 4, 4, 7, 4, 4, 4, 6, 4, 6, 4, 2, 2, 6, 4, 5, 5, 5, 6, 7,\n",
              "       6, 7, 7, 5, 5, 5, 7, 5, 1, 5, 1, 5, 1, 4, 5, 5, 5, 5, 5, 5, 5, 5,\n",
              "       5, 5, 5, 5, 7, 4, 4, 4, 4, 4, 1, 7, 6, 3, 7, 0, 7, 4, 7, 4, 6, 6,\n",
              "       4, 1, 1, 1, 6, 1, 6, 6, 6, 6, 6, 7, 0, 0, 4, 1, 0, 6, 4, 7, 1, 1,\n",
              "       5, 5, 5, 0, 7, 1, 6, 7, 0, 7, 4, 0, 0, 7, 7, 7, 3, 7, 5, 7, 7, 4,\n",
              "       7, 7, 7])"
            ]
          },
          "metadata": {
            "tags": []
          },
          "execution_count": 105
        }
      ]
    },
    {
      "cell_type": "code",
      "metadata": {
        "id": "O4__vhehgE9z",
        "colab_type": "code",
        "outputId": "cbeb71ec-8e5c-469d-8d30-71d242e39d27",
        "colab": {
          "base_uri": "https://localhost:8080/",
          "height": 221
        }
      },
      "source": [
        "y_test"
      ],
      "execution_count": 0,
      "outputs": [
        {
          "output_type": "execute_result",
          "data": {
            "text/plain": [
              "array([0, 0, 0, 0, 0, 0, 0, 0, 0, 0, 0, 0, 0, 0, 0, 0, 0, 0, 0, 0, 0, 0,\n",
              "       0, 0, 0, 0, 0, 0, 0, 0, 1, 1, 1, 1, 1, 1, 1, 1, 1, 1, 1, 1, 1, 1,\n",
              "       1, 1, 1, 1, 1, 1, 1, 1, 1, 1, 1, 1, 1, 1, 1, 1, 2, 2, 2, 2, 2, 2,\n",
              "       2, 2, 2, 2, 2, 2, 2, 2, 2, 2, 2, 2, 2, 2, 2, 2, 2, 2, 2, 3, 3, 3,\n",
              "       3, 3, 3, 3, 3, 3, 3, 3, 3, 3, 3, 3, 3, 3, 3, 3, 3, 3, 3, 3, 3, 3,\n",
              "       3, 3, 3, 3, 3, 4, 4, 4, 4, 4, 4, 4, 4, 4, 4, 4, 4, 4, 4, 4, 4, 4,\n",
              "       4, 4, 4, 4, 4, 4, 4, 4, 4, 4, 4, 4, 4, 4, 4, 4, 4, 4, 5, 5, 5, 5,\n",
              "       5, 5, 5, 5, 5, 5, 5, 5, 5, 5, 5, 5, 5, 5, 5, 5, 5, 5, 5, 5, 5, 5,\n",
              "       5, 5, 5, 5, 6, 6, 6, 6, 6, 6, 6, 6, 6, 6, 6, 6, 6, 6, 6, 6, 6, 6,\n",
              "       6, 6, 6, 6, 6, 6, 6, 6, 6, 6, 6, 6, 6, 6, 6, 6, 6, 7, 7, 7, 7, 7,\n",
              "       7, 7, 7, 7, 7, 7, 7, 7, 7, 7, 7, 7, 7, 7, 7, 7, 7, 7, 7, 7, 7, 7,\n",
              "       7, 7, 7])"
            ]
          },
          "metadata": {
            "tags": []
          },
          "execution_count": 82
        }
      ]
    },
    {
      "cell_type": "code",
      "metadata": {
        "id": "x_frldbj2qQG",
        "colab_type": "code",
        "colab": {}
      },
      "source": [
        "from collections import Counter"
      ],
      "execution_count": 0,
      "outputs": []
    },
    {
      "cell_type": "code",
      "metadata": {
        "id": "LGv4djUdMHM-",
        "colab_type": "code",
        "outputId": "be246e86-7d48-4a1e-c21d-84d20307eded",
        "colab": {
          "base_uri": "https://localhost:8080/",
          "height": 34
        }
      },
      "source": [
        "dirr = os.getcwd() + '/Songs_Dataset/test/'\n",
        "dirr"
      ],
      "execution_count": 0,
      "outputs": [
        {
          "output_type": "execute_result",
          "data": {
            "text/plain": [
              "'/content/drive/My Drive/Songs_Dataset/test/'"
            ]
          },
          "metadata": {
            "tags": []
          },
          "execution_count": 17
        }
      ]
    },
    {
      "cell_type": "code",
      "metadata": {
        "id": "VJn6rPcre6zA",
        "colab_type": "code",
        "colab": {}
      },
      "source": [
        "folders = os.listdir(dirr)"
      ],
      "execution_count": 0,
      "outputs": []
    },
    {
      "cell_type": "code",
      "metadata": {
        "id": "_lQhYPRse_ry",
        "colab_type": "code",
        "outputId": "07905288-2b77-41a5-c55b-0b2777058112",
        "colab": {
          "base_uri": "https://localhost:8080/",
          "height": 901
        }
      },
      "source": [
        "test_songs = {}\n",
        "for folder in folders:\n",
        "  songs = os.listdir(dirr+folder)\n",
        "  #print(folder)\n",
        "  for i in range(len(songs)):\n",
        "    songs[i] = songs[i].split('-')[0]\n",
        "  test_songs[folder] = songs\n",
        "  #print(songs)\n",
        "test_songs"
      ],
      "execution_count": 0,
      "outputs": [
        {
          "output_type": "execute_result",
          "data": {
            "text/plain": [
              "{'Arijit Singh': ['Lambiyaan Si Judaiyaan Song ',\n",
              "  'Nashe Si Chadh Gayi Song ',\n",
              "  'Enna Sona Song ',\n",
              "  'Phir Le Aya Dil (Reprise) Song ',\n",
              "  'Baaton Ko Teri Song ',\n",
              "  'Yeh Fitoor Mera Song '],\n",
              " 'Armaan Malik': ['Kaun Tujhe & Kuch Toh Hai Mashup Song ',\n",
              "  'Jaadugari Song ',\n",
              "  'Khwaishein (Film Version) Song ',\n",
              "  'Main Hoon Hero Tera (Sad Version) Song ',\n",
              "  'Tum Jo Mile Song ',\n",
              "  'Rendu Kallu Song ',\n",
              "  'Sariyaagi (From '],\n",
              " 'Atif Aslam': ['Mori Araj Suno (From ',\n",
              "  'Jal Pari Song ',\n",
              "  'Khair Mangda Song ',\n",
              "  'Dil Kare Song ',\n",
              "  'Darasal Song '],\n",
              " 'Honey Singh': ['One Bottle Down Song ',\n",
              "  'Khalaara Song ',\n",
              "  'Superman Song ',\n",
              "  'Rani Song ',\n",
              "  'Love Dose Song ',\n",
              "  'Urvashi Song '],\n",
              " 'Raahat Fateh Ali Khan': ['Naino Nay Tere Song ',\n",
              "  'Tum Kon Piya Song ',\n",
              "  'Tinka Tinka Dil Mera Song ',\n",
              "  'Saiyaan Radio ',\n",
              "  'Fakeera Song ',\n",
              "  'Lag Ja Gale Song ',\n",
              "  'Tera Mera Sath Ho Song '],\n",
              " 'Shreya Ghoshal': ['Sunn Raha Hai (Female) Song ',\n",
              "  'Yeh Kya Hua Song ',\n",
              "  'Agar Tum Mil Jao',\n",
              "  'Sunn Raha Hai',\n",
              "  'Daata Tu Song ',\n",
              "  'Saans (Reprise) Song ',\n",
              "  'Tum Bin Song '],\n",
              " 'Sonu Nigam': ['Jaane Nahin Denge Tujhe Song ',\n",
              "  'Aye Zindagi Song ',\n",
              "  'Anisuthide Song ',\n",
              "  'Bijuria Song ',\n",
              "  'Zindagi Is Tarah Song ',\n",
              "  'Gamanisu Song ',\n",
              "  'Deewane Hoke Hum Song '],\n",
              " 'Sunidhi Chauhan': ['Ganaraj Tu Song ',\n",
              "  'Dil Mein Jaagi Dhadkan Aise (Sur (The Melody Of Life) _ Soundtrack Version) Song ',\n",
              "  'Aaja Nachle Song ',\n",
              "  'Piku Song ',\n",
              "  'Jind Mahi Song ',\n",
              "  'Aye Dil Song ',\n",
              "  'Aisa Jadoo (Remix) Song ']}"
            ]
          },
          "metadata": {
            "tags": []
          },
          "execution_count": 19
        }
      ]
    },
    {
      "cell_type": "code",
      "metadata": {
        "id": "3385kMJLORqy",
        "colab_type": "code",
        "outputId": "f96e0c56-4241-493d-c59b-b08be65ef1cc",
        "colab": {
          "base_uri": "https://localhost:8080/",
          "height": 54
        }
      },
      "source": [
        "all_singers={}\n",
        "for singers in singer_labels.values():\n",
        "    all_singers[singers] = {}\n",
        "    for singers2 in singer_labels.values():\n",
        "      all_singers[singers][singers2] = 0\n",
        "print(all_singers)"
      ],
      "execution_count": 0,
      "outputs": [
        {
          "output_type": "stream",
          "text": [
            "{'Arijit Singh': {'Arijit Singh': 0, 'Armaan Malik': 0, 'Atif Aslam': 0, 'Honey Singh': 0, 'Raahat Fateh Ali Khan': 0, 'Shreya Ghoshal': 0, 'Sonu Nigam': 0, 'Sunidhi Chauhan': 0}, 'Armaan Malik': {'Arijit Singh': 0, 'Armaan Malik': 0, 'Atif Aslam': 0, 'Honey Singh': 0, 'Raahat Fateh Ali Khan': 0, 'Shreya Ghoshal': 0, 'Sonu Nigam': 0, 'Sunidhi Chauhan': 0}, 'Atif Aslam': {'Arijit Singh': 0, 'Armaan Malik': 0, 'Atif Aslam': 0, 'Honey Singh': 0, 'Raahat Fateh Ali Khan': 0, 'Shreya Ghoshal': 0, 'Sonu Nigam': 0, 'Sunidhi Chauhan': 0}, 'Honey Singh': {'Arijit Singh': 0, 'Armaan Malik': 0, 'Atif Aslam': 0, 'Honey Singh': 0, 'Raahat Fateh Ali Khan': 0, 'Shreya Ghoshal': 0, 'Sonu Nigam': 0, 'Sunidhi Chauhan': 0}, 'Raahat Fateh Ali Khan': {'Arijit Singh': 0, 'Armaan Malik': 0, 'Atif Aslam': 0, 'Honey Singh': 0, 'Raahat Fateh Ali Khan': 0, 'Shreya Ghoshal': 0, 'Sonu Nigam': 0, 'Sunidhi Chauhan': 0}, 'Shreya Ghoshal': {'Arijit Singh': 0, 'Armaan Malik': 0, 'Atif Aslam': 0, 'Honey Singh': 0, 'Raahat Fateh Ali Khan': 0, 'Shreya Ghoshal': 0, 'Sonu Nigam': 0, 'Sunidhi Chauhan': 0}, 'Sonu Nigam': {'Arijit Singh': 0, 'Armaan Malik': 0, 'Atif Aslam': 0, 'Honey Singh': 0, 'Raahat Fateh Ali Khan': 0, 'Shreya Ghoshal': 0, 'Sonu Nigam': 0, 'Sunidhi Chauhan': 0}, 'Sunidhi Chauhan': {'Arijit Singh': 0, 'Armaan Malik': 0, 'Atif Aslam': 0, 'Honey Singh': 0, 'Raahat Fateh Ali Khan': 0, 'Shreya Ghoshal': 0, 'Sonu Nigam': 0, 'Sunidhi Chauhan': 0}}\n"
          ],
          "name": "stdout"
        }
      ]
    },
    {
      "cell_type": "code",
      "metadata": {
        "id": "gmhkuly8pDQ7",
        "colab_type": "code",
        "colab": {}
      },
      "source": [
        ""
      ],
      "execution_count": 0,
      "outputs": []
    },
    {
      "cell_type": "markdown",
      "metadata": {
        "id": "FQDOjRUXofFl",
        "colab_type": "text"
      },
      "source": [
        "## **Results**"
      ]
    },
    {
      "cell_type": "code",
      "metadata": {
        "id": "k29-Nu0e3T_9",
        "colab_type": "code",
        "outputId": "d0575f5f-784f-420c-9f9e-62288827b282",
        "colab": {
          "base_uri": "https://localhost:8080/",
          "height": 8874
        }
      },
      "source": [
        "ctr=0\n",
        "unsure = 0\n",
        "correct = 0\n",
        "count = 0\n",
        "prev_singer = 0\n",
        "for i in range(49):\n",
        "  count_pred = Counter(y_pred[ctr:ctr+5]).most_common(5)\n",
        "\n",
        "  actual_singer,num = Counter(y_test[ctr:ctr+5]).most_common(1)[0]\n",
        "  if(actual_singer!=prev_singer):\n",
        "    prev_singer = actual_singer\n",
        "    count = 0\n",
        "  \n",
        "  #print(count_pred)\n",
        "  pred_singers = []\n",
        "  for pred in count_pred:\n",
        "    pred_singers.append([singer_labels[pred[0]],pred[1]/5])\n",
        "  #print(pred_singers)\n",
        "  print('Song:',test_songs[singer_labels[actual_singer]][count])\n",
        "  count+=1\n",
        "  print('Actual Singer:', singer_labels[actual_singer])\n",
        "  print('Predictions:-')\n",
        "  max_conf_singers = []\n",
        "  tie = 0\n",
        "  maxi = 0\n",
        "  cnt=0\n",
        "  for singer in pred_singers:\n",
        "      if(cnt==0):\n",
        "        predicted = singer[0]\n",
        "      cnt+=1\n",
        "      print('Singer:', singer[0])\n",
        "      print('Confidence:', singer[1])\n",
        "      if(singer[1]>=maxi):\n",
        "        if singer[1]>0.2:\n",
        "          maxi = singer[1]\n",
        "          max_conf_singers.append(singer[0])\n",
        "      if(singer[1]==0.4):\n",
        "        tie+=1\n",
        "      \n",
        "  #print(max_conf_singer)\n",
        "  if(len(max_conf_singers)!=0):\n",
        "    for  max_conf_singer in  max_conf_singers:\n",
        "        if max_conf_singer == singer_labels[actual_singer] :\n",
        "          correct+=1\n",
        " # print(pred_singers,actual_singer)\n",
        "  for singer in pred_singers:\n",
        "    #print(singer[0])\n",
        "    if singer[0] == singer_labels[actual_singer]:\n",
        "      unsure+=1\n",
        "      break\n",
        "      \n",
        "  print('Predicted Singer:\\033[0m', predicted)\n",
        "  ctr+=5\n",
        "  all_singers[singer_labels[actual_singer]][predicted]+=1\n",
        "  \n",
        "  print()\n",
        "print('Correct majority vote songs:', correct)\n",
        "print('Accuracy: %0.3f' % (100*correct/49))\n",
        "print('Correct + Unsure count:', unsure)\n",
        "print('Correct + Unsure accuracy: %0.3f' % (100*unsure/49))"
      ],
      "execution_count": 0,
      "outputs": [
        {
          "output_type": "stream",
          "text": [
            "Song: Lambiyaan Si Judaiyaan Song \n",
            "Actual Singer: Arijit Singh\n",
            "Predictions:-\n",
            "Singer: Armaan Malik\n",
            "Confidence: 0.6\n",
            "Singer: Arijit Singh\n",
            "Confidence: 0.2\n",
            "Singer: Sunidhi Chauhan\n",
            "Confidence: 0.2\n",
            "Predicted Singer:\u001b[0m Armaan Malik\n",
            "\n",
            "Song: Nashe Si Chadh Gayi Song \n",
            "Actual Singer: Arijit Singh\n",
            "Predictions:-\n",
            "Singer: Arijit Singh\n",
            "Confidence: 0.6\n",
            "Singer: Atif Aslam\n",
            "Confidence: 0.2\n",
            "Singer: Sonu Nigam\n",
            "Confidence: 0.2\n",
            "Predicted Singer:\u001b[0m Arijit Singh\n",
            "\n",
            "Song: Enna Sona Song \n",
            "Actual Singer: Arijit Singh\n",
            "Predictions:-\n",
            "Singer: Arijit Singh\n",
            "Confidence: 0.4\n",
            "Singer: Sonu Nigam\n",
            "Confidence: 0.4\n",
            "Singer: Shreya Ghoshal\n",
            "Confidence: 0.2\n",
            "Predicted Singer:\u001b[0m Arijit Singh\n",
            "\n",
            "Song: Phir Le Aya Dil (Reprise) Song \n",
            "Actual Singer: Arijit Singh\n",
            "Predictions:-\n",
            "Singer: Arijit Singh\n",
            "Confidence: 0.6\n",
            "Singer: Raahat Fateh Ali Khan\n",
            "Confidence: 0.2\n",
            "Singer: Armaan Malik\n",
            "Confidence: 0.2\n",
            "Predicted Singer:\u001b[0m Arijit Singh\n",
            "\n",
            "Song: Baaton Ko Teri Song \n",
            "Actual Singer: Arijit Singh\n",
            "Predictions:-\n",
            "Singer: Armaan Malik\n",
            "Confidence: 0.4\n",
            "Singer: Atif Aslam\n",
            "Confidence: 0.2\n",
            "Singer: Sonu Nigam\n",
            "Confidence: 0.2\n",
            "Singer: Arijit Singh\n",
            "Confidence: 0.2\n",
            "Predicted Singer:\u001b[0m Armaan Malik\n",
            "\n",
            "Song: Yeh Fitoor Mera Song \n",
            "Actual Singer: Arijit Singh\n",
            "Predictions:-\n",
            "Singer: Honey Singh\n",
            "Confidence: 0.6\n",
            "Singer: Sunidhi Chauhan\n",
            "Confidence: 0.2\n",
            "Singer: Armaan Malik\n",
            "Confidence: 0.2\n",
            "Predicted Singer:\u001b[0m Honey Singh\n",
            "\n",
            "Song: Kaun Tujhe & Kuch Toh Hai Mashup Song \n",
            "Actual Singer: Armaan Malik\n",
            "Predictions:-\n",
            "Singer: Armaan Malik\n",
            "Confidence: 0.6\n",
            "Singer: Arijit Singh\n",
            "Confidence: 0.4\n",
            "Predicted Singer:\u001b[0m Armaan Malik\n",
            "\n",
            "Song: Jaadugari Song \n",
            "Actual Singer: Armaan Malik\n",
            "Predictions:-\n",
            "Singer: Armaan Malik\n",
            "Confidence: 0.6\n",
            "Singer: Atif Aslam\n",
            "Confidence: 0.2\n",
            "Singer: Arijit Singh\n",
            "Confidence: 0.2\n",
            "Predicted Singer:\u001b[0m Armaan Malik\n",
            "\n",
            "Song: Khwaishein (Film Version) Song \n",
            "Actual Singer: Armaan Malik\n",
            "Predictions:-\n",
            "Singer: Armaan Malik\n",
            "Confidence: 0.4\n",
            "Singer: Arijit Singh\n",
            "Confidence: 0.2\n",
            "Singer: Shreya Ghoshal\n",
            "Confidence: 0.2\n",
            "Singer: Sonu Nigam\n",
            "Confidence: 0.2\n",
            "Predicted Singer:\u001b[0m Armaan Malik\n",
            "\n",
            "Song: Main Hoon Hero Tera (Sad Version) Song \n",
            "Actual Singer: Armaan Malik\n",
            "Predictions:-\n",
            "Singer: Armaan Malik\n",
            "Confidence: 0.6\n",
            "Singer: Shreya Ghoshal\n",
            "Confidence: 0.2\n",
            "Singer: Atif Aslam\n",
            "Confidence: 0.2\n",
            "Predicted Singer:\u001b[0m Armaan Malik\n",
            "\n",
            "Song: Tum Jo Mile Song \n",
            "Actual Singer: Armaan Malik\n",
            "Predictions:-\n",
            "Singer: Armaan Malik\n",
            "Confidence: 0.4\n",
            "Singer: Sonu Nigam\n",
            "Confidence: 0.2\n",
            "Singer: Shreya Ghoshal\n",
            "Confidence: 0.2\n",
            "Singer: Atif Aslam\n",
            "Confidence: 0.2\n",
            "Predicted Singer:\u001b[0m Armaan Malik\n",
            "\n",
            "Song: Rendu Kallu Song \n",
            "Actual Singer: Armaan Malik\n",
            "Predictions:-\n",
            "Singer: Armaan Malik\n",
            "Confidence: 0.8\n",
            "Singer: Arijit Singh\n",
            "Confidence: 0.2\n",
            "Predicted Singer:\u001b[0m Armaan Malik\n",
            "\n",
            "Song: Mori Araj Suno (From \n",
            "Actual Singer: Atif Aslam\n",
            "Predictions:-\n",
            "Singer: Atif Aslam\n",
            "Confidence: 0.8\n",
            "Singer: Arijit Singh\n",
            "Confidence: 0.2\n",
            "Predicted Singer:\u001b[0m Atif Aslam\n",
            "\n",
            "Song: Jal Pari Song \n",
            "Actual Singer: Atif Aslam\n",
            "Predictions:-\n",
            "Singer: Armaan Malik\n",
            "Confidence: 0.4\n",
            "Singer: Shreya Ghoshal\n",
            "Confidence: 0.2\n",
            "Singer: Atif Aslam\n",
            "Confidence: 0.2\n",
            "Singer: Arijit Singh\n",
            "Confidence: 0.2\n",
            "Predicted Singer:\u001b[0m Armaan Malik\n",
            "\n",
            "Song: Khair Mangda Song \n",
            "Actual Singer: Atif Aslam\n",
            "Predictions:-\n",
            "Singer: Atif Aslam\n",
            "Confidence: 0.8\n",
            "Singer: Arijit Singh\n",
            "Confidence: 0.2\n",
            "Predicted Singer:\u001b[0m Atif Aslam\n",
            "\n",
            "Song: Dil Kare Song \n",
            "Actual Singer: Atif Aslam\n",
            "Predictions:-\n",
            "Singer: Atif Aslam\n",
            "Confidence: 0.6\n",
            "Singer: Shreya Ghoshal\n",
            "Confidence: 0.2\n",
            "Singer: Sunidhi Chauhan\n",
            "Confidence: 0.2\n",
            "Predicted Singer:\u001b[0m Atif Aslam\n",
            "\n",
            "Song: Darasal Song \n",
            "Actual Singer: Atif Aslam\n",
            "Predictions:-\n",
            "Singer: Atif Aslam\n",
            "Confidence: 0.6\n",
            "Singer: Arijit Singh\n",
            "Confidence: 0.2\n",
            "Singer: Raahat Fateh Ali Khan\n",
            "Confidence: 0.2\n",
            "Predicted Singer:\u001b[0m Atif Aslam\n",
            "\n",
            "Song: One Bottle Down Song \n",
            "Actual Singer: Honey Singh\n",
            "Predictions:-\n",
            "Singer: Raahat Fateh Ali Khan\n",
            "Confidence: 0.4\n",
            "Singer: Honey Singh\n",
            "Confidence: 0.2\n",
            "Singer: Arijit Singh\n",
            "Confidence: 0.2\n",
            "Singer: Sonu Nigam\n",
            "Confidence: 0.2\n",
            "Predicted Singer:\u001b[0m Raahat Fateh Ali Khan\n",
            "\n",
            "Song: Khalaara Song \n",
            "Actual Singer: Honey Singh\n",
            "Predictions:-\n",
            "Singer: Sunidhi Chauhan\n",
            "Confidence: 0.6\n",
            "Singer: Sonu Nigam\n",
            "Confidence: 0.2\n",
            "Singer: Shreya Ghoshal\n",
            "Confidence: 0.2\n",
            "Predicted Singer:\u001b[0m Sunidhi Chauhan\n",
            "\n",
            "Song: Superman Song \n",
            "Actual Singer: Honey Singh\n",
            "Predictions:-\n",
            "Singer: Honey Singh\n",
            "Confidence: 0.6\n",
            "Singer: Sunidhi Chauhan\n",
            "Confidence: 0.4\n",
            "Predicted Singer:\u001b[0m Honey Singh\n",
            "\n",
            "Song: Rani Song \n",
            "Actual Singer: Honey Singh\n",
            "Predictions:-\n",
            "Singer: Honey Singh\n",
            "Confidence: 1.0\n",
            "Predicted Singer:\u001b[0m Honey Singh\n",
            "\n",
            "Song: Love Dose Song \n",
            "Actual Singer: Honey Singh\n",
            "Predictions:-\n",
            "Singer: Honey Singh\n",
            "Confidence: 0.8\n",
            "Singer: Raahat Fateh Ali Khan\n",
            "Confidence: 0.2\n",
            "Predicted Singer:\u001b[0m Honey Singh\n",
            "\n",
            "Song: Urvashi Song \n",
            "Actual Singer: Honey Singh\n",
            "Predictions:-\n",
            "Singer: Arijit Singh\n",
            "Confidence: 0.8\n",
            "Singer: Honey Singh\n",
            "Confidence: 0.2\n",
            "Predicted Singer:\u001b[0m Arijit Singh\n",
            "\n",
            "Song: Naino Nay Tere Song \n",
            "Actual Singer: Raahat Fateh Ali Khan\n",
            "Predictions:-\n",
            "Singer: Raahat Fateh Ali Khan\n",
            "Confidence: 0.4\n",
            "Singer: Arijit Singh\n",
            "Confidence: 0.4\n",
            "Singer: Sunidhi Chauhan\n",
            "Confidence: 0.2\n",
            "Predicted Singer:\u001b[0m Raahat Fateh Ali Khan\n",
            "\n",
            "Song: Tum Kon Piya Song \n",
            "Actual Singer: Raahat Fateh Ali Khan\n",
            "Predictions:-\n",
            "Singer: Arijit Singh\n",
            "Confidence: 0.4\n",
            "Singer: Shreya Ghoshal\n",
            "Confidence: 0.2\n",
            "Singer: Raahat Fateh Ali Khan\n",
            "Confidence: 0.2\n",
            "Singer: Armaan Malik\n",
            "Confidence: 0.2\n",
            "Predicted Singer:\u001b[0m Arijit Singh\n",
            "\n",
            "Song: Tinka Tinka Dil Mera Song \n",
            "Actual Singer: Raahat Fateh Ali Khan\n",
            "Predictions:-\n",
            "Singer: Raahat Fateh Ali Khan\n",
            "Confidence: 0.6\n",
            "Singer: Atif Aslam\n",
            "Confidence: 0.4\n",
            "Predicted Singer:\u001b[0m Raahat Fateh Ali Khan\n",
            "\n",
            "Song: Saiyaan Radio \n",
            "Actual Singer: Raahat Fateh Ali Khan\n",
            "Predictions:-\n",
            "Singer: Raahat Fateh Ali Khan\n",
            "Confidence: 0.6\n",
            "Singer: Atif Aslam\n",
            "Confidence: 0.4\n",
            "Predicted Singer:\u001b[0m Raahat Fateh Ali Khan\n",
            "\n",
            "Song: Fakeera Song \n",
            "Actual Singer: Raahat Fateh Ali Khan\n",
            "Predictions:-\n",
            "Singer: Raahat Fateh Ali Khan\n",
            "Confidence: 0.8\n",
            "Singer: Sunidhi Chauhan\n",
            "Confidence: 0.2\n",
            "Predicted Singer:\u001b[0m Raahat Fateh Ali Khan\n",
            "\n",
            "Song: Lag Ja Gale Song \n",
            "Actual Singer: Raahat Fateh Ali Khan\n",
            "Predictions:-\n",
            "Singer: Raahat Fateh Ali Khan\n",
            "Confidence: 0.6\n",
            "Singer: Sonu Nigam\n",
            "Confidence: 0.4\n",
            "Predicted Singer:\u001b[0m Raahat Fateh Ali Khan\n",
            "\n",
            "Song: Tera Mera Sath Ho Song \n",
            "Actual Singer: Raahat Fateh Ali Khan\n",
            "Predictions:-\n",
            "Singer: Atif Aslam\n",
            "Confidence: 0.4\n",
            "Singer: Sonu Nigam\n",
            "Confidence: 0.2\n",
            "Singer: Raahat Fateh Ali Khan\n",
            "Confidence: 0.2\n",
            "Singer: Shreya Ghoshal\n",
            "Confidence: 0.2\n",
            "Predicted Singer:\u001b[0m Atif Aslam\n",
            "\n",
            "Song: Sunn Raha Hai (Female) Song \n",
            "Actual Singer: Shreya Ghoshal\n",
            "Predictions:-\n",
            "Singer: Shreya Ghoshal\n",
            "Confidence: 0.4\n",
            "Singer: Sonu Nigam\n",
            "Confidence: 0.4\n",
            "Singer: Sunidhi Chauhan\n",
            "Confidence: 0.2\n",
            "Predicted Singer:\u001b[0m Shreya Ghoshal\n",
            "\n",
            "Song: Yeh Kya Hua Song \n",
            "Actual Singer: Shreya Ghoshal\n",
            "Predictions:-\n",
            "Singer: Shreya Ghoshal\n",
            "Confidence: 0.6\n",
            "Singer: Sunidhi Chauhan\n",
            "Confidence: 0.4\n",
            "Predicted Singer:\u001b[0m Shreya Ghoshal\n",
            "\n",
            "Song: Agar Tum Mil Jao\n",
            "Actual Singer: Shreya Ghoshal\n",
            "Predictions:-\n",
            "Singer: Shreya Ghoshal\n",
            "Confidence: 0.4\n",
            "Singer: Armaan Malik\n",
            "Confidence: 0.4\n",
            "Singer: Sunidhi Chauhan\n",
            "Confidence: 0.2\n",
            "Predicted Singer:\u001b[0m Shreya Ghoshal\n",
            "\n",
            "Song: Sunn Raha Hai\n",
            "Actual Singer: Shreya Ghoshal\n",
            "Predictions:-\n",
            "Singer: Shreya Ghoshal\n",
            "Confidence: 0.6\n",
            "Singer: Armaan Malik\n",
            "Confidence: 0.2\n",
            "Singer: Raahat Fateh Ali Khan\n",
            "Confidence: 0.2\n",
            "Predicted Singer:\u001b[0m Shreya Ghoshal\n",
            "\n",
            "Song: Daata Tu Song \n",
            "Actual Singer: Shreya Ghoshal\n",
            "Predictions:-\n",
            "Singer: Shreya Ghoshal\n",
            "Confidence: 1.0\n",
            "Predicted Singer:\u001b[0m Shreya Ghoshal\n",
            "\n",
            "Song: Saans (Reprise) Song \n",
            "Actual Singer: Shreya Ghoshal\n",
            "Predictions:-\n",
            "Singer: Shreya Ghoshal\n",
            "Confidence: 1.0\n",
            "Predicted Singer:\u001b[0m Shreya Ghoshal\n",
            "\n",
            "Song: Jaane Nahin Denge Tujhe Song \n",
            "Actual Singer: Sonu Nigam\n",
            "Predictions:-\n",
            "Singer: Raahat Fateh Ali Khan\n",
            "Confidence: 0.8\n",
            "Singer: Sunidhi Chauhan\n",
            "Confidence: 0.2\n",
            "Predicted Singer:\u001b[0m Raahat Fateh Ali Khan\n",
            "\n",
            "Song: Aye Zindagi Song \n",
            "Actual Singer: Sonu Nigam\n",
            "Predictions:-\n",
            "Singer: Raahat Fateh Ali Khan\n",
            "Confidence: 0.2\n",
            "Singer: Armaan Malik\n",
            "Confidence: 0.2\n",
            "Singer: Sunidhi Chauhan\n",
            "Confidence: 0.2\n",
            "Singer: Sonu Nigam\n",
            "Confidence: 0.2\n",
            "Singer: Honey Singh\n",
            "Confidence: 0.2\n",
            "Predicted Singer:\u001b[0m Raahat Fateh Ali Khan\n",
            "\n",
            "Song: Anisuthide Song \n",
            "Actual Singer: Sonu Nigam\n",
            "Predictions:-\n",
            "Singer: Sunidhi Chauhan\n",
            "Confidence: 0.6\n",
            "Singer: Arijit Singh\n",
            "Confidence: 0.2\n",
            "Singer: Raahat Fateh Ali Khan\n",
            "Confidence: 0.2\n",
            "Predicted Singer:\u001b[0m Sunidhi Chauhan\n",
            "\n",
            "Song: Bijuria Song \n",
            "Actual Singer: Sonu Nigam\n",
            "Predictions:-\n",
            "Singer: Raahat Fateh Ali Khan\n",
            "Confidence: 0.4\n",
            "Singer: Sonu Nigam\n",
            "Confidence: 0.4\n",
            "Singer: Armaan Malik\n",
            "Confidence: 0.2\n",
            "Predicted Singer:\u001b[0m Raahat Fateh Ali Khan\n",
            "\n",
            "Song: Zindagi Is Tarah Song \n",
            "Actual Singer: Sonu Nigam\n",
            "Predictions:-\n",
            "Singer: Armaan Malik\n",
            "Confidence: 0.6\n",
            "Singer: Sonu Nigam\n",
            "Confidence: 0.4\n",
            "Predicted Singer:\u001b[0m Armaan Malik\n",
            "\n",
            "Song: Gamanisu Song \n",
            "Actual Singer: Sonu Nigam\n",
            "Predictions:-\n",
            "Singer: Sonu Nigam\n",
            "Confidence: 0.8\n",
            "Singer: Sunidhi Chauhan\n",
            "Confidence: 0.2\n",
            "Predicted Singer:\u001b[0m Sonu Nigam\n",
            "\n",
            "Song: Deewane Hoke Hum Song \n",
            "Actual Singer: Sonu Nigam\n",
            "Predictions:-\n",
            "Singer: Arijit Singh\n",
            "Confidence: 0.6\n",
            "Singer: Raahat Fateh Ali Khan\n",
            "Confidence: 0.2\n",
            "Singer: Armaan Malik\n",
            "Confidence: 0.2\n",
            "Predicted Singer:\u001b[0m Arijit Singh\n",
            "\n",
            "Song: Ganaraj Tu Song \n",
            "Actual Singer: Sunidhi Chauhan\n",
            "Predictions:-\n",
            "Singer: Armaan Malik\n",
            "Confidence: 0.4\n",
            "Singer: Sonu Nigam\n",
            "Confidence: 0.2\n",
            "Singer: Raahat Fateh Ali Khan\n",
            "Confidence: 0.2\n",
            "Singer: Sunidhi Chauhan\n",
            "Confidence: 0.2\n",
            "Predicted Singer:\u001b[0m Armaan Malik\n",
            "\n",
            "Song: Dil Mein Jaagi Dhadkan Aise (Sur (The Melody Of Life) _ Soundtrack Version) Song \n",
            "Actual Singer: Sunidhi Chauhan\n",
            "Predictions:-\n",
            "Singer: Shreya Ghoshal\n",
            "Confidence: 0.6\n",
            "Singer: Arijit Singh\n",
            "Confidence: 0.2\n",
            "Singer: Sunidhi Chauhan\n",
            "Confidence: 0.2\n",
            "Predicted Singer:\u001b[0m Shreya Ghoshal\n",
            "\n",
            "Song: Aaja Nachle Song \n",
            "Actual Singer: Sunidhi Chauhan\n",
            "Predictions:-\n",
            "Singer: Sunidhi Chauhan\n",
            "Confidence: 0.4\n",
            "Singer: Armaan Malik\n",
            "Confidence: 0.2\n",
            "Singer: Sonu Nigam\n",
            "Confidence: 0.2\n",
            "Singer: Arijit Singh\n",
            "Confidence: 0.2\n",
            "Predicted Singer:\u001b[0m Sunidhi Chauhan\n",
            "\n",
            "Song: Piku Song \n",
            "Actual Singer: Sunidhi Chauhan\n",
            "Predictions:-\n",
            "Singer: Arijit Singh\n",
            "Confidence: 0.4\n",
            "Singer: Sunidhi Chauhan\n",
            "Confidence: 0.4\n",
            "Singer: Raahat Fateh Ali Khan\n",
            "Confidence: 0.2\n",
            "Predicted Singer:\u001b[0m Arijit Singh\n",
            "\n",
            "Song: Jind Mahi Song \n",
            "Actual Singer: Sunidhi Chauhan\n",
            "Predictions:-\n",
            "Singer: Sunidhi Chauhan\n",
            "Confidence: 0.6\n",
            "Singer: Honey Singh\n",
            "Confidence: 0.2\n",
            "Singer: Shreya Ghoshal\n",
            "Confidence: 0.2\n",
            "Predicted Singer:\u001b[0m Sunidhi Chauhan\n",
            "\n",
            "Song: Aye Dil Song \n",
            "Actual Singer: Sunidhi Chauhan\n",
            "Predictions:-\n",
            "Singer: Sunidhi Chauhan\n",
            "Confidence: 0.8\n",
            "Singer: Raahat Fateh Ali Khan\n",
            "Confidence: 0.2\n",
            "Predicted Singer:\u001b[0m Sunidhi Chauhan\n",
            "\n",
            "Correct majority vote songs: 33\n",
            "Accuracy: 67.347\n",
            "Correct + Unsure count: 44\n",
            "Correct + Unsure accuracy: 89.796\n"
          ],
          "name": "stdout"
        }
      ]
    },
    {
      "cell_type": "code",
      "metadata": {
        "id": "baKa6eGSPiQC",
        "colab_type": "code",
        "outputId": "88532b3f-6799-489f-9904-314babd208ed",
        "colab": {
          "base_uri": "https://localhost:8080/",
          "height": 54
        }
      },
      "source": [
        "print(all_singers)"
      ],
      "execution_count": 0,
      "outputs": [
        {
          "output_type": "stream",
          "text": [
            "{'Arijit Singh': {'Arijit Singh': 3, 'Armaan Malik': 2, 'Atif Aslam': 0, 'Honey Singh': 1, 'Raahat Fateh Ali Khan': 0, 'Shreya Ghoshal': 0, 'Sonu Nigam': 0, 'Sunidhi Chauhan': 0}, 'Armaan Malik': {'Arijit Singh': 0, 'Armaan Malik': 6, 'Atif Aslam': 0, 'Honey Singh': 0, 'Raahat Fateh Ali Khan': 0, 'Shreya Ghoshal': 0, 'Sonu Nigam': 0, 'Sunidhi Chauhan': 0}, 'Atif Aslam': {'Arijit Singh': 0, 'Armaan Malik': 1, 'Atif Aslam': 4, 'Honey Singh': 0, 'Raahat Fateh Ali Khan': 0, 'Shreya Ghoshal': 0, 'Sonu Nigam': 0, 'Sunidhi Chauhan': 0}, 'Honey Singh': {'Arijit Singh': 1, 'Armaan Malik': 0, 'Atif Aslam': 0, 'Honey Singh': 3, 'Raahat Fateh Ali Khan': 1, 'Shreya Ghoshal': 0, 'Sonu Nigam': 0, 'Sunidhi Chauhan': 1}, 'Raahat Fateh Ali Khan': {'Arijit Singh': 1, 'Armaan Malik': 0, 'Atif Aslam': 1, 'Honey Singh': 0, 'Raahat Fateh Ali Khan': 5, 'Shreya Ghoshal': 0, 'Sonu Nigam': 0, 'Sunidhi Chauhan': 0}, 'Shreya Ghoshal': {'Arijit Singh': 0, 'Armaan Malik': 0, 'Atif Aslam': 0, 'Honey Singh': 0, 'Raahat Fateh Ali Khan': 0, 'Shreya Ghoshal': 6, 'Sonu Nigam': 0, 'Sunidhi Chauhan': 0}, 'Sonu Nigam': {'Arijit Singh': 1, 'Armaan Malik': 1, 'Atif Aslam': 0, 'Honey Singh': 0, 'Raahat Fateh Ali Khan': 3, 'Shreya Ghoshal': 0, 'Sonu Nigam': 1, 'Sunidhi Chauhan': 1}, 'Sunidhi Chauhan': {'Arijit Singh': 1, 'Armaan Malik': 1, 'Atif Aslam': 0, 'Honey Singh': 0, 'Raahat Fateh Ali Khan': 0, 'Shreya Ghoshal': 1, 'Sonu Nigam': 0, 'Sunidhi Chauhan': 3}}\n"
          ],
          "name": "stdout"
        }
      ]
    },
    {
      "cell_type": "code",
      "metadata": {
        "id": "pomUX0ChZNZx",
        "colab_type": "code",
        "outputId": "275b5934-8ff8-4852-fc4f-9b4d0b23c424",
        "colab": {
          "base_uri": "https://localhost:8080/",
          "height": 153
        }
      },
      "source": [
        ""
      ],
      "execution_count": 0,
      "outputs": [
        {
          "output_type": "execute_result",
          "data": {
            "text/plain": [
              "['Arijit Singh',\n",
              " 'Armaan Malik',\n",
              " 'Atif Aslam',\n",
              " 'Honey Singh',\n",
              " 'Raahat Fateh Ali Khan',\n",
              " 'Shreya Ghoshal',\n",
              " 'Sonu Nigam',\n",
              " 'Sunidhi Chauhan']"
            ]
          },
          "metadata": {
            "tags": []
          },
          "execution_count": 165
        }
      ]
    },
    {
      "cell_type": "code",
      "metadata": {
        "id": "hdrnyQxKWFIM",
        "colab_type": "code",
        "outputId": "57e68427-d0f7-482c-f640-35a876f47011",
        "colab": {
          "base_uri": "https://localhost:8080/",
          "height": 2873
        }
      },
      "source": [
        "for singer in all_singers.keys():\n",
        "  fig, ax = plt.subplots()\n",
        "  fig.subplots_adjust(bottom=0.1)\n",
        "  ax.set_xticklabels([i.split()[0] for i in list(singer_labels.values())]) \n",
        "  plt.bar(all_singers[singer].keys(), all_singers[singer].values())\n",
        "  print('Actual Singer:', singer)\n",
        "  plt.ylabel('Number of songs predicted')\n",
        "  plt.show()\n"
      ],
      "execution_count": 0,
      "outputs": [
        {
          "output_type": "stream",
          "text": [
            "Actual Singer: Arijit Singh\n"
          ],
          "name": "stdout"
        },
        {
          "output_type": "display_data",
          "data": {
            "image/png": "[encoded data removed]",
            "text/plain": [
              "<Figure size 576x396 with 1 Axes>"
            ]
          },
          "metadata": {
            "tags": []
          }
        },
        {
          "output_type": "stream",
          "text": [
            "Actual Singer: Armaan Malik\n"
          ],
          "name": "stdout"
        },
        {
          "output_type": "display_data",
          "data": {
            "image/png": "[encoded data removed]",
            "text/plain": [
              "<Figure size 576x396 with 1 Axes>"
            ]
          },
          "metadata": {
            "tags": []
          }
        },
        {
          "output_type": "stream",
          "text": [
            "Actual Singer: Atif Aslam\n"
          ],
          "name": "stdout"
        },
        {
          "output_type": "display_data",
          "data": {
            "image/png": "[encoded data removed]",
            "text/plain": [
              "<Figure size 576x396 with 1 Axes>"
            ]
          },
          "metadata": {
            "tags": []
          }
        },
        {
          "output_type": "stream",
          "text": [
            "Actual Singer: Honey Singh\n"
          ],
          "name": "stdout"
        },
        {
          "output_type": "display_data",
          "data": {
            "image/png": "[encoded data removed]",
            "text/plain": [
              "<Figure size 576x396 with 1 Axes>"
            ]
          },
          "metadata": {
            "tags": []
          }
        },
        {
          "output_type": "stream",
          "text": [
            "Actual Singer: Raahat Fateh Ali Khan\n"
          ],
          "name": "stdout"
        },
        {
          "output_type": "display_data",
          "data": {
            "image/png": "[encoded data removed]",
            "text/plain": [
              "<Figure size 576x396 with 1 Axes>"
            ]
          },
          "metadata": {
            "tags": []
          }
        },
        {
          "output_type": "stream",
          "text": [
            "Actual Singer: Shreya Ghoshal\n"
          ],
          "name": "stdout"
        },
        {
          "output_type": "display_data",
          "data": {
            "image/png": "[encoded data removed]",
            "text/plain": [
              "<Figure size 576x396 with 1 Axes>"
            ]
          },
          "metadata": {
            "tags": []
          }
        },
        {
          "output_type": "stream",
          "text": [
            "Actual Singer: Sonu Nigam\n"
          ],
          "name": "stdout"
        },
        {
          "output_type": "display_data",
          "data": {
            "image/png": "[encoded data removed]",
            "text/plain": [
              "<Figure size 576x396 with 1 Axes>"
            ]
          },
          "metadata": {
            "tags": []
          }
        },
        {
          "output_type": "stream",
          "text": [
            "Actual Singer: Sunidhi Chauhan\n"
          ],
          "name": "stdout"
        },
        {
          "output_type": "display_data",
          "data": {
            "image/png": "[encoded data removed]",
            "text/plain": [
              "<Figure size 576x396 with 1 Axes>"
            ]
          },
          "metadata": {
            "tags": []
          }
        }
      ]
    },
    {
      "cell_type": "code",
      "metadata": {
        "id": "M64UOW3k4idH",
        "colab_type": "code",
        "outputId": "91d53160-370c-4ad2-8e3c-0ceea6bc7aa1",
        "colab": {
          "base_uri": "https://localhost:8080/",
          "height": 6647
        }
      },
      "source": [
        "ctr=0\n",
        "correct = 0\n",
        "count = 0\n",
        "prev_singer = 0\n",
        "for i in range(49):\n",
        "  count_pred = Counter(y_pred_xg[ctr:ctr+5]).most_common(2)\n",
        "\n",
        "  actual_singer,num = Counter(y_test[ctr:ctr+5]).most_common(1)[0]\n",
        "  if(actual_singer!=prev_singer):\n",
        "    prev_singer = actual_singer\n",
        "    count = 0\n",
        "  \n",
        "  #print(count_pred)\n",
        "  pred_singers = []\n",
        "  for pred in count_pred:\n",
        "    pred_singers.append([singer_labels[pred[0]],pred[1]/5])\n",
        "  #print(pred_singers)\n",
        "  print('Song:',test_songs[singer_labels[actual_singer]][count])\n",
        "  count+=1\n",
        "  print('Actual Singer:', singer_labels[actual_singer])\n",
        "  print('Predictions:-')\n",
        "  max_conf_singers = []\n",
        "  tie = 0\n",
        "  maxi = 0\n",
        "  for singer in pred_singers:\n",
        "      \n",
        "      print('Singer:', singer[0])\n",
        "      print('Confidence:', singer[1])\n",
        "      if(singer[1]>=maxi):\n",
        "        if singer[1]>0.2:\n",
        "          maxi = singer[1]\n",
        "          max_conf_singers.append(singer[0])\n",
        "      if(singer[1]==0.4):\n",
        "        tie+=1\n",
        "      \n",
        "  #print(max_conf_singer)\n",
        "  if(len(max_conf_singers)!=0):\n",
        "    for  max_conf_singer in  max_conf_singers:\n",
        "        if max_conf_singer == singer_labels[actual_singer] :\n",
        "          correct+=1\n",
        "      \n",
        "      \n",
        "  \n",
        "  ctr+=5\n",
        "  print()\n",
        "print('Correct majority vote songs:', correct)\n",
        "print('Accuracy:', correct/49)"
      ],
      "execution_count": 0,
      "outputs": [
        {
          "output_type": "stream",
          "text": [
            "Song: Lambiyaan Si Judaiyaan Song \n",
            "Actual Singer: Arijit Singh\n",
            "Predictions:-\n",
            "Singer: Raahat Fateh Ali Khan\n",
            "Confidence: 0.4\n",
            "Singer: Honey Singh\n",
            "Confidence: 0.2\n",
            "\n",
            "Song: Nashe Si Chadh Gayi Song \n",
            "Actual Singer: Arijit Singh\n",
            "Predictions:-\n",
            "Singer: Arijit Singh\n",
            "Confidence: 0.6\n",
            "Singer: Atif Aslam\n",
            "Confidence: 0.2\n",
            "\n",
            "Song: Enna Sona Song \n",
            "Actual Singer: Arijit Singh\n",
            "Predictions:-\n",
            "Singer: Arijit Singh\n",
            "Confidence: 0.4\n",
            "Singer: Sonu Nigam\n",
            "Confidence: 0.2\n",
            "\n",
            "Song: Phir Le Aya Dil (Reprise) Song \n",
            "Actual Singer: Arijit Singh\n",
            "Predictions:-\n",
            "Singer: Arijit Singh\n",
            "Confidence: 0.4\n",
            "Singer: Raahat Fateh Ali Khan\n",
            "Confidence: 0.2\n",
            "\n",
            "Song: Baaton Ko Teri Song \n",
            "Actual Singer: Arijit Singh\n",
            "Predictions:-\n",
            "Singer: Armaan Malik\n",
            "Confidence: 0.4\n",
            "Singer: Arijit Singh\n",
            "Confidence: 0.2\n",
            "\n",
            "Song: Yeh Fitoor Mera Song \n",
            "Actual Singer: Arijit Singh\n",
            "Predictions:-\n",
            "Singer: Raahat Fateh Ali Khan\n",
            "Confidence: 0.6\n",
            "Singer: Sunidhi Chauhan\n",
            "Confidence: 0.2\n",
            "\n",
            "Song: Kaun Tujhe & Kuch Toh Hai Mashup Song \n",
            "Actual Singer: Armaan Malik\n",
            "Predictions:-\n",
            "Singer: Armaan Malik\n",
            "Confidence: 0.4\n",
            "Singer: Sonu Nigam\n",
            "Confidence: 0.4\n",
            "\n",
            "Song: Jaadugari Song \n",
            "Actual Singer: Armaan Malik\n",
            "Predictions:-\n",
            "Singer: Armaan Malik\n",
            "Confidence: 0.8\n",
            "Singer: Atif Aslam\n",
            "Confidence: 0.2\n",
            "\n",
            "Song: Khwaishein (Film Version) Song \n",
            "Actual Singer: Armaan Malik\n",
            "Predictions:-\n",
            "Singer: Armaan Malik\n",
            "Confidence: 0.4\n",
            "Singer: Arijit Singh\n",
            "Confidence: 0.4\n",
            "\n",
            "Song: Main Hoon Hero Tera (Sad Version) Song \n",
            "Actual Singer: Armaan Malik\n",
            "Predictions:-\n",
            "Singer: Armaan Malik\n",
            "Confidence: 0.6\n",
            "Singer: Shreya Ghoshal\n",
            "Confidence: 0.2\n",
            "\n",
            "Song: Tum Jo Mile Song \n",
            "Actual Singer: Armaan Malik\n",
            "Predictions:-\n",
            "Singer: Arijit Singh\n",
            "Confidence: 0.4\n",
            "Singer: Armaan Malik\n",
            "Confidence: 0.2\n",
            "\n",
            "Song: Rendu Kallu Song \n",
            "Actual Singer: Armaan Malik\n",
            "Predictions:-\n",
            "Singer: Armaan Malik\n",
            "Confidence: 0.8\n",
            "Singer: Arijit Singh\n",
            "Confidence: 0.2\n",
            "\n",
            "Song: Mori Araj Suno (From \n",
            "Actual Singer: Atif Aslam\n",
            "Predictions:-\n",
            "Singer: Atif Aslam\n",
            "Confidence: 0.6\n",
            "Singer: Shreya Ghoshal\n",
            "Confidence: 0.2\n",
            "\n",
            "Song: Jal Pari Song \n",
            "Actual Singer: Atif Aslam\n",
            "Predictions:-\n",
            "Singer: Arijit Singh\n",
            "Confidence: 0.4\n",
            "Singer: Armaan Malik\n",
            "Confidence: 0.4\n",
            "\n",
            "Song: Khair Mangda Song \n",
            "Actual Singer: Atif Aslam\n",
            "Predictions:-\n",
            "Singer: Arijit Singh\n",
            "Confidence: 0.4\n",
            "Singer: Atif Aslam\n",
            "Confidence: 0.4\n",
            "\n",
            "Song: Dil Kare Song \n",
            "Actual Singer: Atif Aslam\n",
            "Predictions:-\n",
            "Singer: Raahat Fateh Ali Khan\n",
            "Confidence: 0.2\n",
            "Singer: Sunidhi Chauhan\n",
            "Confidence: 0.2\n",
            "\n",
            "Song: Darasal Song \n",
            "Actual Singer: Atif Aslam\n",
            "Predictions:-\n",
            "Singer: Atif Aslam\n",
            "Confidence: 0.8\n",
            "Singer: Arijit Singh\n",
            "Confidence: 0.2\n",
            "\n",
            "Song: One Bottle Down Song \n",
            "Actual Singer: Honey Singh\n",
            "Predictions:-\n",
            "Singer: Shreya Ghoshal\n",
            "Confidence: 0.4\n",
            "Singer: Honey Singh\n",
            "Confidence: 0.2\n",
            "\n",
            "Song: Khalaara Song \n",
            "Actual Singer: Honey Singh\n",
            "Predictions:-\n",
            "Singer: Honey Singh\n",
            "Confidence: 0.4\n",
            "Singer: Sunidhi Chauhan\n",
            "Confidence: 0.4\n",
            "\n",
            "Song: Superman Song \n",
            "Actual Singer: Honey Singh\n",
            "Predictions:-\n",
            "Singer: Sunidhi Chauhan\n",
            "Confidence: 0.6\n",
            "Singer: Honey Singh\n",
            "Confidence: 0.4\n",
            "\n",
            "Song: Rani Song \n",
            "Actual Singer: Honey Singh\n",
            "Predictions:-\n",
            "Singer: Honey Singh\n",
            "Confidence: 1.0\n",
            "\n",
            "Song: Love Dose Song \n",
            "Actual Singer: Honey Singh\n",
            "Predictions:-\n",
            "Singer: Honey Singh\n",
            "Confidence: 1.0\n",
            "\n",
            "Song: Urvashi Song \n",
            "Actual Singer: Honey Singh\n",
            "Predictions:-\n",
            "Singer: Raahat Fateh Ali Khan\n",
            "Confidence: 0.6\n",
            "Singer: Honey Singh\n",
            "Confidence: 0.4\n",
            "\n",
            "Song: Naino Nay Tere Song \n",
            "Actual Singer: Raahat Fateh Ali Khan\n",
            "Predictions:-\n",
            "Singer: Armaan Malik\n",
            "Confidence: 0.4\n",
            "Singer: Shreya Ghoshal\n",
            "Confidence: 0.2\n",
            "\n",
            "Song: Tum Kon Piya Song \n",
            "Actual Singer: Raahat Fateh Ali Khan\n",
            "Predictions:-\n",
            "Singer: Arijit Singh\n",
            "Confidence: 0.4\n",
            "Singer: Shreya Ghoshal\n",
            "Confidence: 0.2\n",
            "\n",
            "Song: Tinka Tinka Dil Mera Song \n",
            "Actual Singer: Raahat Fateh Ali Khan\n",
            "Predictions:-\n",
            "Singer: Raahat Fateh Ali Khan\n",
            "Confidence: 0.4\n",
            "Singer: Atif Aslam\n",
            "Confidence: 0.2\n",
            "\n",
            "Song: Saiyaan Radio \n",
            "Actual Singer: Raahat Fateh Ali Khan\n",
            "Predictions:-\n",
            "Singer: Raahat Fateh Ali Khan\n",
            "Confidence: 0.4\n",
            "Singer: Sonu Nigam\n",
            "Confidence: 0.2\n",
            "\n",
            "Song: Fakeera Song \n",
            "Actual Singer: Raahat Fateh Ali Khan\n",
            "Predictions:-\n",
            "Singer: Raahat Fateh Ali Khan\n",
            "Confidence: 0.4\n",
            "Singer: Atif Aslam\n",
            "Confidence: 0.2\n",
            "\n",
            "Song: Lag Ja Gale Song \n",
            "Actual Singer: Raahat Fateh Ali Khan\n",
            "Predictions:-\n",
            "Singer: Raahat Fateh Ali Khan\n",
            "Confidence: 0.4\n",
            "Singer: Sonu Nigam\n",
            "Confidence: 0.4\n",
            "\n",
            "Song: Tera Mera Sath Ho Song \n",
            "Actual Singer: Raahat Fateh Ali Khan\n",
            "Predictions:-\n",
            "Singer: Sunidhi Chauhan\n",
            "Confidence: 0.2\n",
            "Singer: Atif Aslam\n",
            "Confidence: 0.2\n",
            "\n",
            "Song: Sunn Raha Hai (Female) Song \n",
            "Actual Singer: Shreya Ghoshal\n",
            "Predictions:-\n",
            "Singer: Shreya Ghoshal\n",
            "Confidence: 0.8\n",
            "Singer: Sonu Nigam\n",
            "Confidence: 0.2\n",
            "\n",
            "Song: Yeh Kya Hua Song \n",
            "Actual Singer: Shreya Ghoshal\n",
            "Predictions:-\n",
            "Singer: Sunidhi Chauhan\n",
            "Confidence: 0.4\n",
            "Singer: Shreya Ghoshal\n",
            "Confidence: 0.4\n",
            "\n",
            "Song: Agar Tum Mil Jao\n",
            "Actual Singer: Shreya Ghoshal\n",
            "Predictions:-\n",
            "Singer: Shreya Ghoshal\n",
            "Confidence: 0.6\n",
            "Singer: Atif Aslam\n",
            "Confidence: 0.2\n",
            "\n",
            "Song: Sunn Raha Hai\n",
            "Actual Singer: Shreya Ghoshal\n",
            "Predictions:-\n",
            "Singer: Shreya Ghoshal\n",
            "Confidence: 0.4\n",
            "Singer: Arijit Singh\n",
            "Confidence: 0.2\n",
            "\n",
            "Song: Daata Tu Song \n",
            "Actual Singer: Shreya Ghoshal\n",
            "Predictions:-\n",
            "Singer: Shreya Ghoshal\n",
            "Confidence: 0.8\n",
            "Singer: Raahat Fateh Ali Khan\n",
            "Confidence: 0.2\n",
            "\n",
            "Song: Saans (Reprise) Song \n",
            "Actual Singer: Shreya Ghoshal\n",
            "Predictions:-\n",
            "Singer: Shreya Ghoshal\n",
            "Confidence: 0.6\n",
            "Singer: Sunidhi Chauhan\n",
            "Confidence: 0.2\n",
            "\n",
            "Song: Jaane Nahin Denge Tujhe Song \n",
            "Actual Singer: Sonu Nigam\n",
            "Predictions:-\n",
            "Singer: Raahat Fateh Ali Khan\n",
            "Confidence: 0.6\n",
            "Singer: Sunidhi Chauhan\n",
            "Confidence: 0.2\n",
            "\n",
            "Song: Aye Zindagi Song \n",
            "Actual Singer: Sonu Nigam\n",
            "Predictions:-\n",
            "Singer: Raahat Fateh Ali Khan\n",
            "Confidence: 0.8\n",
            "Singer: Armaan Malik\n",
            "Confidence: 0.2\n",
            "\n",
            "Song: Anisuthide Song \n",
            "Actual Singer: Sonu Nigam\n",
            "Predictions:-\n",
            "Singer: Sunidhi Chauhan\n",
            "Confidence: 0.6\n",
            "Singer: Atif Aslam\n",
            "Confidence: 0.2\n",
            "\n",
            "Song: Bijuria Song \n",
            "Actual Singer: Sonu Nigam\n",
            "Predictions:-\n",
            "Singer: Armaan Malik\n",
            "Confidence: 0.4\n",
            "Singer: Raahat Fateh Ali Khan\n",
            "Confidence: 0.2\n",
            "\n",
            "Song: Zindagi Is Tarah Song \n",
            "Actual Singer: Sonu Nigam\n",
            "Predictions:-\n",
            "Singer: Armaan Malik\n",
            "Confidence: 0.6\n",
            "Singer: Arijit Singh\n",
            "Confidence: 0.2\n",
            "\n",
            "Song: Gamanisu Song \n",
            "Actual Singer: Sonu Nigam\n",
            "Predictions:-\n",
            "Singer: Sonu Nigam\n",
            "Confidence: 0.8\n",
            "Singer: Armaan Malik\n",
            "Confidence: 0.2\n",
            "\n",
            "Song: Deewane Hoke Hum Song \n",
            "Actual Singer: Sonu Nigam\n",
            "Predictions:-\n",
            "Singer: Arijit Singh\n",
            "Confidence: 0.8\n",
            "Singer: Armaan Malik\n",
            "Confidence: 0.2\n",
            "\n",
            "Song: Ganaraj Tu Song \n",
            "Actual Singer: Sunidhi Chauhan\n",
            "Predictions:-\n",
            "Singer: Armaan Malik\n",
            "Confidence: 0.6\n",
            "Singer: Arijit Singh\n",
            "Confidence: 0.2\n",
            "\n",
            "Song: Dil Mein Jaagi Dhadkan Aise (Sur (The Melody Of Life) _ Soundtrack Version) Song \n",
            "Actual Singer: Sunidhi Chauhan\n",
            "Predictions:-\n",
            "Singer: Sunidhi Chauhan\n",
            "Confidence: 0.4\n",
            "Singer: Atif Aslam\n",
            "Confidence: 0.2\n",
            "\n",
            "Song: Aaja Nachle Song \n",
            "Actual Singer: Sunidhi Chauhan\n",
            "Predictions:-\n",
            "Singer: Shreya Ghoshal\n",
            "Confidence: 0.4\n",
            "Singer: Arijit Singh\n",
            "Confidence: 0.4\n",
            "\n",
            "Song: Piku Song \n",
            "Actual Singer: Sunidhi Chauhan\n",
            "Predictions:-\n",
            "Singer: Sunidhi Chauhan\n",
            "Confidence: 0.4\n",
            "Singer: Raahat Fateh Ali Khan\n",
            "Confidence: 0.2\n",
            "\n",
            "Song: Jind Mahi Song \n",
            "Actual Singer: Sunidhi Chauhan\n",
            "Predictions:-\n",
            "Singer: Raahat Fateh Ali Khan\n",
            "Confidence: 0.4\n",
            "Singer: Sunidhi Chauhan\n",
            "Confidence: 0.2\n",
            "\n",
            "Song: Aye Dil Song \n",
            "Actual Singer: Sunidhi Chauhan\n",
            "Predictions:-\n",
            "Singer: Sunidhi Chauhan\n",
            "Confidence: 0.6\n",
            "Singer: Honey Singh\n",
            "Confidence: 0.2\n",
            "\n",
            "Correct majority vote songs: 28\n",
            "Accuracy: 0.5714285714285714\n"
          ],
          "name": "stdout"
        }
      ]
    },
    {
      "cell_type": "code",
      "metadata": {
        "id": "u60VgDiEfJ97",
        "colab_type": "code",
        "colab": {}
      },
      "source": [
        ""
      ],
      "execution_count": 0,
      "outputs": []
    }
  ]
}