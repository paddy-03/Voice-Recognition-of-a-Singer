{
 "cells": [
  {
   "cell_type": "code",
   "execution_count": 32,
   "metadata": {},
   "outputs": [],
   "source": [
    "import os,subprocess"
   ]
  },
  {
   "cell_type": "code",
   "execution_count": 33,
   "metadata": {},
   "outputs": [],
   "source": [
    "dir = \"/media/swarup03/Windows8_OS/Users/SWARUP/Desktop/Songs_Database\"\n",
    "destDir = \"/home/swarup03/Study_Material\"\n",
    "folders = os.listdir(dir)"
   ]
  },
  {
   "cell_type": "code",
   "execution_count": 35,
   "metadata": {},
   "outputs": [],
   "source": [
    "#run once for .mp3 and once for .MP3\n",
    "for folder in folders:\n",
    "    currDir = dir+\"/\"+folder\n",
    "    #print(os.listdir(currDir))\n",
    "    destDir = \"/home/swarup03/Study_Material/Songs_Dataset/\"+folder\n",
    "    for file in os.listdir(currDir):\n",
    "        name = file[:file.rfind(\".\")]\n",
    "        #print(currDir+\"/\"+name+\".mp3\")\n",
    "        subprocess.run([\"ffmpeg\", \"-i\", currDir+\"/\"+name+\".MP3\",  destDir+\"/\"+name+\".wav\"])"
   ]
  },
  {
   "cell_type": "code",
   "execution_count": null,
   "metadata": {},
   "outputs": [],
   "source": []
  }
 ],
 "metadata": {
  "kernelspec": {
   "display_name": "Python 3",
   "language": "python",
   "name": "python3"
  },
  "language_info": {
   "codemirror_mode": {
    "name": "ipython",
    "version": 3
   },
   "file_extension": ".py",
   "mimetype": "text/x-python",
   "name": "python",
   "nbconvert_exporter": "python",
   "pygments_lexer": "ipython3",
   "version": "3.6.7"
  }
 },
 "nbformat": 4,
 "nbformat_minor": 2
}
